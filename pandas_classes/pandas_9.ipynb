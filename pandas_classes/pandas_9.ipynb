{
 "cells": [
  {
   "cell_type": "markdown",
   "metadata": {},
   "source": [
    "Cleaning Data - Casting Datatypes and Handling Missing Values"
   ]
  },
  {
   "cell_type": "code",
   "execution_count": 2,
   "metadata": {},
   "outputs": [],
   "source": [
    "import pandas as pd\n",
    "import numpy as np"
   ]
  },
  {
   "cell_type": "code",
   "execution_count": 4,
   "metadata": {},
   "outputs": [
    {
     "data": {
      "text/html": [
       "<div>\n",
       "<style scoped>\n",
       "    .dataframe tbody tr th:only-of-type {\n",
       "        vertical-align: middle;\n",
       "    }\n",
       "\n",
       "    .dataframe tbody tr th {\n",
       "        vertical-align: top;\n",
       "    }\n",
       "\n",
       "    .dataframe thead th {\n",
       "        text-align: right;\n",
       "    }\n",
       "</style>\n",
       "<table border=\"1\" class=\"dataframe\">\n",
       "  <thead>\n",
       "    <tr style=\"text-align: right;\">\n",
       "      <th></th>\n",
       "      <th>first</th>\n",
       "      <th>last</th>\n",
       "      <th>email</th>\n",
       "      <th>age</th>\n",
       "    </tr>\n",
       "  </thead>\n",
       "  <tbody>\n",
       "    <tr>\n",
       "      <th>0</th>\n",
       "      <td>Anish</td>\n",
       "      <td>Khadka</td>\n",
       "      <td>anishramish56@gmail.com</td>\n",
       "      <td>23</td>\n",
       "    </tr>\n",
       "    <tr>\n",
       "      <th>1</th>\n",
       "      <td>Ramish</td>\n",
       "      <td>Mainali</td>\n",
       "      <td>mainaliramish89@gmail.com</td>\n",
       "      <td>24</td>\n",
       "    </tr>\n",
       "    <tr>\n",
       "      <th>2</th>\n",
       "      <td>Samish</td>\n",
       "      <td>Shrestha</td>\n",
       "      <td>shresthasamish28@gmail.com</td>\n",
       "      <td>22</td>\n",
       "    </tr>\n",
       "    <tr>\n",
       "      <th>3</th>\n",
       "      <td>Bamish</td>\n",
       "      <td>Karki</td>\n",
       "      <td>bamishkarki819@gmail.com</td>\n",
       "      <td>26</td>\n",
       "    </tr>\n",
       "    <tr>\n",
       "      <th>4</th>\n",
       "      <td>Bamish</td>\n",
       "      <td>Mainali</td>\n",
       "      <td>bamishmainali78@gmail.com</td>\n",
       "      <td>27</td>\n",
       "    </tr>\n",
       "    <tr>\n",
       "      <th>5</th>\n",
       "      <td>NaN</td>\n",
       "      <td>NaN</td>\n",
       "      <td>None</td>\n",
       "      <td>None</td>\n",
       "    </tr>\n",
       "    <tr>\n",
       "      <th>6</th>\n",
       "      <td>None</td>\n",
       "      <td>NaN</td>\n",
       "      <td>NaN</td>\n",
       "      <td>None</td>\n",
       "    </tr>\n",
       "    <tr>\n",
       "      <th>7</th>\n",
       "      <td>NA</td>\n",
       "      <td>Missing</td>\n",
       "      <td>Missing</td>\n",
       "      <td>Missing</td>\n",
       "    </tr>\n",
       "  </tbody>\n",
       "</table>\n",
       "</div>"
      ],
      "text/plain": [
       "    first      last                       email      age\n",
       "0   Anish    Khadka     anishramish56@gmail.com       23\n",
       "1  Ramish   Mainali   mainaliramish89@gmail.com       24\n",
       "2  Samish  Shrestha  shresthasamish28@gmail.com       22\n",
       "3  Bamish     Karki    bamishkarki819@gmail.com       26\n",
       "4  Bamish   Mainali   bamishmainali78@gmail.com       27\n",
       "5     NaN       NaN                        None     None\n",
       "6    None       NaN                         NaN     None\n",
       "7      NA   Missing                     Missing  Missing"
      ]
     },
     "execution_count": 4,
     "metadata": {},
     "output_type": "execute_result"
    }
   ],
   "source": [
    "# Working with example dataframe\n",
    "people = {\n",
    "    \"first\" : [\"Anish\", \"Ramish\", \"Samish\", \"Bamish\", \"Bamish\", np.nan, None, 'NA'],\n",
    "    \"last\" : [\"Khadka\", \"Mainali\", \"Shrestha\", \"Karki\", \"Mainali\", np.nan, np.nan, 'Missing'],\n",
    "    \"email\" : [\"anishramish56@gmail.com\", \"mainaliramish89@gmail.com\", \n",
    "               \"shresthasamish28@gmail.com\", \"bamishkarki819@gmail.com\",\n",
    "               \"bamishmainali78@gmail.com\", None, np.nan, 'Missing'],\n",
    "    \"age\": ['23', '24', '22', '26', '27', None, None, 'Missing']\n",
    "\n",
    "}\n",
    "mydf = pd.DataFrame(people)\n",
    "mydf"
   ]
  },
  {
   "cell_type": "code",
   "execution_count": null,
   "metadata": {},
   "outputs": [],
   "source": []
  }
 ],
 "metadata": {
  "kernelspec": {
   "display_name": "sansui",
   "language": "python",
   "name": "sansui"
  },
  "language_info": {
   "codemirror_mode": {
    "name": "ipython",
    "version": 3
   },
   "file_extension": ".py",
   "mimetype": "text/x-python",
   "name": "python",
   "nbconvert_exporter": "python",
   "pygments_lexer": "ipython3",
   "version": "3.8.17"
  }
 },
 "nbformat": 4,
 "nbformat_minor": 2
}
