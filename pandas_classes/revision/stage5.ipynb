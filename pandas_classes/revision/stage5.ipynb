{
 "cells": [
  {
   "cell_type": "markdown",
   "id": "5c652396",
   "metadata": {},
   "source": [
    "✅ Stage 5: Modules and Packages\n",
    "    \n",
    "    ✅ Importing modules (import, from ... import)\n",
    "    \n",
    "    ✅ Common modules: math, random, datetime, os, sys\n",
    "    \n",
    "    ✅ Creating your own module\n",
    "    \n",
    "    ✅ Using pip to install packages"
   ]
  },
  {
   "cell_type": "markdown",
   "id": "3b8c47cb",
   "metadata": {},
   "source": []
  }
 ],
 "metadata": {
  "kernelspec": {
   "display_name": "sansui",
   "language": "python",
   "name": "python3"
  },
  "language_info": {
   "name": "python",
   "version": "3.8.17"
  }
 },
 "nbformat": 4,
 "nbformat_minor": 5
}
