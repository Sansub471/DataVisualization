{
 "cells": [
  {
   "cell_type": "markdown",
   "id": "5c652396",
   "metadata": {},
   "source": [
    "✅ Stage 5: Modules and Packages\n",
    "    \n",
    "    ✅ Importing modules (import, from ... import)\n",
    "    \n",
    "    ✅ Common modules: math, random, datetime, os, sys\n",
    "    \n",
    "    ✅ Creating your own module\n",
    "    \n",
    "    ✅ Using pip to install packages"
   ]
  },
  {
   "cell_type": "markdown",
   "id": "3b8c47cb",
   "metadata": {},
   "source": [
    "A module is a file containing Python definitions and statements, usually .py file."
   ]
  },
  {
   "cell_type": "markdown",
   "id": "33183c87",
   "metadata": {},
   "source": [
    "Basic importing technique :\n",
    "\n",
    "import module_name\n",
    "\n",
    "import module_name as alis\n",
    "\n",
    "from module_name import specific_function\n",
    "\n",
    "from module_name import*  # import everything"
   ]
  },
  {
   "cell_type": "markdown",
   "id": "7138ff7b",
   "metadata": {},
   "source": [
    "Common python modules : math, randon, datetime, os, sys"
   ]
  },
  {
   "cell_type": "markdown",
   "id": "a8a08506",
   "metadata": {},
   "source": [
    "Using __name__ == \"__main__\" to make modules both executables and importable"
   ]
  },
  {
   "cell_type": "markdown",
   "id": "1b059c0a",
   "metadata": {},
   "source": [
    "Module vs Package in Python \n",
    "\n",
    "| Feature        | **Module**                                                                           | **Package**                                                                     |\n",
    "| -------------- | ------------------------------------------------------------------------------------ | ------------------------------------------------------------------------------- |\n",
    "| **Definition** | A **single `.py` file** containing Python code (functions, variables, classes, etc.) | A **folder/directory** that contains multiple modules and an `__init__.py` file |\n",
    "| **Use case**   | To organize reusable code in one file                                                | To organize multiple related modules together                                   |\n",
    "| **Importing**  | `import module_name`                                                                 | `import package.module_name`                                                    |\n",
    "| **Example**    | `math`, `random`, `my_module.py`                                                     | `numpy`, `os`, or your own package like `utils/`                                |\n",
    "| **Structure**  | Just one `.py` file                                                                  | Folder with one or more `.py` files + `__init__.py`                             |\n"
   ]
  },
  {
   "cell_type": "markdown",
   "id": "327e4730",
   "metadata": {},
   "source": [
    "For creating your custom package, keep the necessary python files (modules) inside the folder and creat __init__.py file inside that folder."
   ]
  },
  {
   "cell_type": "markdown",
   "id": "e8f8837e",
   "metadata": {},
   "source": []
  }
 ],
 "metadata": {
  "kernelspec": {
   "display_name": "sansui",
   "language": "python",
   "name": "python3"
  },
  "language_info": {
   "name": "python",
   "version": "3.8.17"
  }
 },
 "nbformat": 4,
 "nbformat_minor": 5
}
