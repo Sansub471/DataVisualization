{
 "cells": [
  {
   "cell_type": "markdown",
   "id": "b5ef480a",
   "metadata": {},
   "source": [
    "2. Control Flow"
   ]
  },
  {
   "cell_type": "code",
   "execution_count": 1,
   "id": "dd1667ac",
   "metadata": {},
   "outputs": [
    {
     "name": "stdout",
     "output_type": "stream",
     "text": [
      "True\n"
     ]
    }
   ],
   "source": [
    "num = 34\n",
    "if(num > 20):\n",
    "    print(True)"
   ]
  },
  {
   "cell_type": "code",
   "execution_count": 2,
   "id": "99be2cab",
   "metadata": {},
   "outputs": [
    {
     "name": "stdout",
     "output_type": "stream",
     "text": [
      "Positive\n"
     ]
    }
   ],
   "source": [
    "if(num > 0):\n",
    "    print(\"Positive\")\n",
    "elif(num < 0):\n",
    "    print(\"Negative\")\n",
    "else:\n",
    "    print(\"Zero\")"
   ]
  },
  {
   "cell_type": "code",
   "execution_count": 3,
   "id": "12669de2",
   "metadata": {},
   "outputs": [
    {
     "name": "stdout",
     "output_type": "stream",
     "text": [
      "Pass\n"
     ]
    }
   ],
   "source": [
    "# nested condition\n",
    "if(num >= 0 ):\n",
    "    if(num >= 32):\n",
    "        print(\"Pass\")\n",
    "    else:\n",
    "        print(\"Fail\")\n",
    "else:\n",
    "    print(\"Invalid\")"
   ]
  },
  {
   "cell_type": "code",
   "execution_count": 4,
   "id": "00cc950a",
   "metadata": {},
   "outputs": [
    {
     "name": "stdout",
     "output_type": "stream",
     "text": [
      "0\n",
      "1\n",
      "2\n",
      "3\n",
      "4\n"
     ]
    }
   ],
   "source": [
    "for i in range(0, 5):\n",
    "    print(i)"
   ]
  },
  {
   "cell_type": "code",
   "execution_count": 5,
   "id": "287c7cb3",
   "metadata": {},
   "outputs": [
    {
     "name": "stdout",
     "output_type": "stream",
     "text": [
      "34\n",
      "17\n",
      "8\n",
      "4\n",
      "2\n",
      "1\n"
     ]
    }
   ],
   "source": [
    "while(num > 0):\n",
    "    print(num)\n",
    "    num = num // 2"
   ]
  },
  {
   "cell_type": "code",
   "execution_count": 6,
   "id": "9756e816",
   "metadata": {},
   "outputs": [],
   "source": [
    "# Looping through strings, lists, and dictionaries\n",
    "text = \"PracticeMakesPerfectEveryday\"\n",
    "\n",
    "students = {\n",
    "    'S1': 'Alice', 'S2': 'Bob', 'S3': 'Charlie', 'S4': 'David', 'S5': 'Eva',\n",
    "    'S6': 'Frank', 'S7': 'Grace', 'S8': 'Hannah', 'S9': 'Ian', 'S10': 'Jane',\n",
    "    'S11': 'Kyle', 'S12': 'Liam', 'S13': 'Mona', 'S14': 'Nate', 'S15': 'Olive',\n",
    "    'S16': 'Paul', 'S17': 'Quinn', 'S18': 'Rose', 'S19': 'Sam', 'S20': 'Tina'\n",
    "}\n",
    "\n",
    "mixed_list = [\n",
    "    12, 3.14, 'hello', True, None, [1, 2], {'a': 1}, (5, 6), 99, 'world',\n",
    "    False, 0, 100, 'Python', 8.8, 'GPT', {1, 2, 3}, 42, 'looping', -7\n",
    "]"
   ]
  },
  {
   "cell_type": "code",
   "execution_count": 7,
   "id": "56a8dfdd",
   "metadata": {},
   "outputs": [
    {
     "name": "stdout",
     "output_type": "stream",
     "text": [
      "P\n",
      "r\n",
      "a\n",
      "c\n",
      "t\n",
      "i\n",
      "c\n",
      "e\n",
      "M\n",
      "a\n",
      "k\n",
      "e\n",
      "s\n",
      "P\n",
      "e\n",
      "r\n",
      "f\n",
      "e\n",
      "c\n",
      "t\n",
      "E\n",
      "v\n",
      "e\n",
      "r\n",
      "y\n",
      "d\n",
      "a\n",
      "y\n"
     ]
    }
   ],
   "source": [
    "for ch in text:\n",
    "    print(ch)"
   ]
  },
  {
   "cell_type": "code",
   "execution_count": 8,
   "id": "8223caf4",
   "metadata": {},
   "outputs": [
    {
     "name": "stdout",
     "output_type": "stream",
     "text": [
      "S1 : Alice\n",
      "S2 : Bob\n",
      "S3 : Charlie\n",
      "S4 : David\n",
      "S5 : Eva\n",
      "S6 : Frank\n",
      "S7 : Grace\n",
      "S8 : Hannah\n",
      "S9 : Ian\n",
      "S10 : Jane\n",
      "S11 : Kyle\n",
      "S12 : Liam\n",
      "S13 : Mona\n",
      "S14 : Nate\n",
      "S15 : Olive\n",
      "S16 : Paul\n",
      "S17 : Quinn\n",
      "S18 : Rose\n",
      "S19 : Sam\n",
      "S20 : Tina\n"
     ]
    }
   ],
   "source": [
    "for key, val in students.items():\n",
    "    print(f'{key} : {val}')"
   ]
  },
  {
   "cell_type": "code",
   "execution_count": 9,
   "id": "2face909",
   "metadata": {},
   "outputs": [
    {
     "name": "stdout",
     "output_type": "stream",
     "text": [
      "12\n",
      "3.14\n",
      "hello\n",
      "True\n",
      "None\n",
      "[1, 2]\n",
      "{'a': 1}\n",
      "(5, 6)\n",
      "99\n",
      "world\n",
      "False\n",
      "0\n",
      "100\n",
      "Python\n",
      "8.8\n",
      "GPT\n",
      "{1, 2, 3}\n",
      "42\n",
      "looping\n",
      "-7\n"
     ]
    }
   ],
   "source": [
    "for elem in mixed_list:\n",
    "    print(elem)"
   ]
  },
  {
   "cell_type": "code",
   "execution_count": 17,
   "id": "b202f7df",
   "metadata": {},
   "outputs": [],
   "source": [
    "# Stage 3 will be more on Data Structures.\n",
    "# List functions\n",
    "import numpy as np\n",
    "\n",
    "mixed_list = [\n",
    "    12, 3.14, 'hello', True, None, [1, 2], {'a': 1}, (5, 6), 99, 'world',\n",
    "    False, 0, 100, 'Python', 8.8, 'GPT', {1, 2, 3}, 42, 'looping', -7,\n",
    "    True, False, None, np.nan, \"----\", (34,4,2,2), [3,4]\n",
    "]"
   ]
  },
  {
   "cell_type": "code",
   "execution_count": 18,
   "id": "3eb41b06",
   "metadata": {},
   "outputs": [
    {
     "data": {
      "text/plain": [
       "[12,\n",
       " 3.14,\n",
       " 'hello',\n",
       " True,\n",
       " None,\n",
       " [1, 2],\n",
       " {'a': 1},\n",
       " (5, 6),\n",
       " 99,\n",
       " 'world',\n",
       " False,\n",
       " 0,\n",
       " 100,\n",
       " 'Python',\n",
       " 8.8,\n",
       " 'GPT',\n",
       " {1, 2, 3},\n",
       " 42,\n",
       " 'looping',\n",
       " -7,\n",
       " True,\n",
       " False,\n",
       " None,\n",
       " nan,\n",
       " '----',\n",
       " (34, 4, 2, 2),\n",
       " [3, 4],\n",
       " 'The append']"
      ]
     },
     "execution_count": 18,
     "metadata": {},
     "output_type": "execute_result"
    }
   ],
   "source": [
    "mixed_list.append(\"The append\")\n",
    "mixed_list"
   ]
  },
  {
   "cell_type": "code",
   "execution_count": 19,
   "id": "a3f21c0a",
   "metadata": {},
   "outputs": [
    {
     "data": {
      "text/plain": [
       "'----'"
      ]
     },
     "execution_count": 19,
     "metadata": {},
     "output_type": "execute_result"
    }
   ],
   "source": [
    "mixed_list[-4]"
   ]
  },
  {
   "cell_type": "code",
   "execution_count": 20,
   "id": "c8e7abc0",
   "metadata": {},
   "outputs": [
    {
     "data": {
      "text/plain": [
       "12"
      ]
     },
     "execution_count": 20,
     "metadata": {},
     "output_type": "execute_result"
    }
   ],
   "source": [
    "mixed_list[0]"
   ]
  },
  {
   "cell_type": "code",
   "execution_count": 21,
   "id": "66e86ecb",
   "metadata": {},
   "outputs": [
    {
     "data": {
      "text/plain": [
       "[12, 3.14]"
      ]
     },
     "execution_count": 21,
     "metadata": {},
     "output_type": "execute_result"
    }
   ],
   "source": [
    "mixed_list[0:2]"
   ]
  },
  {
   "cell_type": "code",
   "execution_count": null,
   "id": "8dae6447",
   "metadata": {},
   "outputs": [
    {
     "data": {
      "text/plain": [
       "['The append',\n",
       " [3, 4],\n",
       " (34, 4, 2, 2),\n",
       " '----',\n",
       " nan,\n",
       " None,\n",
       " False,\n",
       " True,\n",
       " -7,\n",
       " 'looping',\n",
       " 42,\n",
       " {1, 2, 3},\n",
       " 'GPT',\n",
       " 8.8,\n",
       " 'Python',\n",
       " 100,\n",
       " 0,\n",
       " False,\n",
       " 'world',\n",
       " 99,\n",
       " (5, 6),\n",
       " {'a': 1},\n",
       " [1, 2],\n",
       " None,\n",
       " True,\n",
       " 'hello',\n",
       " 3.14,\n",
       " 12]"
      ]
     },
     "execution_count": 22,
     "metadata": {},
     "output_type": "execute_result"
    }
   ],
   "source": [
    "mixed_list[::-1] # reverse a list"
   ]
  },
  {
   "cell_type": "code",
   "execution_count": 23,
   "id": "1a5d7b82",
   "metadata": {},
   "outputs": [
    {
     "data": {
      "text/plain": [
       "[12,\n",
       " 'hello',\n",
       " None,\n",
       " {'a': 1},\n",
       " 99,\n",
       " False,\n",
       " 100,\n",
       " 8.8,\n",
       " {1, 2, 3},\n",
       " 'looping',\n",
       " True,\n",
       " None,\n",
       " '----',\n",
       " [3, 4]]"
      ]
     },
     "execution_count": 23,
     "metadata": {},
     "output_type": "execute_result"
    }
   ],
   "source": [
    "mixed_list[::2]"
   ]
  },
  {
   "cell_type": "code",
   "execution_count": 24,
   "id": "4d2c138e",
   "metadata": {},
   "outputs": [],
   "source": [
    "# Method\tDescription\n",
    "# append()\tAdds an item to the end of the list\n",
    "# extend()\tAdds items of lists and other iterables to the end of the list\n",
    "# insert()\tInserts an item at the specified index\n",
    "# remove()\tRemoves the specified value from the list\n",
    "# pop()\tReturns and removes item present at the given index\n",
    "# clear()\tRemoves all items from the list\n",
    "# index()\tReturns the index of the first matched item\n",
    "# count()\tReturns the count of the specified item in the list\n",
    "# sort()\tSorts the list in ascending/descending order\n",
    "# reverse()\tReverses the item of the list\n",
    "# copy()\tReturns the shallow copy of the list"
   ]
  },
  {
   "cell_type": "code",
   "execution_count": 28,
   "id": "9f82e53a",
   "metadata": {},
   "outputs": [
    {
     "name": "stdout",
     "output_type": "stream",
     "text": [
      "[1, 2, 3, 4, 4, 5, 2, 4, 'a', 'e', 'i', 'o', 'u', 'P', 'y', 't', 'h', 'o', 'n']\n"
     ]
    }
   ],
   "source": [
    "name = \"Python\"\n",
    "mylist = [1,2,3,4,4,5,2,4,'a', 'e','i','o','u']\n",
    "mylist.extend(name)\n",
    "print(mylist)"
   ]
  },
  {
   "cell_type": "code",
   "execution_count": 27,
   "id": "28862447",
   "metadata": {},
   "outputs": [
    {
     "name": "stdout",
     "output_type": "stream",
     "text": [
      "[1, 2, 3, 4, 4, 5, 2, 4, 'a', 'e', 'i', 'o', 'u', 'P', 'y', 't', 'h', 'o', 'n', 77, 7, 17, 77, 7, 17]\n"
     ]
    }
   ],
   "source": [
    "l2 = [77, 7, 17]\n",
    "mylist.extend(l2)\n",
    "print(mylist)"
   ]
  },
  {
   "cell_type": "code",
   "execution_count": 29,
   "id": "80085308",
   "metadata": {},
   "outputs": [
    {
     "name": "stdout",
     "output_type": "stream",
     "text": [
      "[1, 2, 'index2', 3, 4, 4, 5, 2, 4, 'a', 'e', 'i', 'o', 'u', 'P', 'y', 't', 'h', 'o', 'n']\n"
     ]
    }
   ],
   "source": [
    "mylist.insert(2, 'index2')\n",
    "print(mylist)"
   ]
  },
  {
   "cell_type": "code",
   "execution_count": 30,
   "id": "eeb74040",
   "metadata": {},
   "outputs": [
    {
     "name": "stdout",
     "output_type": "stream",
     "text": [
      "[1, 2, 'index2', 3, 4, 5, 2, 4, 'a', 'e', 'i', 'o', 'u', 'P', 'y', 't', 'h', 'o', 'n']\n"
     ]
    }
   ],
   "source": [
    "mylist.remove(4)\n",
    "print(mylist)"
   ]
  },
  {
   "cell_type": "code",
   "execution_count": 31,
   "id": "80ab04f7",
   "metadata": {},
   "outputs": [
    {
     "name": "stdout",
     "output_type": "stream",
     "text": [
      "[2, 'index2', 3, 4, 5, 2, 4, 'a', 'e', 'i', 'o', 'u', 'P', 'y', 't', 'h', 'o', 'n']\n"
     ]
    }
   ],
   "source": [
    "mylist.pop(0)\n",
    "print(mylist)"
   ]
  },
  {
   "cell_type": "code",
   "execution_count": 32,
   "id": "5748a5a3",
   "metadata": {},
   "outputs": [
    {
     "data": {
      "text/plain": [
       "2"
      ]
     },
     "execution_count": 32,
     "metadata": {},
     "output_type": "execute_result"
    }
   ],
   "source": [
    "mylist.index(3)"
   ]
  },
  {
   "cell_type": "code",
   "execution_count": 34,
   "id": "aa08f317",
   "metadata": {},
   "outputs": [
    {
     "data": {
      "text/plain": [
       "2"
      ]
     },
     "execution_count": 34,
     "metadata": {},
     "output_type": "execute_result"
    }
   ],
   "source": [
    "mylist.count('o')"
   ]
  },
  {
   "cell_type": "code",
   "execution_count": 40,
   "id": "1b25dc2a",
   "metadata": {},
   "outputs": [
    {
     "name": "stdout",
     "output_type": "stream",
     "text": [
      "['n', 'o', 'h', 't', 'y', 'P', 'u', 'o', 'i', 'e', 'a', 4, 2, 5, 4, 3, 'index2', 2]\n"
     ]
    }
   ],
   "source": [
    "mylist.reverse()\n",
    "print(mylist)"
   ]
  },
  {
   "cell_type": "code",
   "execution_count": 42,
   "id": "7c3bf495",
   "metadata": {},
   "outputs": [
    {
     "name": "stdout",
     "output_type": "stream",
     "text": [
      "['n', 'o', 'h', 't', 'y', 'P', 'u', 'o', 'i', 'e', 'a', 4, 2, 5, 4, 3, 'index2', 2]\n"
     ]
    }
   ],
   "source": [
    "mylist.reverse()\n",
    "newlist = mylist.copy()\n",
    "print(newlist)"
   ]
  },
  {
   "cell_type": "code",
   "execution_count": 44,
   "id": "bdfcf77e",
   "metadata": {},
   "outputs": [
    {
     "data": {
      "text/plain": [
       "[]"
      ]
     },
     "execution_count": 44,
     "metadata": {},
     "output_type": "execute_result"
    }
   ],
   "source": [
    "mylist.clear()\n",
    "mylist"
   ]
  },
  {
   "cell_type": "code",
   "execution_count": 46,
   "id": "6b4346e9",
   "metadata": {},
   "outputs": [
    {
     "name": "stdout",
     "output_type": "stream",
     "text": [
      "['n', 'o', 'h', 't', 'y', 'P', 'u', 'o', 'i', 'e', 'a', 4, 2, 5, 4, 3, 'index2', 2]\n"
     ]
    }
   ],
   "source": [
    "print(newlist)"
   ]
  },
  {
   "cell_type": "code",
   "execution_count": null,
   "id": "f0083557",
   "metadata": {},
   "outputs": [],
   "source": []
  }
 ],
 "metadata": {
  "kernelspec": {
   "display_name": "sansui",
   "language": "python",
   "name": "python3"
  },
  "language_info": {
   "codemirror_mode": {
    "name": "ipython",
    "version": 3
   },
   "file_extension": ".py",
   "mimetype": "text/x-python",
   "name": "python",
   "nbconvert_exporter": "python",
   "pygments_lexer": "ipython3",
   "version": "3.8.17"
  }
 },
 "nbformat": 4,
 "nbformat_minor": 5
}
