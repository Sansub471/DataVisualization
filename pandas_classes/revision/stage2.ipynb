{
 "cells": [
  {
   "cell_type": "markdown",
   "id": "b5ef480a",
   "metadata": {},
   "source": [
    "2. Control Flow"
   ]
  },
  {
   "cell_type": "code",
   "execution_count": 1,
   "id": "dd1667ac",
   "metadata": {},
   "outputs": [
    {
     "name": "stdout",
     "output_type": "stream",
     "text": [
      "True\n"
     ]
    }
   ],
   "source": [
    "num = 34\n",
    "if(num > 20):\n",
    "    print(True)"
   ]
  },
  {
   "cell_type": "code",
   "execution_count": 2,
   "id": "99be2cab",
   "metadata": {},
   "outputs": [
    {
     "name": "stdout",
     "output_type": "stream",
     "text": [
      "Positive\n"
     ]
    }
   ],
   "source": [
    "if(num > 0):\n",
    "    print(\"Positive\")\n",
    "elif(num < 0):\n",
    "    print(\"Negative\")\n",
    "else:\n",
    "    print(\"Zero\")"
   ]
  },
  {
   "cell_type": "code",
   "execution_count": 4,
   "id": "12669de2",
   "metadata": {},
   "outputs": [
    {
     "name": "stdout",
     "output_type": "stream",
     "text": [
      "Pass\n"
     ]
    }
   ],
   "source": [
    "# nested condition\n",
    "if(num >= 0 ):\n",
    "    if(num >= 32):\n",
    "        print(\"Pass\")\n",
    "    else:\n",
    "        print(\"Fail\")\n",
    "else:\n",
    "    print(\"Invalid\")"
   ]
  },
  {
   "cell_type": "code",
   "execution_count": 5,
   "id": "00cc950a",
   "metadata": {},
   "outputs": [
    {
     "name": "stdout",
     "output_type": "stream",
     "text": [
      "0\n",
      "1\n",
      "2\n",
      "3\n",
      "4\n"
     ]
    }
   ],
   "source": [
    "for i in range(0, 5):\n",
    "    print(i)"
   ]
  },
  {
   "cell_type": "code",
   "execution_count": 6,
   "id": "287c7cb3",
   "metadata": {},
   "outputs": [
    {
     "name": "stdout",
     "output_type": "stream",
     "text": [
      "34\n",
      "17\n",
      "8\n",
      "4\n",
      "2\n",
      "1\n"
     ]
    }
   ],
   "source": [
    "while(num > 0):\n",
    "    print(num)\n",
    "    num = num // 2"
   ]
  },
  {
   "cell_type": "code",
   "execution_count": 2,
   "id": "9756e816",
   "metadata": {},
   "outputs": [],
   "source": [
    "# Looping through strings, lists, and dictionaries\n",
    "text = \"PracticeMakesPerfectEveryday\"\n",
    "\n",
    "students = {\n",
    "    'S1': 'Alice', 'S2': 'Bob', 'S3': 'Charlie', 'S4': 'David', 'S5': 'Eva',\n",
    "    'S6': 'Frank', 'S7': 'Grace', 'S8': 'Hannah', 'S9': 'Ian', 'S10': 'Jane',\n",
    "    'S11': 'Kyle', 'S12': 'Liam', 'S13': 'Mona', 'S14': 'Nate', 'S15': 'Olive',\n",
    "    'S16': 'Paul', 'S17': 'Quinn', 'S18': 'Rose', 'S19': 'Sam', 'S20': 'Tina'\n",
    "}\n",
    "\n",
    "mixed_list = [\n",
    "    12, 3.14, 'hello', True, None, [1, 2], {'a': 1}, (5, 6), 99, 'world',\n",
    "    False, 0, 100, 'Python', 8.8, 'GPT', {1, 2, 3}, 42, 'looping', -7\n",
    "]"
   ]
  },
  {
   "cell_type": "code",
   "execution_count": 3,
   "id": "56a8dfdd",
   "metadata": {},
   "outputs": [
    {
     "name": "stdout",
     "output_type": "stream",
     "text": [
      "P\n",
      "r\n",
      "a\n",
      "c\n",
      "t\n",
      "i\n",
      "c\n",
      "e\n",
      "M\n",
      "a\n",
      "k\n",
      "e\n",
      "s\n",
      "P\n",
      "e\n",
      "r\n",
      "f\n",
      "e\n",
      "c\n",
      "t\n",
      "E\n",
      "v\n",
      "e\n",
      "r\n",
      "y\n",
      "d\n",
      "a\n",
      "y\n"
     ]
    }
   ],
   "source": [
    "for ch in text:\n",
    "    print(ch)"
   ]
  },
  {
   "cell_type": "code",
   "execution_count": 5,
   "id": "8223caf4",
   "metadata": {},
   "outputs": [
    {
     "name": "stdout",
     "output_type": "stream",
     "text": [
      "S1 : Alice\n",
      "S2 : Bob\n",
      "S3 : Charlie\n",
      "S4 : David\n",
      "S5 : Eva\n",
      "S6 : Frank\n",
      "S7 : Grace\n",
      "S8 : Hannah\n",
      "S9 : Ian\n",
      "S10 : Jane\n",
      "S11 : Kyle\n",
      "S12 : Liam\n",
      "S13 : Mona\n",
      "S14 : Nate\n",
      "S15 : Olive\n",
      "S16 : Paul\n",
      "S17 : Quinn\n",
      "S18 : Rose\n",
      "S19 : Sam\n",
      "S20 : Tina\n"
     ]
    }
   ],
   "source": [
    "for key, val in students.items():\n",
    "    print(f'{key} : {val}')"
   ]
  },
  {
   "cell_type": "code",
   "execution_count": 6,
   "id": "2face909",
   "metadata": {},
   "outputs": [
    {
     "name": "stdout",
     "output_type": "stream",
     "text": [
      "12\n",
      "3.14\n",
      "hello\n",
      "True\n",
      "None\n",
      "[1, 2]\n",
      "{'a': 1}\n",
      "(5, 6)\n",
      "99\n",
      "world\n",
      "False\n",
      "0\n",
      "100\n",
      "Python\n",
      "8.8\n",
      "GPT\n",
      "{1, 2, 3}\n",
      "42\n",
      "looping\n",
      "-7\n"
     ]
    }
   ],
   "source": [
    "for elem in mixed_list:\n",
    "    print(elem)"
   ]
  },
  {
   "cell_type": "code",
   "execution_count": null,
   "id": "b202f7df",
   "metadata": {},
   "outputs": [],
   "source": [
    "# Stage 3 will be more on Data Structures."
   ]
  }
 ],
 "metadata": {
  "kernelspec": {
   "display_name": "sansui",
   "language": "python",
   "name": "python3"
  },
  "language_info": {
   "codemirror_mode": {
    "name": "ipython",
    "version": 3
   },
   "file_extension": ".py",
   "mimetype": "text/x-python",
   "name": "python",
   "nbconvert_exporter": "python",
   "pygments_lexer": "ipython3",
   "version": "3.8.17"
  }
 },
 "nbformat": 4,
 "nbformat_minor": 5
}
