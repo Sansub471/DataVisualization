{
 "cells": [
  {
   "cell_type": "markdown",
   "id": "9b6a9310",
   "metadata": {},
   "source": [
    "List and Dictionary Comprehension."
   ]
  },
  {
   "cell_type": "code",
   "execution_count": null,
   "id": "2f644ce5",
   "metadata": {},
   "outputs": [
    {
     "data": {
      "text/plain": [
       "[1, 2, 3, 4, 5, 6, 7, 8, 9]"
      ]
     },
     "execution_count": 1,
     "metadata": {},
     "output_type": "execute_result"
    }
   ],
   "source": [
    "# Basic sytax : \n",
    "# [expression for item in iterable if condition]\n",
    "# expression: The value to include in the new list.\n",
    "\n",
    "# item: The variable representing each element in the iterable.\n",
    "\n",
    "# iterable: A sequence (like a list, tuple, or range) to iterate over.\n",
    "\n",
    "# condition (optional): A filter that determines whether to include the item.\n",
    "\n",
    "\n",
    "# creating a list of numbers\n",
    "numbers = [x for x in range(1, 10)]\n",
    "numbers\n"
   ]
  },
  {
   "cell_type": "code",
   "execution_count": null,
   "id": "ae0efc7e",
   "metadata": {},
   "outputs": [
    {
     "data": {
      "text/plain": [
       "[2, 4, 6, 8, 10, 12, 14, 16, 18]"
      ]
     },
     "execution_count": 2,
     "metadata": {},
     "output_type": "execute_result"
    }
   ],
   "source": [
    "# Filtering out \n",
    "evens = [x for x in range(1, 20) if x % 2 == 0]\n",
    "evens "
   ]
  },
  {
   "cell_type": "code",
   "execution_count": null,
   "id": "920f0932",
   "metadata": {},
   "outputs": [
    {
     "name": "stdout",
     "output_type": "stream",
     "text": [
      "['Odd', 'Even', 'Odd', 'Even', 'Odd', 'Even', 'Odd', 'Even', 'Odd', 'Even', 'Odd', 'Even', 'Odd', 'Even', 'Odd', 'Even', 'Odd', 'Even', 'Odd']\n"
     ]
    }
   ],
   "source": [
    "# Applying conditional logic\n",
    "odds = ['Odd' if x % 2 != 0 else 'Even' for x in range(1, 20) ]\n",
    "print(odds)\n"
   ]
  },
  {
   "cell_type": "code",
   "execution_count": 5,
   "id": "247044b5",
   "metadata": {},
   "outputs": [
    {
     "name": "stdout",
     "output_type": "stream",
     "text": [
      "[-1, 2, -1, 4, -1, 6, -1, 8, -1, 10, -1, 12, -1, 14, -1, 16, -1, 18, -1]\n"
     ]
    }
   ],
   "source": [
    "evens = [x if x % 2 == 0 else -1 for x in range(1,20)]\n",
    "print(evens)"
   ]
  },
  {
   "cell_type": "code",
   "execution_count": null,
   "id": "e453aeb4",
   "metadata": {},
   "outputs": [],
   "source": []
  }
 ],
 "metadata": {
  "kernelspec": {
   "display_name": "sansui",
   "language": "python",
   "name": "python3"
  },
  "language_info": {
   "codemirror_mode": {
    "name": "ipython",
    "version": 3
   },
   "file_extension": ".py",
   "mimetype": "text/x-python",
   "name": "python",
   "nbconvert_exporter": "python",
   "pygments_lexer": "ipython3",
   "version": "3.8.17"
  }
 },
 "nbformat": 4,
 "nbformat_minor": 5
}
