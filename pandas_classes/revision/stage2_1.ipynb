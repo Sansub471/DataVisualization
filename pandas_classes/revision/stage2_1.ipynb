{
 "cells": [
  {
   "cell_type": "markdown",
   "id": "9b6a9310",
   "metadata": {},
   "source": [
    "List and Dictionary Comprehension."
   ]
  },
  {
   "cell_type": "code",
   "execution_count": null,
   "id": "2f644ce5",
   "metadata": {},
   "outputs": [
    {
     "data": {
      "text/plain": [
       "[1, 2, 3, 4, 5, 6, 7, 8, 9]"
      ]
     },
     "execution_count": 1,
     "metadata": {},
     "output_type": "execute_result"
    }
   ],
   "source": [
    "# Basic sytax : \n",
    "# [expression for item in iterable if condition]\n",
    "# expression: The value to include in the new list.\n",
    "\n",
    "# item: The variable representing each element in the iterable.\n",
    "\n",
    "# iterable: A sequence (like a list, tuple, or range) to iterate over.\n",
    "\n",
    "# condition (optional): A filter that determines whether to include the item.\n",
    "\n",
    "\n",
    "# creating a list of numbers\n",
    "numbers = [x for x in range(1, 10)]\n",
    "numbers\n"
   ]
  },
  {
   "cell_type": "code",
   "execution_count": null,
   "id": "ae0efc7e",
   "metadata": {},
   "outputs": [
    {
     "data": {
      "text/plain": [
       "[2, 4, 6, 8, 10, 12, 14, 16, 18]"
      ]
     },
     "execution_count": 2,
     "metadata": {},
     "output_type": "execute_result"
    }
   ],
   "source": [
    "# Filtering out \n",
    "evens = [x for x in range(1, 20) if x % 2 == 0]\n",
    "evens "
   ]
  },
  {
   "cell_type": "code",
   "execution_count": null,
   "id": "920f0932",
   "metadata": {},
   "outputs": [
    {
     "name": "stdout",
     "output_type": "stream",
     "text": [
      "['Odd', 'Even', 'Odd', 'Even', 'Odd', 'Even', 'Odd', 'Even', 'Odd', 'Even', 'Odd', 'Even', 'Odd', 'Even', 'Odd', 'Even', 'Odd', 'Even', 'Odd']\n"
     ]
    }
   ],
   "source": [
    "# Applying conditional logic\n",
    "odds = ['Odd' if x % 2 != 0 else 'Even' for x in range(1, 20) ]\n",
    "print(odds)\n"
   ]
  },
  {
   "cell_type": "code",
   "execution_count": 5,
   "id": "247044b5",
   "metadata": {},
   "outputs": [
    {
     "name": "stdout",
     "output_type": "stream",
     "text": [
      "[-1, 2, -1, 4, -1, 6, -1, 8, -1, 10, -1, 12, -1, 14, -1, 16, -1, 18, -1]\n"
     ]
    }
   ],
   "source": [
    "evens = [x if x % 2 == 0 else -1 for x in range(1,20)]\n",
    "print(evens)"
   ]
  },
  {
   "cell_type": "code",
   "execution_count": 6,
   "id": "e453aeb4",
   "metadata": {},
   "outputs": [
    {
     "name": "stdout",
     "output_type": "stream",
     "text": [
      "[(12, 12), (12, 24), (12, 36), (12, 48), (12, 60), (12, 72), (12, 84), (12, 96), (12, 108), (12, 120), (13, 13), (13, 26), (13, 39), (13, 52), (13, 65), (13, 78), (13, 91), (13, 104), (13, 117), (13, 130), (14, 14), (14, 28), (14, 42), (14, 56), (14, 70), (14, 84), (14, 98), (14, 112), (14, 126), (14, 140), (15, 15), (15, 30), (15, 45), (15, 60), (15, 75), (15, 90), (15, 105), (15, 120), (15, 135), (15, 150), (16, 16), (16, 32), (16, 48), (16, 64), (16, 80), (16, 96), (16, 112), (16, 128), (16, 144), (16, 160), (17, 17), (17, 34), (17, 51), (17, 68), (17, 85), (17, 102), (17, 119), (17, 136), (17, 153), (17, 170), (18, 18), (18, 36), (18, 54), (18, 72), (18, 90), (18, 108), (18, 126), (18, 144), (18, 162), (18, 180), (19, 19), (19, 38), (19, 57), (19, 76), (19, 95), (19, 114), (19, 133), (19, 152), (19, 171), (19, 190)]\n"
     ]
    }
   ],
   "source": [
    "# Nested loops in list comprehension\n",
    "table = [(x, x*y) for x in range(12,20) for y in range(1,11)]\n",
    "print(table)"
   ]
  },
  {
   "cell_type": "code",
   "execution_count": 7,
   "id": "ba03a8d0",
   "metadata": {},
   "outputs": [
    {
     "name": "stdout",
     "output_type": "stream",
     "text": [
      "[1, 2, 3, 4, 5, 6]\n"
     ]
    }
   ],
   "source": [
    "nested = [[1, 2], [3, 4], [5, 6]]\n",
    "flat = [num for sublist in nested for num in sublist]\n",
    "print(flat)  # Output: [1, 2, 3, 4, 5, 6]\n"
   ]
  },
  {
   "cell_type": "code",
   "execution_count": null,
   "id": "2473af9e",
   "metadata": {},
   "outputs": [],
   "source": []
  }
 ],
 "metadata": {
  "kernelspec": {
   "display_name": "sansui",
   "language": "python",
   "name": "python3"
  },
  "language_info": {
   "codemirror_mode": {
    "name": "ipython",
    "version": 3
   },
   "file_extension": ".py",
   "mimetype": "text/x-python",
   "name": "python",
   "nbconvert_exporter": "python",
   "pygments_lexer": "ipython3",
   "version": "3.8.17"
  }
 },
 "nbformat": 4,
 "nbformat_minor": 5
}
