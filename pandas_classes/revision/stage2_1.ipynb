{
 "cells": [
  {
   "cell_type": "markdown",
   "id": "9b6a9310",
   "metadata": {},
   "source": [
    "List and Dictionary Comprehension."
   ]
  },
  {
   "cell_type": "code",
   "execution_count": 1,
   "id": "2f644ce5",
   "metadata": {},
   "outputs": [
    {
     "data": {
      "text/plain": [
       "[1, 2, 3, 4, 5, 6, 7, 8, 9]"
      ]
     },
     "execution_count": 1,
     "metadata": {},
     "output_type": "execute_result"
    }
   ],
   "source": [
    "# Basic sytax : \n",
    "# [expression for item in iterable if condition]\n",
    "# expression: The value to include in the new list.\n",
    "\n",
    "# item: The variable representing each element in the iterable.\n",
    "\n",
    "# iterable: A sequence (like a list, tuple, or range) to iterate over.\n",
    "\n",
    "# condition (optional): A filter that determines whether to include the item.\n",
    "\n",
    "numbers = [x for x in range(1, 10)]\n",
    "numbers\n"
   ]
  },
  {
   "cell_type": "code",
   "execution_count": 2,
   "id": "ae0efc7e",
   "metadata": {},
   "outputs": [
    {
     "data": {
      "text/plain": [
       "[2, 4, 6, 8, 10, 12, 14, 16, 18]"
      ]
     },
     "execution_count": 2,
     "metadata": {},
     "output_type": "execute_result"
    }
   ],
   "source": [
    "evens = [x for x in range(1, 20) if x % 2 == 0]\n",
    "evens "
   ]
  },
  {
   "cell_type": "code",
   "execution_count": null,
   "id": "920f0932",
   "metadata": {},
   "outputs": [],
   "source": [
    "\n"
   ]
  }
 ],
 "metadata": {
  "kernelspec": {
   "display_name": "sansui",
   "language": "python",
   "name": "python3"
  },
  "language_info": {
   "codemirror_mode": {
    "name": "ipython",
    "version": 3
   },
   "file_extension": ".py",
   "mimetype": "text/x-python",
   "name": "python",
   "nbconvert_exporter": "python",
   "pygments_lexer": "ipython3",
   "version": "3.8.17"
  }
 },
 "nbformat": 4,
 "nbformat_minor": 5
}
