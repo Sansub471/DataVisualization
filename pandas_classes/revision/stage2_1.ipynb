{
 "cells": [
  {
   "cell_type": "markdown",
   "id": "9b6a9310",
   "metadata": {},
   "source": [
    "List and Dictionary Comprehension."
   ]
  },
  {
   "cell_type": "code",
   "execution_count": null,
   "id": "2f644ce5",
   "metadata": {},
   "outputs": [
    {
     "data": {
      "text/plain": [
       "[1, 2, 3, 4, 5, 6, 7, 8, 9]"
      ]
     },
     "execution_count": 1,
     "metadata": {},
     "output_type": "execute_result"
    }
   ],
   "source": [
    "# Basic sytax : \n",
    "# [expression for item in iterable if condition]\n",
    "# expression: The value to include in the new list.\n",
    "\n",
    "# item: The variable representing each element in the iterable.\n",
    "\n",
    "# iterable: A sequence (like a list, tuple, or range) to iterate over.\n",
    "\n",
    "# condition (optional): A filter that determines whether to include the item.\n",
    "\n",
    "\n",
    "# creating a list of numbers\n",
    "numbers = [x for x in range(1, 10)]\n",
    "numbers\n"
   ]
  },
  {
   "cell_type": "code",
   "execution_count": null,
   "id": "ae0efc7e",
   "metadata": {},
   "outputs": [
    {
     "data": {
      "text/plain": [
       "[2, 4, 6, 8, 10, 12, 14, 16, 18]"
      ]
     },
     "execution_count": 2,
     "metadata": {},
     "output_type": "execute_result"
    }
   ],
   "source": [
    "# Filtering out \n",
    "evens = [x for x in range(1, 20) if x % 2 == 0]\n",
    "evens "
   ]
  },
  {
   "cell_type": "code",
   "execution_count": null,
   "id": "920f0932",
   "metadata": {},
   "outputs": [
    {
     "name": "stdout",
     "output_type": "stream",
     "text": [
      "['Odd', 'Even', 'Odd', 'Even', 'Odd', 'Even', 'Odd', 'Even', 'Odd', 'Even', 'Odd', 'Even', 'Odd', 'Even', 'Odd', 'Even', 'Odd', 'Even', 'Odd']\n"
     ]
    }
   ],
   "source": [
    "# Applying conditional logic\n",
    "odds = ['Odd' if x % 2 != 0 else 'Even' for x in range(1, 20) ]\n",
    "print(odds)\n"
   ]
  },
  {
   "cell_type": "code",
   "execution_count": 5,
   "id": "247044b5",
   "metadata": {},
   "outputs": [
    {
     "name": "stdout",
     "output_type": "stream",
     "text": [
      "[-1, 2, -1, 4, -1, 6, -1, 8, -1, 10, -1, 12, -1, 14, -1, 16, -1, 18, -1]\n"
     ]
    }
   ],
   "source": [
    "evens = [x if x % 2 == 0 else -1 for x in range(1,20)]\n",
    "print(evens)"
   ]
  },
  {
   "cell_type": "code",
   "execution_count": 6,
   "id": "e453aeb4",
   "metadata": {},
   "outputs": [
    {
     "name": "stdout",
     "output_type": "stream",
     "text": [
      "[(12, 12), (12, 24), (12, 36), (12, 48), (12, 60), (12, 72), (12, 84), (12, 96), (12, 108), (12, 120), (13, 13), (13, 26), (13, 39), (13, 52), (13, 65), (13, 78), (13, 91), (13, 104), (13, 117), (13, 130), (14, 14), (14, 28), (14, 42), (14, 56), (14, 70), (14, 84), (14, 98), (14, 112), (14, 126), (14, 140), (15, 15), (15, 30), (15, 45), (15, 60), (15, 75), (15, 90), (15, 105), (15, 120), (15, 135), (15, 150), (16, 16), (16, 32), (16, 48), (16, 64), (16, 80), (16, 96), (16, 112), (16, 128), (16, 144), (16, 160), (17, 17), (17, 34), (17, 51), (17, 68), (17, 85), (17, 102), (17, 119), (17, 136), (17, 153), (17, 170), (18, 18), (18, 36), (18, 54), (18, 72), (18, 90), (18, 108), (18, 126), (18, 144), (18, 162), (18, 180), (19, 19), (19, 38), (19, 57), (19, 76), (19, 95), (19, 114), (19, 133), (19, 152), (19, 171), (19, 190)]\n"
     ]
    }
   ],
   "source": [
    "# Nested loops in list comprehension\n",
    "table = [(x, x*y) for x in range(12,20) for y in range(1,11)]\n",
    "print(table)"
   ]
  },
  {
   "cell_type": "code",
   "execution_count": 7,
   "id": "ba03a8d0",
   "metadata": {},
   "outputs": [
    {
     "name": "stdout",
     "output_type": "stream",
     "text": [
      "[1, 2, 3, 4, 5, 6]\n"
     ]
    }
   ],
   "source": [
    "nested = [[1, 2], [3, 4], [5, 6]]\n",
    "flat = [num for sublist in nested for num in sublist]\n",
    "print(flat)  # Output: [1, 2, 3, 4, 5, 6]\n"
   ]
  },
  {
   "cell_type": "code",
   "execution_count": 8,
   "id": "2473af9e",
   "metadata": {},
   "outputs": [],
   "source": [
    "# Dictionary comprehension\n",
    "# {key_expression: value_expression for item in iterable if condition}\n",
    "\n",
    "# key_expression: The expression for the key in the new dictionary.\n",
    "\n",
    "# value_expression: The expression for the value associated with the key.\n",
    "\n",
    "# item: The variable representing each element in the iterable.\n",
    "\n",
    "# iterable: A sequence to iterate over.\n",
    "\n",
    "# condition (optional): A filter that determines whether to include the item.\n"
   ]
  },
  {
   "cell_type": "code",
   "execution_count": 9,
   "id": "320e36dd",
   "metadata": {},
   "outputs": [
    {
     "name": "stdout",
     "output_type": "stream",
     "text": [
      "{1: 1, 2: 4, 3: 9, 4: 16, 5: 25, 6: 36, 7: 49, 8: 64, 9: 81}\n"
     ]
    }
   ],
   "source": [
    "# A dictionary of squares\n",
    "squares_dict = {x : x**2 for x in range(1,10)}\n",
    "print(squares_dict)"
   ]
  },
  {
   "cell_type": "code",
   "execution_count": 10,
   "id": "6cebbd83",
   "metadata": {},
   "outputs": [
    {
     "data": {
      "text/plain": [
       "25"
      ]
     },
     "execution_count": 10,
     "metadata": {},
     "output_type": "execute_result"
    }
   ],
   "source": [
    "squares_dict.get(5)"
   ]
  },
  {
   "cell_type": "code",
   "execution_count": 11,
   "id": "abda8b7d",
   "metadata": {},
   "outputs": [
    {
     "data": {
      "text/plain": [
       "81"
      ]
     },
     "execution_count": 11,
     "metadata": {},
     "output_type": "execute_result"
    }
   ],
   "source": [
    "squares_dict[9]"
   ]
  },
  {
   "cell_type": "code",
   "execution_count": 13,
   "id": "cb7d25fc",
   "metadata": {},
   "outputs": [
    {
     "name": "stdout",
     "output_type": "stream",
     "text": [
      "{2: 4, 4: 16, 6: 36, 8: 64, 10: 100, 12: 144, 14: 196, 16: 256, 18: 324}\n"
     ]
    }
   ],
   "source": [
    "# Filtering items based on conditions\n",
    "even_squares = {x : x**2 for x in range(1, 20) if x % 2 == 0}\n",
    "print(even_squares)"
   ]
  },
  {
   "cell_type": "code",
   "execution_count": 15,
   "id": "c3a881ca",
   "metadata": {},
   "outputs": [
    {
     "name": "stdout",
     "output_type": "stream",
     "text": [
      "{1: 'odd', 12: 'even', 23: 'odd', 34: 'even', 45: 'odd', 56: 'even', 67: 'odd', 78: 'even', 89: 'odd'}\n"
     ]
    }
   ],
   "source": [
    "# Using conditional logic in values\n",
    "parity = {x : ('even' if x % 2 == 0 else 'odd') for x in range(1, 100, 11)}\n",
    "print(parity)"
   ]
  },
  {
   "cell_type": "code",
   "execution_count": 18,
   "id": "9e202bdf",
   "metadata": {},
   "outputs": [
    {
     "name": "stdout",
     "output_type": "stream",
     "text": [
      "{0: {0: 0, 1: 0, 2: 0}, 1: {0: 0, 1: 1, 2: 2}, 2: {0: 0, 1: 2, 2: 4}}\n"
     ]
    }
   ],
   "source": [
    "# Nested dictionary comprehension\n",
    "table = {i : {j : i * j for j in range(0, 3)} for i in range(0,3)}\n",
    "print(table)"
   ]
  },
  {
   "cell_type": "code",
   "execution_count": 8,
   "id": "737ca127",
   "metadata": {},
   "outputs": [
    {
     "name": "stdout",
     "output_type": "stream",
     "text": [
      "[4, 16, 36, 64, 100, 144, 196, 256, 324, 400, 484, 576, 676, 784, 900, 1024, 1156, 1296, 1444, 1600, 1764, 1936, 2116, 2304, 2500]\n"
     ]
    }
   ],
   "source": [
    "# Questions : \n",
    "# Generate a list of the squares of all even numbers between 1 and 50 (inclusive) using list comprehension.\n",
    "squares = [x*x for x in range(2,51,2)]\n",
    "print(squares)"
   ]
  },
  {
   "cell_type": "code",
   "execution_count": 2,
   "id": "680d8e49",
   "metadata": {},
   "outputs": [
    {
     "data": {
      "text/plain": [
       "['cloud', 'moon', 'star', 'planet']"
      ]
     },
     "execution_count": 2,
     "metadata": {},
     "output_type": "execute_result"
    }
   ],
   "source": [
    "# Questions : \n",
    "words = [\"sun\", \"sky\", \"cloud\", \"moon\", \"star\", \"planet\"]\n",
    "more3 = [word for word in words if len(word) > 3]\n",
    "more3"
   ]
  },
  {
   "cell_type": "code",
   "execution_count": null,
   "id": "179b9cae",
   "metadata": {},
   "outputs": [
    {
     "data": {
      "text/plain": [
       "['None', 'None', 'cloud', 'moon', 'star', 'planet']"
      ]
     },
     "execution_count": 4,
     "metadata": {},
     "output_type": "execute_result"
    }
   ],
   "source": [
    "# more3 = [word if len(word) > 3 else 'None' for word in words]\n",
    "# more3"
   ]
  },
  {
   "cell_type": "code",
   "execution_count": 11,
   "id": "9f114532",
   "metadata": {},
   "outputs": [
    {
     "name": "stdout",
     "output_type": "stream",
     "text": [
      "['L', 's', 't', ' ', 'c', 'm', 'p', 'r', 'h', 'n', 's', 'n', ' ', 'm', 'k', 's', ' ', 'c', 'd', ' ', 'c', 'n', 'c', 's']\n"
     ]
    }
   ],
   "source": [
    "# Remove vowels from the string\n",
    "text = \"List comprehension makes code concise\"\n",
    "consonants = [ch for ch in text if ch not in \"aeiou\"]\n",
    "print(consonants)"
   ]
  },
  {
   "cell_type": "code",
   "execution_count": null,
   "id": "1630ab86",
   "metadata": {},
   "outputs": [
    {
     "name": "stdout",
     "output_type": "stream",
     "text": [
      "[(1, 4), (1, 5), (2, 4), (2, 5), (3, 4), (3, 5)]\n"
     ]
    }
   ],
   "source": [
    "# Cartesian products of two lists\n",
    "list1 = [1,2,3]\n",
    "list2 = [4,5]\n",
    "pairs = [(x,y) for x in list1 for y in list2]\n",
    "print(pairs)"
   ]
  },
  {
   "cell_type": "code",
   "execution_count": null,
   "id": "d86c3055",
   "metadata": {},
   "outputs": [
    {
     "name": "stdout",
     "output_type": "stream",
     "text": [
      "[11, 22, 33, 44, 55, 66, 77, 88, 99]\n"
     ]
    }
   ],
   "source": [
    "# Question:\n",
    "# Use list comprehension to generate a list of all 2-digit numbers (10–99) \n",
    "# that are palindromes (i.e., they read the same forwards and backwards, like 11, 22, etc.).\n",
    "palinNum = [x for x in range(11,100,11)]\n",
    "print(palinNum)"
   ]
  },
  {
   "cell_type": "code",
   "execution_count": null,
   "id": "a0232e78",
   "metadata": {},
   "outputs": [],
   "source": []
  }
 ],
 "metadata": {
  "kernelspec": {
   "display_name": "sansui",
   "language": "python",
   "name": "python3"
  },
  "language_info": {
   "codemirror_mode": {
    "name": "ipython",
    "version": 3
   },
   "file_extension": ".py",
   "mimetype": "text/x-python",
   "name": "python",
   "nbconvert_exporter": "python",
   "pygments_lexer": "ipython3",
   "version": "3.8.17"
  }
 },
 "nbformat": 4,
 "nbformat_minor": 5
}
