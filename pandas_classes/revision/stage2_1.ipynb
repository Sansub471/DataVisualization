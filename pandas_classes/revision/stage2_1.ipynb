{
 "cells": [
  {
   "cell_type": "markdown",
   "id": "9b6a9310",
   "metadata": {},
   "source": [
    "List and Dictionary Comprehension."
   ]
  },
  {
   "cell_type": "code",
   "execution_count": null,
   "id": "2f644ce5",
   "metadata": {},
   "outputs": [],
   "source": []
  }
 ],
 "metadata": {
  "kernelspec": {
   "display_name": "sansui",
   "language": "python",
   "name": "python3"
  },
  "language_info": {
   "name": "python",
   "version": "3.8.17"
  }
 },
 "nbformat": 4,
 "nbformat_minor": 5
}
