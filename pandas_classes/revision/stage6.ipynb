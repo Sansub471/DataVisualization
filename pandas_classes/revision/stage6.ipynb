{
 "cells": [
  {
   "cell_type": "markdown",
   "id": "1cecff12",
   "metadata": {},
   "source": [
    "✅ Stage 6: File Handling\n",
    "    \n",
    "    ✅ Reading/writing text files (open, with, .read(), .write())\n",
    "    \n",
    "    ✅ Working with CSV/JSON (csv, json modules)"
   ]
  },
  {
   "cell_type": "markdown",
   "id": "3159aac4",
   "metadata": {},
   "source": []
  }
 ],
 "metadata": {
  "kernelspec": {
   "display_name": "sansui",
   "language": "python",
   "name": "python3"
  },
  "language_info": {
   "name": "python",
   "version": "3.8.17"
  }
 },
 "nbformat": 4,
 "nbformat_minor": 5
}
