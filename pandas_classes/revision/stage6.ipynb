{
 "cells": [
  {
   "cell_type": "markdown",
   "id": "1cecff12",
   "metadata": {},
   "source": [
    "✅ Stage 6: File Handling\n",
    "    \n",
    "    ✅ Reading/writing text files (open, with, .read(), .write())\n",
    "    \n",
    "    ✅ Working with CSV/JSON (csv, json modules)"
   ]
  },
  {
   "cell_type": "markdown",
   "id": "3159aac4",
   "metadata": {},
   "source": []
  },
  {
   "cell_type": "code",
   "execution_count": 5,
   "id": "5ea6a910",
   "metadata": {},
   "outputs": [
    {
     "name": "stdout",
     "output_type": "stream",
     "text": [
      "The first line.\n",
      "The secone line.\n",
      "The third line.\n",
      "The fourth line.\n",
      "The fifth line.\n",
      "\n",
      "\n",
      "\n"
     ]
    }
   ],
   "source": [
    "# 1. Opening files\n",
    "file  = open(\"../files/example.txt\", 'r') # read mode\n",
    "content = file.read()\n",
    "print(content)\n",
    "file.close()"
   ]
  },
  {
   "cell_type": "code",
   "execution_count": null,
   "id": "a485a1e5",
   "metadata": {},
   "outputs": [],
   "source": []
  }
 ],
 "metadata": {
  "kernelspec": {
   "display_name": "sansui",
   "language": "python",
   "name": "python3"
  },
  "language_info": {
   "codemirror_mode": {
    "name": "ipython",
    "version": 3
   },
   "file_extension": ".py",
   "mimetype": "text/x-python",
   "name": "python",
   "nbconvert_exporter": "python",
   "pygments_lexer": "ipython3",
   "version": "3.8.17"
  }
 },
 "nbformat": 4,
 "nbformat_minor": 5
}
