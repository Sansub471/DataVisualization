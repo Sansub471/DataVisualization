{
 "cells": [
  {
   "cell_type": "markdown",
   "id": "1cecff12",
   "metadata": {},
   "source": [
    "✅ Stage 6: File Handling\n",
    "    \n",
    "    ✅ Reading/writing text files (open, with, .read(), .write())\n",
    "    \n",
    "    ✅ Working with CSV/JSON (csv, json modules)"
   ]
  },
  {
   "cell_type": "markdown",
   "id": "3159aac4",
   "metadata": {},
   "source": []
  },
  {
   "cell_type": "code",
   "execution_count": 5,
   "id": "5ea6a910",
   "metadata": {},
   "outputs": [
    {
     "name": "stdout",
     "output_type": "stream",
     "text": [
      "The first line.\n",
      "The secone line.\n",
      "The third line.\n",
      "The fourth line.\n",
      "The fifth line.\n",
      "\n",
      "\n",
      "\n"
     ]
    }
   ],
   "source": [
    "# 1. Opening files\n",
    "file  = open(\"../files/example.txt\", 'r') # read mode\n",
    "content = file.read()\n",
    "print(content)\n",
    "file.close()"
   ]
  },
  {
   "cell_type": "code",
   "execution_count": null,
   "id": "a485a1e5",
   "metadata": {},
   "outputs": [
    {
     "name": "stdout",
     "output_type": "stream",
     "text": [
      "\n",
      "<class 'list'>\n",
      "<class 'str'>\n"
     ]
    }
   ],
   "source": [
    "# Best practice\n",
    "with open(\"../files/example.txt\", 'r') as fp:\n",
    "    content = fp.readlines()\n",
    "    contents = fp.read()\n",
    "    \n",
    "print(type(content))\n",
    "print(type(contents))"
   ]
  },
  {
   "cell_type": "code",
   "execution_count": 18,
   "id": "553ad38d",
   "metadata": {},
   "outputs": [],
   "source": [
    "# Writing to a file, 'w' mode overwrites the file\n",
    "with open(\"../files/writefile.txt\", 'w') as fp:\n",
    "    fp.write(\"This is the new line for the write line.\\n\")\n",
    "\n",
    "with open(\"../files/writefile.txt\", 'a') as fp:\n",
    "    fp.write(\"This is the second line to write.\\n\")"
   ]
  },
  {
   "cell_type": "code",
   "execution_count": 24,
   "id": "f8bd6dbb",
   "metadata": {},
   "outputs": [
    {
     "name": "stdout",
     "output_type": "stream",
     "text": [
      "This is the new line for the write line.\n",
      "This is the second line to write.\n",
      "\n"
     ]
    }
   ],
   "source": [
    "with open(\"../files/writefile.txt\", 'r') as fp:\n",
    "    contents = fp.read()\n",
    "    print(contents)\n",
    "    "
   ]
  },
  {
   "cell_type": "code",
   "execution_count": 25,
   "id": "87298891",
   "metadata": {},
   "outputs": [],
   "source": [
    "# Other read modes\n",
    "# file.read() # Reads the entire content\n",
    "# file.readline() # Reads one line\n",
    "# file.readlines() # Reads all lines into a list"
   ]
  },
  {
   "cell_type": "code",
   "execution_count": 1,
   "id": "a63aac21",
   "metadata": {},
   "outputs": [],
   "source": [
    "# Another important concept is the file pointer. \n",
    "# It's like a cursor and keeps track of where you are currently reading or \n",
    "# writing in the file.buffer\n",
    "\n",
    "\n",
    "# Whnever you open a file, the pointer is at the beginning(offset 0).\n",
    "\n",
    "# f.tell() # where is the file pointer, nth byte from the start\n",
    "# f.seek() or f.seek(n) moves pointer by n bytes\n",
    "# f.seek(0) Go back to the beginning of the file"
   ]
  },
  {
   "cell_type": "code",
   "execution_count": 1,
   "id": "f5b47190",
   "metadata": {},
   "outputs": [
    {
     "name": "stdout",
     "output_type": "stream",
     "text": [
      "The file pointer is at : 1990\n",
      "The file pointer is at : 0\n",
      "This is the line number 0 of the file.\n",
      "\n",
      "The file pointer is at : 39\n",
      "The file pointer is at : 78\n",
      "This is the line number 2 of the file.\n",
      "\n"
     ]
    }
   ],
   "source": [
    "with open(\"../files/filepointer.txt\", \"r+\") as fp: # both read and write mode\n",
    "    for i in range(0, 50):\n",
    "        text = \"This is the line number \" + str(i) + \" of the file.\\n\"\n",
    "        fp.write(text)\n",
    "\n",
    "    print(f'The file pointer is at : {fp.tell()}')\n",
    "    fp.seek(0)\n",
    "\n",
    "    print(f'The file pointer is at : {fp.tell()}')\n",
    "    line = fp.readline() \n",
    "    print(line)\n",
    "\n",
    "    print(f'The file pointer is at : {fp.tell()}')\n",
    "\n",
    "    fp.seek(2*39) # Skipping line 1 \n",
    "    print(f'The file pointer is at : {fp.tell()}')\n",
    "    line = fp.readline() \n",
    "    print(line)\n"
   ]
  },
  {
   "cell_type": "markdown",
   "id": "59da58f7",
   "metadata": {},
   "source": [
    "Working with CSV"
   ]
  },
  {
   "cell_type": "code",
   "execution_count": 4,
   "id": "4e21637b",
   "metadata": {},
   "outputs": [],
   "source": [
    "# Download a .csv data file\n",
    "\n",
    "import requests\n",
    "url = \"https://drive.google.com/uc?id=1AWPf-pJodJKeHsARQK_RHiNsE8fjPCVK&export=download\"\n",
    "res = requests.get(url)\n",
    "with open('people_100.csv', 'wb') as f:\n",
    "    f.write(res.content)\n"
   ]
  },
  {
   "cell_type": "code",
   "execution_count": 1,
   "id": "5309b13c",
   "metadata": {},
   "outputs": [
    {
     "name": "stdout",
     "output_type": "stream",
     "text": [
      "['Index', 'User Id', 'First Name', 'Last Name', 'Sex', 'Email', 'Phone', 'Date of birth', 'Job Title']\n"
     ]
    }
   ],
   "source": [
    "import csv\n",
    "with open(\"../files/people-1000.csv\", 'r', newline='', encoding='utf-8') as file:\n",
    "    reader = csv.reader(file)\n",
    "    for row in reader:\n",
    "        print(row)\n",
    "        break\n",
    "\n",
    "# each row is a list of strings, the first row is usually a header"
   ]
  },
  {
   "cell_type": "code",
   "execution_count": 2,
   "id": "8e32a6e7",
   "metadata": {},
   "outputs": [
    {
     "name": "stdout",
     "output_type": "stream",
     "text": [
      "Name : Shelia Mahoney | Email : pwarner@example.org | Job Title : Probation officer\n"
     ]
    }
   ],
   "source": [
    "# skipping the header\n",
    "with open(\"../files/people-1000.csv\", 'r', newline='', encoding='utf-8') as file:\n",
    "    reader = csv.reader(file)\n",
    "    next(reader)\n",
    "    for row in reader:\n",
    "        print(f'Name : {row[2]} {row[3]} | Email : {row[5]} | Job Title : {row[8]}')\n",
    "        break"
   ]
  },
  {
   "cell_type": "code",
   "execution_count": 3,
   "id": "8346f2fd",
   "metadata": {},
   "outputs": [],
   "source": [
    "# Writing to a csv file\n",
    "data = [\n",
    "    [\"Name\", \"Age\", \"Country\"],\n",
    "    [\"Alice\", 30, \"USA\"],\n",
    "    [\"Bob\", 25, \"UK\"],\n",
    "    [\"Charlie\", 35, \"Canada\"]\n",
    "]\n",
    "\n",
    "with open('../files/output.csv', 'w', newline='', encoding='utf-8') as file:\n",
    "    writer = csv.writer(file)\n",
    "    writer.writerows(data) # multiple rows\n",
    "\n",
    "# writing single row\n",
    "with open('../files/output1.csv', 'w', newline='', encoding='utf-8') as file:\n",
    "    writer = csv.writer(file)\n",
    "    for row in data:\n",
    "        writer.writerow(row)"
   ]
  },
  {
   "cell_type": "code",
   "execution_count": 4,
   "id": "e86e88ec",
   "metadata": {},
   "outputs": [
    {
     "name": "stdout",
     "output_type": "stream",
     "text": [
      "Shelia  Mahoney works as Probation officer\n"
     ]
    }
   ],
   "source": [
    "# Using csv.DictReader and csv.DictWriter\n",
    "\n",
    "# Reads rows as dictionaries(easier to work with headers)\n",
    "with open('../files/people-1000.csv', 'r', newline='', encoding='utf-8') as file:\n",
    "    reader = csv.DictReader(file)\n",
    "    count  = 1\n",
    "    for row in reader:\n",
    "        print(f\"{row['First Name']}  {row['Last Name']} works as {row['Job Title']}\")\n",
    "        count += 1\n",
    "        if count > 1:\n",
    "            break\n",
    "\n",
    "# each row is read as a dictionary"
   ]
  },
  {
   "cell_type": "code",
   "execution_count": 5,
   "id": "a1cde2ad",
   "metadata": {},
   "outputs": [],
   "source": [
    "# Write rows as dictionaries\n",
    "fields = ['Name', 'Age', 'Country']\n",
    "data = [\n",
    "    {'Name': 'Alice', 'Age': 30, 'Country': 'USA'},\n",
    "    {'Name': 'Bob', 'Age': 25, 'Country': 'UK'}\n",
    "]\n",
    "\n",
    "with open('../files/output_dict.csv', 'w', newline='', encoding='utf-8') as file:\n",
    "    writer = csv.DictWriter(file, fieldnames=fields)\n",
    "    writer.writeheader()\n",
    "    writer.writerows(data)\n"
   ]
  },
  {
   "cell_type": "code",
   "execution_count": null,
   "id": "12d41794",
   "metadata": {},
   "outputs": [],
   "source": []
  },
  {
   "cell_type": "markdown",
   "id": "bca94743",
   "metadata": {},
   "source": [
    "Working with JSON"
   ]
  },
  {
   "cell_type": "code",
   "execution_count": 1,
   "id": "b536fcb5",
   "metadata": {},
   "outputs": [
    {
     "data": {
      "text/plain": [
       "{'name': 'Subsan',\n",
       " 'age': 24,\n",
       " 'skills': ['Python', 'C++', 'SQL'],\n",
       " 'student': True}"
      ]
     },
     "execution_count": 1,
     "metadata": {},
     "output_type": "execute_result"
    }
   ],
   "source": [
    "# JSON stores data in key-value pairs like Python dictionaries\n",
    "{\n",
    "  \"name\": \"Subsan\",\n",
    "  \"age\": 24,\n",
    "  \"skills\": [\"Python\", \"C++\", \"SQL\"],\n",
    "  \"student\": True\n",
    "}"
   ]
  },
  {
   "cell_type": "code",
   "execution_count": 6,
   "id": "bc6d1df6",
   "metadata": {},
   "outputs": [
    {
     "name": "stdout",
     "output_type": "stream",
     "text": [
      "Subsan\n",
      "<class 'dict'>\n"
     ]
    },
    {
     "data": {
      "text/plain": [
       "{'name': 'Subsan',\n",
       " 'age': 24,\n",
       " 'skills': ['Python', 'C++', 'SQL'],\n",
       " 'student': True}"
      ]
     },
     "execution_count": 6,
     "metadata": {},
     "output_type": "execute_result"
    }
   ],
   "source": [
    "import json\n",
    "\n",
    "# Reading json from a file\n",
    "with open('../files/data.json' , 'r') as f:\n",
    "    data = json.load(f)\n",
    "    print(data['name'])\n",
    "\n",
    "print(type(data))\n",
    "data"
   ]
  },
  {
   "cell_type": "code",
   "execution_count": 8,
   "id": "085e0242",
   "metadata": {},
   "outputs": [],
   "source": [
    "engineer_profile = {\n",
    "    \"personal_info\": {\n",
    "        \"full_name\": \"Anish Sharma\",\n",
    "        \"age\": 28,\n",
    "        \"gender\": \"Male\",\n",
    "        \"nationality\": \"Nepali\",\n",
    "        \"languages\": [\"Nepali\", \"English\", \"Hindi\"]\n",
    "    },\n",
    "    \"education\": [\n",
    "        {\n",
    "            \"degree\": \"Bachelor of Engineering\",\n",
    "            \"major\": \"Electronics, Communication, and Information Engineering\",\n",
    "            \"university\": \"Pulchowk Campus, IOE\",\n",
    "            \"year_of_completion\": 2020,\n",
    "            \"cgpa\": 3.65\n",
    "        },\n",
    "        {\n",
    "            \"degree\": \"High School\",\n",
    "            \"stream\": \"Science\",\n",
    "            \"institution\": \"St. Xavier's College\",\n",
    "            \"year_of_completion\": 2015,\n",
    "            \"percentage\": 85.4\n",
    "        }\n",
    "    ],\n",
    "    \"current_employment\": {\n",
    "        \"company\": \"TechNext Pvt. Ltd.\",\n",
    "        \"position\": \"Embedded Systems Engineer\",\n",
    "        \"location\": \"Kathmandu, Nepal\",\n",
    "        \"start_date\": \"2021-03-01\",\n",
    "        \"team_size\": 6,\n",
    "        \"reporting_to\": \"Lead Systems Architect\"\n",
    "    },\n",
    "    \"experience\": [\n",
    "        {\n",
    "            \"role\": \"Firmware Developer Intern\",\n",
    "            \"company\": \"SmartEdge Labs\",\n",
    "            \"duration_months\": 6,\n",
    "            \"projects\": [\"BLE Device Integration\", \"Motor Control Firmware\"]\n",
    "        },\n",
    "        {\n",
    "            \"role\": \"Junior Embedded Engineer\",\n",
    "            \"company\": \"HimalTech Innovations\",\n",
    "            \"duration_years\": 1.5,\n",
    "            \"projects\": [\"GSM Module Integration\", \"Sensor Data Acquisition System\"]\n",
    "        }\n",
    "    ],\n",
    "    \"technical_skills\": {\n",
    "        \"programming_languages\": [\"C\", \"C++\", \"Python\", \"Assembly\"],\n",
    "        \"hardware\": [\"STM32\", \"Arduino\", \"ESP32\", \"Raspberry Pi\", \"8051\"],\n",
    "        \"tools\": [\"Keil uVision\", \"Proteus\", \"Altium Designer\", \"MATLAB\", \"Git\", \"JIRA\"],\n",
    "        \"protocols\": [\"UART\", \"SPI\", \"I2C\", \"CAN\", \"MQTT\"]\n",
    "    },\n",
    "    \"certifications\": [\n",
    "        {\"title\": \"IoT Fundamentals\", \"issuer\": \"Coursera\", \"year\": 2021},\n",
    "        {\"title\": \"Advanced Embedded C\", \"issuer\": \"Udemy\", \"year\": 2020}\n",
    "    ],\n",
    "    \"projects\": [\n",
    "        {\n",
    "            \"title\": \"Smart Irrigation System\",\n",
    "            \"technologies\": [\"ESP32\", \"DHT11\", \"Soil Moisture Sensor\"],\n",
    "            \"description\": \"Automated irrigation using soil moisture and weather forecast data\",\n",
    "            \"impact\": \"Reduced water usage by 30% on pilot farms\"\n",
    "        },\n",
    "        {\n",
    "            \"title\": \"Wearable Health Monitor\",\n",
    "            \"technologies\": [\"STM32\", \"Pulse Sensor\", \"OLED Display\"],\n",
    "            \"description\": \"Real-time pulse and activity tracking device for elderly people\",\n",
    "            \"impact\": \"Used by 100+ users in initial phase\"\n",
    "        }\n",
    "    ],\n",
    "    \"publications\": [\n",
    "        {\n",
    "            \"title\": \"Low Power Microcontroller Strategies for Remote IoT Systems\",\n",
    "            \"journal\": \"Nepal Engineering Journal\",\n",
    "            \"year\": 2023,\n",
    "            \"link\": \"https://nejournal.org/paper123\"\n",
    "        }\n",
    "    ],\n",
    "    \"soft_skills\": [\"Problem Solving\", \"Team Leadership\", \"Time Management\", \"Presentation Skills\"],\n",
    "    \"professional_goals\": {\n",
    "        \"short_term\": \"Become an IoT solution architect\",\n",
    "        \"long_term\": \"Establish a startup focused on rural tech innovation\"\n",
    "    },\n",
    "    \"online_presence\": {\n",
    "        \"email\": \"anish.sharma@example.com\",\n",
    "        \"github\": \"https://github.com/anishsharma\",\n",
    "        \"linkedin\": \"https://linkedin.com/in/anishsharma\",\n",
    "        \"portfolio\": \"https://anishsharma.dev\"\n",
    "    },\n",
    "    \"availability\": {\n",
    "        \"open_to_work\": False,\n",
    "        \"preferred_roles\": [\"IoT Architect\", \"R&D Engineer\", \"Product Developer\"],\n",
    "        \"remote_friendly\": True\n",
    "    }\n",
    "}\n",
    "# Writing a json file\n",
    "data = {\n",
    "    \"name\": \"Rabin\",\n",
    "    \"age\": 24,\n",
    "    \"skills\": [\"Python\", \"SQL\"]\n",
    "}\n",
    "\n",
    "with open('../files/output.json', 'w') as f:\n",
    "    json.dump(engineer_profile, f, indent=4)"
   ]
  },
  {
   "cell_type": "code",
   "execution_count": null,
   "id": "5c97e9c9",
   "metadata": {},
   "outputs": [],
   "source": [
    "# Top 10 json files functions\n",
    "✅ 10 Useful JSON Functions in Python\n",
    "# json.load(file)\n",
    "# → Load JSON from a file and return a Python object.\n",
    "\n",
    "# json.dump(obj, file, indent=n)\n",
    "# → Write a Python object to a file in JSON format.\n",
    "\n",
    "# json.loads(string)\n",
    "# → Parse JSON from a string and return a Python object.\n",
    "\n",
    "# json.dumps(obj, indent=n)\n",
    "# → Convert a Python object to a JSON-formatted string.\n",
    "\n",
    "# json.dump(obj, file, sort_keys=True)\n",
    "# → Save JSON with sorted keys alphabetically.\n",
    "\n",
    "# json.dumps(obj, separators=(\",\", \":\"))\n",
    "# → Compact JSON output with custom separators.\n",
    "\n",
    "# type(json_obj)\n",
    "# → Check if the loaded object is a dict, list, etc.\n",
    "\n",
    "# update_json_file(filepath, key, value)\n",
    "# → Custom function to update a key-value pair and save the file.\n",
    "\n",
    "# filter_json_array(filepath, condition_func)\n",
    "# → Custom function to filter a list of JSON objects by condition.\n",
    "\n",
    "# print_json_pretty(filepath)\n",
    "# → Custom function to pretty print a JSON file’s contents.\n"
   ]
  }
 ],
 "metadata": {
  "kernelspec": {
   "display_name": "sansui",
   "language": "python",
   "name": "python3"
  },
  "language_info": {
   "codemirror_mode": {
    "name": "ipython",
    "version": 3
   },
   "file_extension": ".py",
   "mimetype": "text/x-python",
   "name": "python",
   "nbconvert_exporter": "python",
   "pygments_lexer": "ipython3",
   "version": "3.8.17"
  }
 },
 "nbformat": 4,
 "nbformat_minor": 5
}
