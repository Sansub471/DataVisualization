{
 "cells": [
  {
   "cell_type": "markdown",
   "id": "1cecff12",
   "metadata": {},
   "source": [
    "✅ Stage 6: File Handling\n",
    "    \n",
    "    ✅ Reading/writing text files (open, with, .read(), .write())\n",
    "    \n",
    "    ✅ Working with CSV/JSON (csv, json modules)"
   ]
  },
  {
   "cell_type": "markdown",
   "id": "3159aac4",
   "metadata": {},
   "source": []
  },
  {
   "cell_type": "code",
   "execution_count": 5,
   "id": "5ea6a910",
   "metadata": {},
   "outputs": [
    {
     "name": "stdout",
     "output_type": "stream",
     "text": [
      "The first line.\n",
      "The secone line.\n",
      "The third line.\n",
      "The fourth line.\n",
      "The fifth line.\n",
      "\n",
      "\n",
      "\n"
     ]
    }
   ],
   "source": [
    "# 1. Opening files\n",
    "file  = open(\"../files/example.txt\", 'r') # read mode\n",
    "content = file.read()\n",
    "print(content)\n",
    "file.close()"
   ]
  },
  {
   "cell_type": "code",
   "execution_count": null,
   "id": "a485a1e5",
   "metadata": {},
   "outputs": [
    {
     "name": "stdout",
     "output_type": "stream",
     "text": [
      "\n",
      "<class 'list'>\n",
      "<class 'str'>\n"
     ]
    }
   ],
   "source": [
    "# Best practice\n",
    "with open(\"../files/example.txt\", 'r') as fp:\n",
    "    content = fp.readlines()\n",
    "    contents = fp.read()\n",
    "    \n",
    "print(type(content))\n",
    "print(type(contents))"
   ]
  },
  {
   "cell_type": "code",
   "execution_count": 18,
   "id": "553ad38d",
   "metadata": {},
   "outputs": [],
   "source": [
    "# Writing to a file, 'w' mode overwrites the file\n",
    "with open(\"../files/writefile.txt\", 'w') as fp:\n",
    "    fp.write(\"This is the new line for the write line.\\n\")\n",
    "\n",
    "with open(\"../files/writefile.txt\", 'a') as fp:\n",
    "    fp.write(\"This is the second line to write.\\n\")"
   ]
  },
  {
   "cell_type": "code",
   "execution_count": 24,
   "id": "f8bd6dbb",
   "metadata": {},
   "outputs": [
    {
     "name": "stdout",
     "output_type": "stream",
     "text": [
      "This is the new line for the write line.\n",
      "This is the second line to write.\n",
      "\n"
     ]
    }
   ],
   "source": [
    "with open(\"../files/writefile.txt\", 'r') as fp:\n",
    "    contents = fp.read()\n",
    "    print(contents)\n",
    "    "
   ]
  },
  {
   "cell_type": "code",
   "execution_count": null,
   "id": "87298891",
   "metadata": {},
   "outputs": [],
   "source": []
  }
 ],
 "metadata": {
  "kernelspec": {
   "display_name": "sansui",
   "language": "python",
   "name": "python3"
  },
  "language_info": {
   "codemirror_mode": {
    "name": "ipython",
    "version": 3
   },
   "file_extension": ".py",
   "mimetype": "text/x-python",
   "name": "python",
   "nbconvert_exporter": "python",
   "pygments_lexer": "ipython3",
   "version": "3.8.17"
  }
 },
 "nbformat": 4,
 "nbformat_minor": 5
}
