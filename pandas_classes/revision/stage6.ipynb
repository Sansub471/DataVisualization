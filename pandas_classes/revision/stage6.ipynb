{
 "cells": [
  {
   "cell_type": "markdown",
   "id": "1cecff12",
   "metadata": {},
   "source": [
    "✅ Stage 6: File Handling\n",
    "    \n",
    "    ✅ Reading/writing text files (open, with, .read(), .write())\n",
    "    \n",
    "    ✅ Working with CSV/JSON (csv, json modules)"
   ]
  },
  {
   "cell_type": "markdown",
   "id": "3159aac4",
   "metadata": {},
   "source": []
  },
  {
   "cell_type": "code",
   "execution_count": 5,
   "id": "5ea6a910",
   "metadata": {},
   "outputs": [
    {
     "name": "stdout",
     "output_type": "stream",
     "text": [
      "The first line.\n",
      "The secone line.\n",
      "The third line.\n",
      "The fourth line.\n",
      "The fifth line.\n",
      "\n",
      "\n",
      "\n"
     ]
    }
   ],
   "source": [
    "# 1. Opening files\n",
    "file  = open(\"../files/example.txt\", 'r') # read mode\n",
    "content = file.read()\n",
    "print(content)\n",
    "file.close()"
   ]
  },
  {
   "cell_type": "code",
   "execution_count": null,
   "id": "a485a1e5",
   "metadata": {},
   "outputs": [
    {
     "name": "stdout",
     "output_type": "stream",
     "text": [
      "\n",
      "<class 'list'>\n",
      "<class 'str'>\n"
     ]
    }
   ],
   "source": [
    "# Best practice\n",
    "with open(\"../files/example.txt\", 'r') as fp:\n",
    "    content = fp.readlines()\n",
    "    contents = fp.read()\n",
    "    \n",
    "print(type(content))\n",
    "print(type(contents))"
   ]
  },
  {
   "cell_type": "code",
   "execution_count": 18,
   "id": "553ad38d",
   "metadata": {},
   "outputs": [],
   "source": [
    "# Writing to a file, 'w' mode overwrites the file\n",
    "with open(\"../files/writefile.txt\", 'w') as fp:\n",
    "    fp.write(\"This is the new line for the write line.\\n\")\n",
    "\n",
    "with open(\"../files/writefile.txt\", 'a') as fp:\n",
    "    fp.write(\"This is the second line to write.\\n\")"
   ]
  },
  {
   "cell_type": "code",
   "execution_count": 24,
   "id": "f8bd6dbb",
   "metadata": {},
   "outputs": [
    {
     "name": "stdout",
     "output_type": "stream",
     "text": [
      "This is the new line for the write line.\n",
      "This is the second line to write.\n",
      "\n"
     ]
    }
   ],
   "source": [
    "with open(\"../files/writefile.txt\", 'r') as fp:\n",
    "    contents = fp.read()\n",
    "    print(contents)\n",
    "    "
   ]
  },
  {
   "cell_type": "code",
   "execution_count": 25,
   "id": "87298891",
   "metadata": {},
   "outputs": [],
   "source": [
    "# Other read modes\n",
    "# file.read() # Reads the entire content\n",
    "# file.readline() # Reads one line\n",
    "# file.readlines() # Reads all lines into a list"
   ]
  },
  {
   "cell_type": "code",
   "execution_count": 1,
   "id": "a63aac21",
   "metadata": {},
   "outputs": [],
   "source": [
    "# Another important concept is the file pointer. \n",
    "# It's like a cursor and keeps track of where you are currently reading or \n",
    "# writing in the file.buffer\n",
    "\n",
    "\n",
    "# Whnever you open a file, the pointer is at the beginning(offset 0).\n",
    "\n",
    "# f.tell() # where is the file pointer, nth byte from the start\n",
    "# f.seek() or f.seek(n) moves pointer by n bytes\n",
    "# f.seek(0) Go back to the beginning of the file"
   ]
  },
  {
   "cell_type": "code",
   "execution_count": null,
   "id": "f5b47190",
   "metadata": {},
   "outputs": [
    {
     "name": "stdout",
     "output_type": "stream",
     "text": [
      "The file pointer is at : 1990\n",
      "The file pointer is at : 0\n",
      "This is the line number 0 of the file.\n",
      "\n",
      "The file pointer is at : 39\n",
      "The file pointer is at : 78\n",
      "This is the line number 2 of the file.\n",
      "\n"
     ]
    },
    {
     "ename": "TypeError",
     "evalue": "'<' not supported between instances of 'type' and 'int'",
     "output_type": "error",
     "traceback": [
      "\u001b[0;31m---------------------------------------------------------------------------\u001b[0m",
      "\u001b[0;31mTypeError\u001b[0m                                 Traceback (most recent call last)",
      "Cell \u001b[0;32mIn[14], line 20\u001b[0m\n\u001b[1;32m     17\u001b[0m line \u001b[38;5;241m=\u001b[39m fp\u001b[38;5;241m.\u001b[39mreadline() \n\u001b[1;32m     18\u001b[0m \u001b[38;5;28mprint\u001b[39m(line)\n\u001b[0;32m---> 20\u001b[0m \u001b[43mfp\u001b[49m\u001b[38;5;241;43m.\u001b[39;49m\u001b[43mseek\u001b[49m\u001b[43m(\u001b[49m\u001b[38;5;167;43;01mEOFError\u001b[39;49;00m\u001b[43m)\u001b[49m\n",
      "\u001b[0;31mTypeError\u001b[0m: '<' not supported between instances of 'type' and 'int'"
     ]
    }
   ],
   "source": [
    "with open(\"../files/filepointer.txt\", \"r+\") as fp: # both read and write mode\n",
    "    for i in range(0, 50):\n",
    "        text = \"This is the line number \" + str(i) + \" of the file.\\n\"\n",
    "        fp.write(text)\n",
    "\n",
    "    print(f'The file pointer is at : {fp.tell()}')\n",
    "    fp.seek(0)\n",
    "\n",
    "    print(f'The file pointer is at : {fp.tell()}')\n",
    "    line = fp.readline() \n",
    "    print(line)\n",
    "\n",
    "    print(f'The file pointer is at : {fp.tell()}')\n",
    "\n",
    "    fp.seek(2*39) # Skipping line 1 \n",
    "    print(f'The file pointer is at : {fp.tell()}')\n",
    "    line = fp.readline() \n",
    "    print(line)\n"
   ]
  },
  {
   "cell_type": "code",
   "execution_count": null,
   "id": "4e21637b",
   "metadata": {},
   "outputs": [],
   "source": []
  }
 ],
 "metadata": {
  "kernelspec": {
   "display_name": "sansui",
   "language": "python",
   "name": "python3"
  },
  "language_info": {
   "codemirror_mode": {
    "name": "ipython",
    "version": 3
   },
   "file_extension": ".py",
   "mimetype": "text/x-python",
   "name": "python",
   "nbconvert_exporter": "python",
   "pygments_lexer": "ipython3",
   "version": "3.8.17"
  }
 },
 "nbformat": 4,
 "nbformat_minor": 5
}
