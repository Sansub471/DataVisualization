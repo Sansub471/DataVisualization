{
 "cells": [
  {
   "cell_type": "markdown",
   "id": "d2aa593a",
   "metadata": {},
   "source": [
    "Stage 3 "
   ]
  },
  {
   "cell_type": "code",
   "execution_count": 2,
   "id": "174867bc",
   "metadata": {},
   "outputs": [],
   "source": [
    "# Stage 3 will be more on Data Structures.\n",
    "# List functions\n",
    "import numpy as np\n",
    "\n",
    "mixed_list = [\n",
    "    12, 3.14, 'hello', True, None, [1, 2], {'a': 1}, (5, 6), 99, 'world',\n",
    "    False, 0, 100, 'Python', 8.8, 'GPT', {1, 2, 3}, 42, 'looping', -7,\n",
    "    True, False, None, np.nan, \"----\", (34,4,2,2), [3,4]\n",
    "]"
   ]
  },
  {
   "cell_type": "code",
   "execution_count": 3,
   "id": "154e1ed5",
   "metadata": {},
   "outputs": [
    {
     "data": {
      "text/plain": [
       "[12,\n",
       " 3.14,\n",
       " 'hello',\n",
       " True,\n",
       " None,\n",
       " [1, 2],\n",
       " {'a': 1},\n",
       " (5, 6),\n",
       " 99,\n",
       " 'world',\n",
       " False,\n",
       " 0,\n",
       " 100,\n",
       " 'Python',\n",
       " 8.8,\n",
       " 'GPT',\n",
       " {1, 2, 3},\n",
       " 42,\n",
       " 'looping',\n",
       " -7,\n",
       " True,\n",
       " False,\n",
       " None,\n",
       " nan,\n",
       " '----',\n",
       " (34, 4, 2, 2),\n",
       " [3, 4],\n",
       " 'The append']"
      ]
     },
     "execution_count": 3,
     "metadata": {},
     "output_type": "execute_result"
    }
   ],
   "source": [
    "mixed_list.append(\"The append\")\n",
    "mixed_list"
   ]
  },
  {
   "cell_type": "code",
   "execution_count": 4,
   "id": "01378f73",
   "metadata": {},
   "outputs": [
    {
     "data": {
      "text/plain": [
       "'----'"
      ]
     },
     "execution_count": 4,
     "metadata": {},
     "output_type": "execute_result"
    }
   ],
   "source": [
    "mixed_list[-4]"
   ]
  },
  {
   "cell_type": "code",
   "execution_count": 5,
   "id": "b2f7f04a",
   "metadata": {},
   "outputs": [
    {
     "data": {
      "text/plain": [
       "12"
      ]
     },
     "execution_count": 5,
     "metadata": {},
     "output_type": "execute_result"
    }
   ],
   "source": [
    "mixed_list[0]"
   ]
  },
  {
   "cell_type": "code",
   "execution_count": 6,
   "id": "b6d87dc2",
   "metadata": {},
   "outputs": [
    {
     "data": {
      "text/plain": [
       "[12, 3.14]"
      ]
     },
     "execution_count": 6,
     "metadata": {},
     "output_type": "execute_result"
    }
   ],
   "source": [
    "mixed_list[0:2]"
   ]
  },
  {
   "cell_type": "code",
   "execution_count": 7,
   "id": "527eca61",
   "metadata": {},
   "outputs": [
    {
     "data": {
      "text/plain": [
       "['The append',\n",
       " [3, 4],\n",
       " (34, 4, 2, 2),\n",
       " '----',\n",
       " nan,\n",
       " None,\n",
       " False,\n",
       " True,\n",
       " -7,\n",
       " 'looping',\n",
       " 42,\n",
       " {1, 2, 3},\n",
       " 'GPT',\n",
       " 8.8,\n",
       " 'Python',\n",
       " 100,\n",
       " 0,\n",
       " False,\n",
       " 'world',\n",
       " 99,\n",
       " (5, 6),\n",
       " {'a': 1},\n",
       " [1, 2],\n",
       " None,\n",
       " True,\n",
       " 'hello',\n",
       " 3.14,\n",
       " 12]"
      ]
     },
     "execution_count": 7,
     "metadata": {},
     "output_type": "execute_result"
    }
   ],
   "source": [
    "mixed_list[::-1] # reverse a list"
   ]
  },
  {
   "cell_type": "code",
   "execution_count": 8,
   "id": "6aca225d",
   "metadata": {},
   "outputs": [
    {
     "data": {
      "text/plain": [
       "[12,\n",
       " 'hello',\n",
       " None,\n",
       " {'a': 1},\n",
       " 99,\n",
       " False,\n",
       " 100,\n",
       " 8.8,\n",
       " {1, 2, 3},\n",
       " 'looping',\n",
       " True,\n",
       " None,\n",
       " '----',\n",
       " [3, 4]]"
      ]
     },
     "execution_count": 8,
     "metadata": {},
     "output_type": "execute_result"
    }
   ],
   "source": [
    "mixed_list[::2]"
   ]
  },
  {
   "cell_type": "code",
   "execution_count": 9,
   "id": "d4b0fee0",
   "metadata": {},
   "outputs": [],
   "source": [
    "# Method\tDescription\n",
    "# append()\tAdds an item to the end of the list\n",
    "# extend()\tAdds items of lists and other iterables to the end of the list\n",
    "# insert()\tInserts an item at the specified index\n",
    "# remove()\tRemoves the specified value from the list\n",
    "# pop()\tReturns and removes item present at the given index\n",
    "# clear()\tRemoves all items from the list\n",
    "# index()\tReturns the index of the first matched item\n",
    "# count()\tReturns the count of the specified item in the list\n",
    "# sort()\tSorts the list in ascending/descending order\n",
    "# reverse()\tReverses the item of the list\n",
    "# copy()\tReturns the shallow copy of the list"
   ]
  },
  {
   "cell_type": "code",
   "execution_count": 10,
   "id": "b642fa9f",
   "metadata": {},
   "outputs": [
    {
     "name": "stdout",
     "output_type": "stream",
     "text": [
      "[1, 2, 3, 4, 4, 5, 2, 4, 'a', 'e', 'i', 'o', 'u', 'P', 'y', 't', 'h', 'o', 'n']\n"
     ]
    }
   ],
   "source": [
    "name = \"Python\"\n",
    "mylist = [1,2,3,4,4,5,2,4,'a', 'e','i','o','u']\n",
    "mylist.extend(name)\n",
    "print(mylist)"
   ]
  },
  {
   "cell_type": "code",
   "execution_count": 11,
   "id": "ac50fd10",
   "metadata": {},
   "outputs": [
    {
     "name": "stdout",
     "output_type": "stream",
     "text": [
      "[1, 2, 3, 4, 4, 5, 2, 4, 'a', 'e', 'i', 'o', 'u', 'P', 'y', 't', 'h', 'o', 'n', 77, 7, 17]\n"
     ]
    }
   ],
   "source": [
    "l2 = [77, 7, 17]\n",
    "mylist.extend(l2)\n",
    "print(mylist)"
   ]
  },
  {
   "cell_type": "code",
   "execution_count": 12,
   "id": "7e3b164e",
   "metadata": {},
   "outputs": [
    {
     "name": "stdout",
     "output_type": "stream",
     "text": [
      "[1, 2, 'index2', 3, 4, 4, 5, 2, 4, 'a', 'e', 'i', 'o', 'u', 'P', 'y', 't', 'h', 'o', 'n', 77, 7, 17]\n"
     ]
    }
   ],
   "source": [
    "mylist.insert(2, 'index2')\n",
    "print(mylist)"
   ]
  },
  {
   "cell_type": "code",
   "execution_count": 13,
   "id": "78bddfe0",
   "metadata": {},
   "outputs": [
    {
     "name": "stdout",
     "output_type": "stream",
     "text": [
      "[1, 2, 'index2', 3, 4, 5, 2, 4, 'a', 'e', 'i', 'o', 'u', 'P', 'y', 't', 'h', 'o', 'n', 77, 7, 17]\n"
     ]
    }
   ],
   "source": [
    "mylist.remove(4)\n",
    "print(mylist)"
   ]
  },
  {
   "cell_type": "code",
   "execution_count": 14,
   "id": "0dc3baa3",
   "metadata": {},
   "outputs": [
    {
     "name": "stdout",
     "output_type": "stream",
     "text": [
      "[2, 'index2', 3, 4, 5, 2, 4, 'a', 'e', 'i', 'o', 'u', 'P', 'y', 't', 'h', 'o', 'n', 77, 7, 17]\n"
     ]
    }
   ],
   "source": [
    "mylist.pop(0)\n",
    "print(mylist)"
   ]
  },
  {
   "cell_type": "code",
   "execution_count": 15,
   "id": "91b9ab72",
   "metadata": {},
   "outputs": [
    {
     "data": {
      "text/plain": [
       "2"
      ]
     },
     "execution_count": 15,
     "metadata": {},
     "output_type": "execute_result"
    }
   ],
   "source": [
    "mylist.index(3)"
   ]
  },
  {
   "cell_type": "code",
   "execution_count": 16,
   "id": "e71fcb2b",
   "metadata": {},
   "outputs": [
    {
     "data": {
      "text/plain": [
       "2"
      ]
     },
     "execution_count": 16,
     "metadata": {},
     "output_type": "execute_result"
    }
   ],
   "source": [
    "mylist.count('o')"
   ]
  },
  {
   "cell_type": "code",
   "execution_count": 17,
   "id": "fc3ac090",
   "metadata": {},
   "outputs": [
    {
     "name": "stdout",
     "output_type": "stream",
     "text": [
      "[17, 7, 77, 'n', 'o', 'h', 't', 'y', 'P', 'u', 'o', 'i', 'e', 'a', 4, 2, 5, 4, 3, 'index2', 2]\n"
     ]
    }
   ],
   "source": [
    "mylist.reverse()\n",
    "print(mylist)"
   ]
  },
  {
   "cell_type": "code",
   "execution_count": 18,
   "id": "442c5b17",
   "metadata": {},
   "outputs": [
    {
     "name": "stdout",
     "output_type": "stream",
     "text": [
      "[2, 'index2', 3, 4, 5, 2, 4, 'a', 'e', 'i', 'o', 'u', 'P', 'y', 't', 'h', 'o', 'n', 77, 7, 17]\n"
     ]
    }
   ],
   "source": [
    "mylist.reverse()\n",
    "newlist = mylist.copy()\n",
    "print(newlist)"
   ]
  },
  {
   "cell_type": "code",
   "execution_count": 19,
   "id": "90dd9ee0",
   "metadata": {},
   "outputs": [
    {
     "data": {
      "text/plain": [
       "[]"
      ]
     },
     "execution_count": 19,
     "metadata": {},
     "output_type": "execute_result"
    }
   ],
   "source": [
    "mylist.clear()\n",
    "mylist"
   ]
  },
  {
   "cell_type": "code",
   "execution_count": 20,
   "id": "0b2f809f",
   "metadata": {},
   "outputs": [
    {
     "name": "stdout",
     "output_type": "stream",
     "text": [
      "[2, 'index2', 3, 4, 5, 2, 4, 'a', 'e', 'i', 'o', 'u', 'P', 'y', 't', 'h', 'o', 'n', 77, 7, 17]\n"
     ]
    }
   ],
   "source": [
    "print(newlist)"
   ]
  },
  {
   "cell_type": "code",
   "execution_count": null,
   "id": "4f4cd769",
   "metadata": {},
   "outputs": [],
   "source": [
    "# Tuples : immutable sequence"
   ]
  },
  {
   "cell_type": "code",
   "execution_count": null,
   "id": "3aaa1839",
   "metadata": {},
   "outputs": [],
   "source": []
  }
 ],
 "metadata": {
  "kernelspec": {
   "display_name": "sansui",
   "language": "python",
   "name": "python3"
  },
  "language_info": {
   "codemirror_mode": {
    "name": "ipython",
    "version": 3
   },
   "file_extension": ".py",
   "mimetype": "text/x-python",
   "name": "python",
   "nbconvert_exporter": "python",
   "pygments_lexer": "ipython3",
   "version": "3.8.17"
  }
 },
 "nbformat": 4,
 "nbformat_minor": 5
}
