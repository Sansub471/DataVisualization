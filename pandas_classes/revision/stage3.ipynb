{
 "cells": [
  {
   "cell_type": "markdown",
   "id": "d2aa593a",
   "metadata": {},
   "source": [
    "Stage 3 "
   ]
  },
  {
   "cell_type": "code",
   "execution_count": 1,
   "id": "174867bc",
   "metadata": {},
   "outputs": [],
   "source": [
    "# Stage 3 will be more on Data Structures.\n",
    "# List functions\n",
    "import numpy as np\n",
    "\n",
    "mixed_list = [\n",
    "    12, 3.14, 'hello', True, None, [1, 2], {'a': 1}, (5, 6), 99, 'world',\n",
    "    False, 0, 100, 'Python', 8.8, 'GPT', {1, 2, 3}, 42, 'looping', -7,\n",
    "    True, False, None, np.nan, \"----\", (34,4,2,2), [3,4]\n",
    "]"
   ]
  },
  {
   "cell_type": "code",
   "execution_count": 2,
   "id": "154e1ed5",
   "metadata": {},
   "outputs": [
    {
     "data": {
      "text/plain": [
       "[12,\n",
       " 3.14,\n",
       " 'hello',\n",
       " True,\n",
       " None,\n",
       " [1, 2],\n",
       " {'a': 1},\n",
       " (5, 6),\n",
       " 99,\n",
       " 'world',\n",
       " False,\n",
       " 0,\n",
       " 100,\n",
       " 'Python',\n",
       " 8.8,\n",
       " 'GPT',\n",
       " {1, 2, 3},\n",
       " 42,\n",
       " 'looping',\n",
       " -7,\n",
       " True,\n",
       " False,\n",
       " None,\n",
       " nan,\n",
       " '----',\n",
       " (34, 4, 2, 2),\n",
       " [3, 4],\n",
       " 'The append']"
      ]
     },
     "execution_count": 2,
     "metadata": {},
     "output_type": "execute_result"
    }
   ],
   "source": [
    "mixed_list.append(\"The append\")\n",
    "mixed_list"
   ]
  },
  {
   "cell_type": "code",
   "execution_count": 3,
   "id": "01378f73",
   "metadata": {},
   "outputs": [
    {
     "data": {
      "text/plain": [
       "'----'"
      ]
     },
     "execution_count": 3,
     "metadata": {},
     "output_type": "execute_result"
    }
   ],
   "source": [
    "mixed_list[-4]"
   ]
  },
  {
   "cell_type": "code",
   "execution_count": 4,
   "id": "b2f7f04a",
   "metadata": {},
   "outputs": [
    {
     "data": {
      "text/plain": [
       "12"
      ]
     },
     "execution_count": 4,
     "metadata": {},
     "output_type": "execute_result"
    }
   ],
   "source": [
    "mixed_list[0]"
   ]
  },
  {
   "cell_type": "code",
   "execution_count": 5,
   "id": "b6d87dc2",
   "metadata": {},
   "outputs": [
    {
     "data": {
      "text/plain": [
       "[12, 3.14]"
      ]
     },
     "execution_count": 5,
     "metadata": {},
     "output_type": "execute_result"
    }
   ],
   "source": [
    "mixed_list[0:2]"
   ]
  },
  {
   "cell_type": "code",
   "execution_count": 6,
   "id": "527eca61",
   "metadata": {},
   "outputs": [
    {
     "data": {
      "text/plain": [
       "['The append',\n",
       " [3, 4],\n",
       " (34, 4, 2, 2),\n",
       " '----',\n",
       " nan,\n",
       " None,\n",
       " False,\n",
       " True,\n",
       " -7,\n",
       " 'looping',\n",
       " 42,\n",
       " {1, 2, 3},\n",
       " 'GPT',\n",
       " 8.8,\n",
       " 'Python',\n",
       " 100,\n",
       " 0,\n",
       " False,\n",
       " 'world',\n",
       " 99,\n",
       " (5, 6),\n",
       " {'a': 1},\n",
       " [1, 2],\n",
       " None,\n",
       " True,\n",
       " 'hello',\n",
       " 3.14,\n",
       " 12]"
      ]
     },
     "execution_count": 6,
     "metadata": {},
     "output_type": "execute_result"
    }
   ],
   "source": [
    "mixed_list[::-1] # reverse a list"
   ]
  },
  {
   "cell_type": "code",
   "execution_count": 7,
   "id": "6aca225d",
   "metadata": {},
   "outputs": [
    {
     "data": {
      "text/plain": [
       "[12,\n",
       " 'hello',\n",
       " None,\n",
       " {'a': 1},\n",
       " 99,\n",
       " False,\n",
       " 100,\n",
       " 8.8,\n",
       " {1, 2, 3},\n",
       " 'looping',\n",
       " True,\n",
       " None,\n",
       " '----',\n",
       " [3, 4]]"
      ]
     },
     "execution_count": 7,
     "metadata": {},
     "output_type": "execute_result"
    }
   ],
   "source": [
    "mixed_list[::2]"
   ]
  },
  {
   "cell_type": "code",
   "execution_count": 8,
   "id": "d4b0fee0",
   "metadata": {},
   "outputs": [],
   "source": [
    "# Method\tDescription\n",
    "# append()\tAdds an item to the end of the list\n",
    "# extend()\tAdds items of lists and other iterables to the end of the list\n",
    "# insert()\tInserts an item at the specified index\n",
    "# remove()\tRemoves the specified value from the list\n",
    "# pop()\tReturns and removes item present at the given index\n",
    "# clear()\tRemoves all items from the list\n",
    "# index()\tReturns the index of the first matched item\n",
    "# count()\tReturns the count of the specified item in the list\n",
    "# sort()\tSorts the list in ascending/descending order\n",
    "# reverse()\tReverses the item of the list\n",
    "# copy()\tReturns the shallow copy of the list"
   ]
  },
  {
   "cell_type": "code",
   "execution_count": 9,
   "id": "b642fa9f",
   "metadata": {},
   "outputs": [
    {
     "name": "stdout",
     "output_type": "stream",
     "text": [
      "[1, 2, 3, 4, 4, 5, 2, 4, 'a', 'e', 'i', 'o', 'u', 'P', 'y', 't', 'h', 'o', 'n']\n"
     ]
    }
   ],
   "source": [
    "name = \"Python\"\n",
    "mylist = [1,2,3,4,4,5,2,4,'a', 'e','i','o','u']\n",
    "mylist.extend(name)\n",
    "print(mylist)"
   ]
  },
  {
   "cell_type": "code",
   "execution_count": 10,
   "id": "ac50fd10",
   "metadata": {},
   "outputs": [
    {
     "name": "stdout",
     "output_type": "stream",
     "text": [
      "[1, 2, 3, 4, 4, 5, 2, 4, 'a', 'e', 'i', 'o', 'u', 'P', 'y', 't', 'h', 'o', 'n', 77, 7, 17]\n"
     ]
    }
   ],
   "source": [
    "l2 = [77, 7, 17]\n",
    "mylist.extend(l2)\n",
    "print(mylist)"
   ]
  },
  {
   "cell_type": "code",
   "execution_count": 11,
   "id": "7e3b164e",
   "metadata": {},
   "outputs": [
    {
     "name": "stdout",
     "output_type": "stream",
     "text": [
      "[1, 2, 'index2', 3, 4, 4, 5, 2, 4, 'a', 'e', 'i', 'o', 'u', 'P', 'y', 't', 'h', 'o', 'n', 77, 7, 17]\n"
     ]
    }
   ],
   "source": [
    "mylist.insert(2, 'index2')\n",
    "print(mylist)"
   ]
  },
  {
   "cell_type": "code",
   "execution_count": 12,
   "id": "78bddfe0",
   "metadata": {},
   "outputs": [
    {
     "name": "stdout",
     "output_type": "stream",
     "text": [
      "[1, 2, 'index2', 3, 4, 5, 2, 4, 'a', 'e', 'i', 'o', 'u', 'P', 'y', 't', 'h', 'o', 'n', 77, 7, 17]\n"
     ]
    }
   ],
   "source": [
    "mylist.remove(4)\n",
    "print(mylist)"
   ]
  },
  {
   "cell_type": "code",
   "execution_count": 13,
   "id": "0dc3baa3",
   "metadata": {},
   "outputs": [
    {
     "name": "stdout",
     "output_type": "stream",
     "text": [
      "[2, 'index2', 3, 4, 5, 2, 4, 'a', 'e', 'i', 'o', 'u', 'P', 'y', 't', 'h', 'o', 'n', 77, 7, 17]\n"
     ]
    }
   ],
   "source": [
    "mylist.pop(0)\n",
    "print(mylist)"
   ]
  },
  {
   "cell_type": "code",
   "execution_count": 14,
   "id": "91b9ab72",
   "metadata": {},
   "outputs": [
    {
     "data": {
      "text/plain": [
       "2"
      ]
     },
     "execution_count": 14,
     "metadata": {},
     "output_type": "execute_result"
    }
   ],
   "source": [
    "mylist.index(3)"
   ]
  },
  {
   "cell_type": "code",
   "execution_count": 15,
   "id": "e71fcb2b",
   "metadata": {},
   "outputs": [
    {
     "data": {
      "text/plain": [
       "2"
      ]
     },
     "execution_count": 15,
     "metadata": {},
     "output_type": "execute_result"
    }
   ],
   "source": [
    "mylist.count('o')"
   ]
  },
  {
   "cell_type": "code",
   "execution_count": 16,
   "id": "fc3ac090",
   "metadata": {},
   "outputs": [
    {
     "name": "stdout",
     "output_type": "stream",
     "text": [
      "[17, 7, 77, 'n', 'o', 'h', 't', 'y', 'P', 'u', 'o', 'i', 'e', 'a', 4, 2, 5, 4, 3, 'index2', 2]\n"
     ]
    }
   ],
   "source": [
    "mylist.reverse()\n",
    "print(mylist)"
   ]
  },
  {
   "cell_type": "code",
   "execution_count": 17,
   "id": "442c5b17",
   "metadata": {},
   "outputs": [
    {
     "name": "stdout",
     "output_type": "stream",
     "text": [
      "[2, 'index2', 3, 4, 5, 2, 4, 'a', 'e', 'i', 'o', 'u', 'P', 'y', 't', 'h', 'o', 'n', 77, 7, 17]\n"
     ]
    }
   ],
   "source": [
    "mylist.reverse()\n",
    "newlist = mylist.copy()\n",
    "print(newlist)"
   ]
  },
  {
   "cell_type": "code",
   "execution_count": 18,
   "id": "90dd9ee0",
   "metadata": {},
   "outputs": [
    {
     "data": {
      "text/plain": [
       "[]"
      ]
     },
     "execution_count": 18,
     "metadata": {},
     "output_type": "execute_result"
    }
   ],
   "source": [
    "mylist.clear()\n",
    "mylist"
   ]
  },
  {
   "cell_type": "code",
   "execution_count": 19,
   "id": "0b2f809f",
   "metadata": {},
   "outputs": [
    {
     "name": "stdout",
     "output_type": "stream",
     "text": [
      "[2, 'index2', 3, 4, 5, 2, 4, 'a', 'e', 'i', 'o', 'u', 'P', 'y', 't', 'h', 'o', 'n', 77, 7, 17]\n"
     ]
    }
   ],
   "source": [
    "print(newlist)"
   ]
  },
  {
   "cell_type": "code",
   "execution_count": 20,
   "id": "4f4cd769",
   "metadata": {},
   "outputs": [
    {
     "data": {
      "text/plain": [
       "(1, 2, 3)"
      ]
     },
     "execution_count": 20,
     "metadata": {},
     "output_type": "execute_result"
    }
   ],
   "source": [
    "# Tuples : immutable sequence\n",
    "\n",
    "# tuples can have different data types \n",
    "numbers = (1,2,3)\n",
    "numbers"
   ]
  },
  {
   "cell_type": "code",
   "execution_count": 21,
   "id": "3aaa1839",
   "metadata": {},
   "outputs": [
    {
     "data": {
      "text/plain": [
       "('Nepal', 'China', 'India')"
      ]
     },
     "execution_count": 21,
     "metadata": {},
     "output_type": "execute_result"
    }
   ],
   "source": [
    "tuple_constructor = tuple(('Nepal', 'China', 'India'))\n",
    "tuple_constructor"
   ]
  },
  {
   "cell_type": "code",
   "execution_count": 22,
   "id": "083005f5",
   "metadata": {},
   "outputs": [
    {
     "data": {
      "text/plain": [
       "('Python', 'C++', 1, 3, 4.5, [4, 5], {1, 2, 3, 4}, {'key': 'values'})"
      ]
     },
     "execution_count": 22,
     "metadata": {},
     "output_type": "execute_result"
    }
   ],
   "source": [
    "# Characteristics \n",
    "# Ordered - they maintain the order of elements\n",
    "# Immutable - they cannot be changed after creation\n",
    "# Allow duplicates - they can contain duplicate values\n",
    "tpnames = ('Python', 'C++', 1, 3, 4.5, [4,5], set((1,2,3,4,2,1)), {'key':'values'})\n",
    "tpnames\n"
   ]
  },
  {
   "cell_type": "code",
   "execution_count": 23,
   "id": "072dd4a5",
   "metadata": {},
   "outputs": [
    {
     "data": {
      "text/plain": [
       "{'key': 'values'}"
      ]
     },
     "execution_count": 23,
     "metadata": {},
     "output_type": "execute_result"
    }
   ],
   "source": [
    "# Accessing the tuple elements\n",
    "tpnames[-1]"
   ]
  },
  {
   "cell_type": "code",
   "execution_count": 24,
   "id": "f17f9654",
   "metadata": {},
   "outputs": [
    {
     "data": {
      "text/plain": [
       "1"
      ]
     },
     "execution_count": 24,
     "metadata": {},
     "output_type": "execute_result"
    }
   ],
   "source": [
    "tpnames[2]"
   ]
  },
  {
   "cell_type": "code",
   "execution_count": 25,
   "id": "623d0319",
   "metadata": {},
   "outputs": [
    {
     "name": "stdout",
     "output_type": "stream",
     "text": [
      "Python\n",
      "C++\n",
      "1\n",
      "3\n",
      "4.5\n",
      "[4, 5]\n",
      "{1, 2, 3, 4}\n",
      "{'key': 'values'}\n"
     ]
    }
   ],
   "source": [
    "for tp in tpnames:\n",
    "    print(tp)"
   ]
  },
  {
   "cell_type": "code",
   "execution_count": 26,
   "id": "80ebdd25",
   "metadata": {},
   "outputs": [
    {
     "data": {
      "text/plain": [
       "str"
      ]
     },
     "execution_count": 26,
     "metadata": {},
     "output_type": "execute_result"
    }
   ],
   "source": [
    "# Important\n",
    "var = ('Hello')\n",
    "type(var) # This is a string"
   ]
  },
  {
   "cell_type": "code",
   "execution_count": 27,
   "id": "bb41b90b",
   "metadata": {},
   "outputs": [
    {
     "data": {
      "text/plain": [
       "tuple"
      ]
     },
     "execution_count": 27,
     "metadata": {},
     "output_type": "execute_result"
    }
   ],
   "source": [
    "var = ('Hello', )\n",
    "type(var) # This is a tuple"
   ]
  },
  {
   "cell_type": "code",
   "execution_count": 28,
   "id": "06f8eeea",
   "metadata": {},
   "outputs": [
    {
     "data": {
      "text/plain": [
       "1"
      ]
     },
     "execution_count": 28,
     "metadata": {},
     "output_type": "execute_result"
    }
   ],
   "source": [
    "# Methods\n",
    "tpnames.count(1)"
   ]
  },
  {
   "cell_type": "code",
   "execution_count": 29,
   "id": "0dc6f535",
   "metadata": {},
   "outputs": [
    {
     "data": {
      "text/plain": [
       "5"
      ]
     },
     "execution_count": 29,
     "metadata": {},
     "output_type": "execute_result"
    }
   ],
   "source": [
    "tpnames.index([4,5])"
   ]
  },
  {
   "cell_type": "code",
   "execution_count": 31,
   "id": "435e709a",
   "metadata": {},
   "outputs": [
    {
     "name": "stdout",
     "output_type": "stream",
     "text": [
      "{2, 3, 5, 7, 11, 13, 17, 19}\n",
      "{2, 4, 6, 9, 11, 13}\n"
     ]
    }
   ],
   "source": [
    "# Today will be about sets\n",
    "A = set((2,3,5,7,11,13,17,19))\n",
    "B = set((2,4,6,13,11,9))\n",
    "\n",
    "print(A)\n",
    "print(B)"
   ]
  },
  {
   "cell_type": "code",
   "execution_count": 32,
   "id": "b7b7414d",
   "metadata": {},
   "outputs": [
    {
     "data": {
      "text/plain": [
       "{2, 3, 4, 5, 6, 7, 9, 11, 13, 17, 19}"
      ]
     },
     "execution_count": 32,
     "metadata": {},
     "output_type": "execute_result"
    }
   ],
   "source": [
    "A.union(B)"
   ]
  },
  {
   "cell_type": "code",
   "execution_count": 33,
   "id": "3e42d320",
   "metadata": {},
   "outputs": [
    {
     "data": {
      "text/plain": [
       "{2, 11, 13}"
      ]
     },
     "execution_count": 33,
     "metadata": {},
     "output_type": "execute_result"
    }
   ],
   "source": [
    "A.intersection(B)"
   ]
  },
  {
   "cell_type": "code",
   "execution_count": 34,
   "id": "2afe189f",
   "metadata": {},
   "outputs": [
    {
     "data": {
      "text/plain": [
       "{3, 5, 7, 17, 19}"
      ]
     },
     "execution_count": 34,
     "metadata": {},
     "output_type": "execute_result"
    }
   ],
   "source": [
    "A.difference(B)"
   ]
  },
  {
   "cell_type": "code",
   "execution_count": 35,
   "id": "e636e12e",
   "metadata": {},
   "outputs": [
    {
     "data": {
      "text/plain": [
       "{3, 4, 5, 6, 7, 9, 17, 19}"
      ]
     },
     "execution_count": 35,
     "metadata": {},
     "output_type": "execute_result"
    }
   ],
   "source": [
    "A.symmetric_difference(B)"
   ]
  },
  {
   "cell_type": "code",
   "execution_count": 37,
   "id": "08036160",
   "metadata": {},
   "outputs": [
    {
     "data": {
      "text/plain": [
       "{2, 3, 5, 7, 11, 13, 17, 19, 23}"
      ]
     },
     "execution_count": 37,
     "metadata": {},
     "output_type": "execute_result"
    }
   ],
   "source": [
    "A.add(23) # Add a new element\n",
    "A"
   ]
  },
  {
   "cell_type": "code",
   "execution_count": null,
   "id": "3b53ac3c",
   "metadata": {},
   "outputs": [],
   "source": [
    "# Dictionaries\n",
    "std_profile = {\n",
    "    'name': 'Rabin',\n",
    "    'age': 23,\n",
    "    'country': 'Nepal',\n",
    "    'language': 'Python',\n",
    "    'score': 95,\n",
    "    'height_cm': 172,\n",
    "    'weight_kg': 68,\n",
    "    'gender': 'Male',\n",
    "    'is_student': True,\n",
    "    'courses': ['Math', 'Science', 'English'],\n",
    "    'grades': {'Math': 'A', 'Science': 'B+', 'English': 'A-'},\n",
    "    'email': 'rabin@example.com',\n",
    "    'phone': '9800000000',\n",
    "    'hobbies': ['reading', 'cycling', 'coding'],\n",
    "    'skills': ['Python', 'C++', 'SQL'],\n",
    "    'dob': '2001-07-15',\n",
    "    'blood_group': 'O+',\n",
    "    'address': 'Kathmandu',\n",
    "    'university': 'TU',\n",
    "    'graduated': False\n",
    "}\n",
    "# the key of dictionary must be immutable\n",
    "# immutable objects in python are : integer, tuple, and string\n",
    "# However, the dictionary values can be any data type, including mutable"
   ]
  },
  {
   "cell_type": "code",
   "execution_count": 2,
   "id": "fda0c935",
   "metadata": {},
   "outputs": [
    {
     "name": "stdout",
     "output_type": "stream",
     "text": [
      "name : Rabin\n",
      "age : 23\n",
      "country : Nepal\n",
      "language : Python\n",
      "score : 95\n",
      "height_cm : 172\n",
      "weight_kg : 68\n",
      "gender : Male\n",
      "is_student : True\n",
      "courses : ['Math', 'Science', 'English']\n",
      "grades : {'Math': 'A', 'Science': 'B+', 'English': 'A-'}\n",
      "email : rabin@example.com\n",
      "phone : 9800000000\n",
      "hobbies : ['reading', 'cycling', 'coding']\n",
      "skills : ['Python', 'C++', 'SQL']\n",
      "dob : 2001-07-15\n",
      "blood_group : O+\n",
      "address : Kathmandu\n",
      "university : TU\n",
      "graduated : False\n"
     ]
    }
   ],
   "source": [
    "for key, value in std_profile.items():\n",
    "    print(f'{key} : {value}')"
   ]
  },
  {
   "cell_type": "code",
   "execution_count": 3,
   "id": "0eecbfa1",
   "metadata": {},
   "outputs": [
    {
     "data": {
      "text/plain": [
       "['Math', 'Science', 'English']"
      ]
     },
     "execution_count": 3,
     "metadata": {},
     "output_type": "execute_result"
    }
   ],
   "source": [
    "std_profile.get('age') # pass the key to get value\n",
    "std_profile.get('courses')"
   ]
  },
  {
   "cell_type": "code",
   "execution_count": 4,
   "id": "d33334d0",
   "metadata": {},
   "outputs": [
    {
     "data": {
      "text/plain": [
       "dict_items([('name', 'Rabin'), ('age', 23), ('country', 'Nepal'), ('language', 'Python'), ('score', 95), ('height_cm', 172), ('weight_kg', 68), ('gender', 'Male'), ('is_student', True), ('courses', ['Math', 'Science', 'English']), ('grades', {'Math': 'A', 'Science': 'B+', 'English': 'A-'}), ('email', 'rabin@example.com'), ('phone', '9800000000'), ('hobbies', ['reading', 'cycling', 'coding']), ('skills', ['Python', 'C++', 'SQL']), ('dob', '2001-07-15'), ('blood_group', 'O+'), ('address', 'Kathmandu'), ('university', 'TU'), ('graduated', False)])"
      ]
     },
     "execution_count": 4,
     "metadata": {},
     "output_type": "execute_result"
    }
   ],
   "source": [
    "std_profile.items()"
   ]
  },
  {
   "cell_type": "code",
   "execution_count": 7,
   "id": "d818e354",
   "metadata": {},
   "outputs": [
    {
     "data": {
      "text/plain": [
       "{(1, 2): 'one two', (3, 4): 'three four'}"
      ]
     },
     "execution_count": 7,
     "metadata": {},
     "output_type": "execute_result"
    }
   ],
   "source": [
    "# immutable keys\n",
    "my_dict = {(1,2) : \"one two\", (3,4):\"three four\"}\n",
    "my_dict"
   ]
  },
  {
   "cell_type": "code",
   "execution_count": 8,
   "id": "7f643a85",
   "metadata": {},
   "outputs": [
    {
     "data": {
      "text/plain": [
       "{1: 'one', 2: 'two', 3: 'three'}"
      ]
     },
     "execution_count": 8,
     "metadata": {},
     "output_type": "execute_result"
    }
   ],
   "source": [
    "num_dict = {1 : \"one\", 2 : \"two\", 3 : \"three\"}\n",
    "num_dict"
   ]
  },
  {
   "cell_type": "code",
   "execution_count": null,
   "id": "fa3adfa0",
   "metadata": {},
   "outputs": [],
   "source": []
  }
 ],
 "metadata": {
  "kernelspec": {
   "display_name": "sansui",
   "language": "python",
   "name": "python3"
  },
  "language_info": {
   "codemirror_mode": {
    "name": "ipython",
    "version": 3
   },
   "file_extension": ".py",
   "mimetype": "text/x-python",
   "name": "python",
   "nbconvert_exporter": "python",
   "pygments_lexer": "ipython3",
   "version": "3.8.17"
  }
 },
 "nbformat": 4,
 "nbformat_minor": 5
}
