{
 "cells": [
  {
   "cell_type": "markdown",
   "id": "d2aa593a",
   "metadata": {},
   "source": [
    "Stage 3 "
   ]
  },
  {
   "cell_type": "code",
   "execution_count": 2,
   "id": "174867bc",
   "metadata": {},
   "outputs": [],
   "source": [
    "# Stage 3 will be more on Data Structures.\n",
    "# List functions\n",
    "import numpy as np\n",
    "\n",
    "mixed_list = [\n",
    "    12, 3.14, 'hello', True, None, [1, 2], {'a': 1}, (5, 6), 99, 'world',\n",
    "    False, 0, 100, 'Python', 8.8, 'GPT', {1, 2, 3}, 42, 'looping', -7,\n",
    "    True, False, None, np.nan, \"----\", (34,4,2,2), [3,4]\n",
    "]"
   ]
  },
  {
   "cell_type": "code",
   "execution_count": 3,
   "id": "154e1ed5",
   "metadata": {},
   "outputs": [
    {
     "data": {
      "text/plain": [
       "[12,\n",
       " 3.14,\n",
       " 'hello',\n",
       " True,\n",
       " None,\n",
       " [1, 2],\n",
       " {'a': 1},\n",
       " (5, 6),\n",
       " 99,\n",
       " 'world',\n",
       " False,\n",
       " 0,\n",
       " 100,\n",
       " 'Python',\n",
       " 8.8,\n",
       " 'GPT',\n",
       " {1, 2, 3},\n",
       " 42,\n",
       " 'looping',\n",
       " -7,\n",
       " True,\n",
       " False,\n",
       " None,\n",
       " nan,\n",
       " '----',\n",
       " (34, 4, 2, 2),\n",
       " [3, 4],\n",
       " 'The append']"
      ]
     },
     "execution_count": 3,
     "metadata": {},
     "output_type": "execute_result"
    }
   ],
   "source": [
    "mixed_list.append(\"The append\")\n",
    "mixed_list"
   ]
  },
  {
   "cell_type": "code",
   "execution_count": 4,
   "id": "01378f73",
   "metadata": {},
   "outputs": [
    {
     "data": {
      "text/plain": [
       "'----'"
      ]
     },
     "execution_count": 4,
     "metadata": {},
     "output_type": "execute_result"
    }
   ],
   "source": [
    "mixed_list[-4]"
   ]
  },
  {
   "cell_type": "code",
   "execution_count": 5,
   "id": "b2f7f04a",
   "metadata": {},
   "outputs": [
    {
     "data": {
      "text/plain": [
       "12"
      ]
     },
     "execution_count": 5,
     "metadata": {},
     "output_type": "execute_result"
    }
   ],
   "source": [
    "mixed_list[0]"
   ]
  },
  {
   "cell_type": "code",
   "execution_count": 6,
   "id": "b6d87dc2",
   "metadata": {},
   "outputs": [
    {
     "data": {
      "text/plain": [
       "[12, 3.14]"
      ]
     },
     "execution_count": 6,
     "metadata": {},
     "output_type": "execute_result"
    }
   ],
   "source": [
    "mixed_list[0:2]"
   ]
  },
  {
   "cell_type": "code",
   "execution_count": 7,
   "id": "527eca61",
   "metadata": {},
   "outputs": [
    {
     "data": {
      "text/plain": [
       "['The append',\n",
       " [3, 4],\n",
       " (34, 4, 2, 2),\n",
       " '----',\n",
       " nan,\n",
       " None,\n",
       " False,\n",
       " True,\n",
       " -7,\n",
       " 'looping',\n",
       " 42,\n",
       " {1, 2, 3},\n",
       " 'GPT',\n",
       " 8.8,\n",
       " 'Python',\n",
       " 100,\n",
       " 0,\n",
       " False,\n",
       " 'world',\n",
       " 99,\n",
       " (5, 6),\n",
       " {'a': 1},\n",
       " [1, 2],\n",
       " None,\n",
       " True,\n",
       " 'hello',\n",
       " 3.14,\n",
       " 12]"
      ]
     },
     "execution_count": 7,
     "metadata": {},
     "output_type": "execute_result"
    }
   ],
   "source": [
    "mixed_list[::-1] # reverse a list"
   ]
  },
  {
   "cell_type": "code",
   "execution_count": 8,
   "id": "6aca225d",
   "metadata": {},
   "outputs": [
    {
     "data": {
      "text/plain": [
       "[12,\n",
       " 'hello',\n",
       " None,\n",
       " {'a': 1},\n",
       " 99,\n",
       " False,\n",
       " 100,\n",
       " 8.8,\n",
       " {1, 2, 3},\n",
       " 'looping',\n",
       " True,\n",
       " None,\n",
       " '----',\n",
       " [3, 4]]"
      ]
     },
     "execution_count": 8,
     "metadata": {},
     "output_type": "execute_result"
    }
   ],
   "source": [
    "mixed_list[::2]"
   ]
  },
  {
   "cell_type": "code",
   "execution_count": 9,
   "id": "d4b0fee0",
   "metadata": {},
   "outputs": [],
   "source": [
    "# Method\tDescription\n",
    "# append()\tAdds an item to the end of the list\n",
    "# extend()\tAdds items of lists and other iterables to the end of the list\n",
    "# insert()\tInserts an item at the specified index\n",
    "# remove()\tRemoves the specified value from the list\n",
    "# pop()\tReturns and removes item present at the given index\n",
    "# clear()\tRemoves all items from the list\n",
    "# index()\tReturns the index of the first matched item\n",
    "# count()\tReturns the count of the specified item in the list\n",
    "# sort()\tSorts the list in ascending/descending order\n",
    "# reverse()\tReverses the item of the list\n",
    "# copy()\tReturns the shallow copy of the list"
   ]
  },
  {
   "cell_type": "code",
   "execution_count": 10,
   "id": "b642fa9f",
   "metadata": {},
   "outputs": [
    {
     "name": "stdout",
     "output_type": "stream",
     "text": [
      "[1, 2, 3, 4, 4, 5, 2, 4, 'a', 'e', 'i', 'o', 'u', 'P', 'y', 't', 'h', 'o', 'n']\n"
     ]
    }
   ],
   "source": [
    "name = \"Python\"\n",
    "mylist = [1,2,3,4,4,5,2,4,'a', 'e','i','o','u']\n",
    "mylist.extend(name)\n",
    "print(mylist)"
   ]
  },
  {
   "cell_type": "code",
   "execution_count": 11,
   "id": "ac50fd10",
   "metadata": {},
   "outputs": [
    {
     "name": "stdout",
     "output_type": "stream",
     "text": [
      "[1, 2, 3, 4, 4, 5, 2, 4, 'a', 'e', 'i', 'o', 'u', 'P', 'y', 't', 'h', 'o', 'n', 77, 7, 17]\n"
     ]
    }
   ],
   "source": [
    "l2 = [77, 7, 17]\n",
    "mylist.extend(l2)\n",
    "print(mylist)"
   ]
  },
  {
   "cell_type": "code",
   "execution_count": 12,
   "id": "7e3b164e",
   "metadata": {},
   "outputs": [
    {
     "name": "stdout",
     "output_type": "stream",
     "text": [
      "[1, 2, 'index2', 3, 4, 4, 5, 2, 4, 'a', 'e', 'i', 'o', 'u', 'P', 'y', 't', 'h', 'o', 'n', 77, 7, 17]\n"
     ]
    }
   ],
   "source": [
    "mylist.insert(2, 'index2')\n",
    "print(mylist)"
   ]
  },
  {
   "cell_type": "code",
   "execution_count": 13,
   "id": "78bddfe0",
   "metadata": {},
   "outputs": [
    {
     "name": "stdout",
     "output_type": "stream",
     "text": [
      "[1, 2, 'index2', 3, 4, 5, 2, 4, 'a', 'e', 'i', 'o', 'u', 'P', 'y', 't', 'h', 'o', 'n', 77, 7, 17]\n"
     ]
    }
   ],
   "source": [
    "mylist.remove(4)\n",
    "print(mylist)"
   ]
  },
  {
   "cell_type": "code",
   "execution_count": 14,
   "id": "0dc3baa3",
   "metadata": {},
   "outputs": [
    {
     "name": "stdout",
     "output_type": "stream",
     "text": [
      "[2, 'index2', 3, 4, 5, 2, 4, 'a', 'e', 'i', 'o', 'u', 'P', 'y', 't', 'h', 'o', 'n', 77, 7, 17]\n"
     ]
    }
   ],
   "source": [
    "mylist.pop(0)\n",
    "print(mylist)"
   ]
  },
  {
   "cell_type": "code",
   "execution_count": 15,
   "id": "91b9ab72",
   "metadata": {},
   "outputs": [
    {
     "data": {
      "text/plain": [
       "2"
      ]
     },
     "execution_count": 15,
     "metadata": {},
     "output_type": "execute_result"
    }
   ],
   "source": [
    "mylist.index(3)"
   ]
  },
  {
   "cell_type": "code",
   "execution_count": 16,
   "id": "e71fcb2b",
   "metadata": {},
   "outputs": [
    {
     "data": {
      "text/plain": [
       "2"
      ]
     },
     "execution_count": 16,
     "metadata": {},
     "output_type": "execute_result"
    }
   ],
   "source": [
    "mylist.count('o')"
   ]
  },
  {
   "cell_type": "code",
   "execution_count": 17,
   "id": "fc3ac090",
   "metadata": {},
   "outputs": [
    {
     "name": "stdout",
     "output_type": "stream",
     "text": [
      "[17, 7, 77, 'n', 'o', 'h', 't', 'y', 'P', 'u', 'o', 'i', 'e', 'a', 4, 2, 5, 4, 3, 'index2', 2]\n"
     ]
    }
   ],
   "source": [
    "mylist.reverse()\n",
    "print(mylist)"
   ]
  },
  {
   "cell_type": "code",
   "execution_count": 18,
   "id": "442c5b17",
   "metadata": {},
   "outputs": [
    {
     "name": "stdout",
     "output_type": "stream",
     "text": [
      "[2, 'index2', 3, 4, 5, 2, 4, 'a', 'e', 'i', 'o', 'u', 'P', 'y', 't', 'h', 'o', 'n', 77, 7, 17]\n"
     ]
    }
   ],
   "source": [
    "mylist.reverse()\n",
    "newlist = mylist.copy()\n",
    "print(newlist)"
   ]
  },
  {
   "cell_type": "code",
   "execution_count": 19,
   "id": "90dd9ee0",
   "metadata": {},
   "outputs": [
    {
     "data": {
      "text/plain": [
       "[]"
      ]
     },
     "execution_count": 19,
     "metadata": {},
     "output_type": "execute_result"
    }
   ],
   "source": [
    "mylist.clear()\n",
    "mylist"
   ]
  },
  {
   "cell_type": "code",
   "execution_count": 20,
   "id": "0b2f809f",
   "metadata": {},
   "outputs": [
    {
     "name": "stdout",
     "output_type": "stream",
     "text": [
      "[2, 'index2', 3, 4, 5, 2, 4, 'a', 'e', 'i', 'o', 'u', 'P', 'y', 't', 'h', 'o', 'n', 77, 7, 17]\n"
     ]
    }
   ],
   "source": [
    "print(newlist)"
   ]
  },
  {
   "cell_type": "code",
   "execution_count": null,
   "id": "4f4cd769",
   "metadata": {},
   "outputs": [
    {
     "data": {
      "text/plain": [
       "(1, 2, 3)"
      ]
     },
     "execution_count": 21,
     "metadata": {},
     "output_type": "execute_result"
    }
   ],
   "source": [
    "# Tuples : immutable sequence\n",
    "\n",
    "# tuples can have different data types \n",
    "numbers = (1,2,3)\n",
    "numbers"
   ]
  },
  {
   "cell_type": "code",
   "execution_count": 22,
   "id": "3aaa1839",
   "metadata": {},
   "outputs": [
    {
     "data": {
      "text/plain": [
       "('Nepal', 'China', 'India')"
      ]
     },
     "execution_count": 22,
     "metadata": {},
     "output_type": "execute_result"
    }
   ],
   "source": [
    "tuple_constructor = tuple(('Nepal', 'China', 'India'))\n",
    "tuple_constructor"
   ]
  },
  {
   "cell_type": "code",
   "execution_count": 24,
   "id": "083005f5",
   "metadata": {},
   "outputs": [
    {
     "data": {
      "text/plain": [
       "('Python', 'C++', 1, 3, 4.5, [4, 5], {1, 2, 3, 4}, {'key': 'values'})"
      ]
     },
     "execution_count": 24,
     "metadata": {},
     "output_type": "execute_result"
    }
   ],
   "source": [
    "# Characteristics \n",
    "# Ordered - they maintain the order of elements\n",
    "# Immutable - they cannot be changed after creation\n",
    "# Allow duplicates - they can contain duplicate values\n",
    "tpnames = ('Python', 'C++', 1, 3, 4.5, [4,5], set((1,2,3,4,2,1)), {'key':'values'})\n",
    "tpnames\n"
   ]
  },
  {
   "cell_type": "code",
   "execution_count": 25,
   "id": "072dd4a5",
   "metadata": {},
   "outputs": [
    {
     "data": {
      "text/plain": [
       "{'key': 'values'}"
      ]
     },
     "execution_count": 25,
     "metadata": {},
     "output_type": "execute_result"
    }
   ],
   "source": [
    "# Accessing the tuple elements\n",
    "tpnames[-1]"
   ]
  },
  {
   "cell_type": "code",
   "execution_count": 26,
   "id": "f17f9654",
   "metadata": {},
   "outputs": [
    {
     "data": {
      "text/plain": [
       "1"
      ]
     },
     "execution_count": 26,
     "metadata": {},
     "output_type": "execute_result"
    }
   ],
   "source": [
    "tpnames[2]"
   ]
  },
  {
   "cell_type": "code",
   "execution_count": 27,
   "id": "623d0319",
   "metadata": {},
   "outputs": [
    {
     "name": "stdout",
     "output_type": "stream",
     "text": [
      "Python\n",
      "C++\n",
      "1\n",
      "3\n",
      "4.5\n",
      "[4, 5]\n",
      "{1, 2, 3, 4}\n",
      "{'key': 'values'}\n"
     ]
    }
   ],
   "source": [
    "for tp in tpnames:\n",
    "    print(tp)"
   ]
  },
  {
   "cell_type": "code",
   "execution_count": null,
   "id": "80ebdd25",
   "metadata": {},
   "outputs": [
    {
     "data": {
      "text/plain": [
       "str"
      ]
     },
     "execution_count": 28,
     "metadata": {},
     "output_type": "execute_result"
    }
   ],
   "source": [
    "# Important\n",
    "var = ('Hello')\n",
    "type(var) # This is a string"
   ]
  },
  {
   "cell_type": "code",
   "execution_count": null,
   "id": "bb41b90b",
   "metadata": {},
   "outputs": [
    {
     "data": {
      "text/plain": [
       "tuple"
      ]
     },
     "execution_count": 29,
     "metadata": {},
     "output_type": "execute_result"
    }
   ],
   "source": [
    "var = ('Hello', )\n",
    "type(var) # This is a tuple"
   ]
  },
  {
   "cell_type": "code",
   "execution_count": 30,
   "id": "06f8eeea",
   "metadata": {},
   "outputs": [
    {
     "data": {
      "text/plain": [
       "1"
      ]
     },
     "execution_count": 30,
     "metadata": {},
     "output_type": "execute_result"
    }
   ],
   "source": [
    "# Methods\n",
    "tpnames.count(1)"
   ]
  },
  {
   "cell_type": "code",
   "execution_count": 31,
   "id": "0dc6f535",
   "metadata": {},
   "outputs": [
    {
     "data": {
      "text/plain": [
       "5"
      ]
     },
     "execution_count": 31,
     "metadata": {},
     "output_type": "execute_result"
    }
   ],
   "source": [
    "tpnames.index([4,5])"
   ]
  },
  {
   "cell_type": "code",
   "execution_count": null,
   "id": "435e709a",
   "metadata": {},
   "outputs": [],
   "source": []
  }
 ],
 "metadata": {
  "kernelspec": {
   "display_name": "sansui",
   "language": "python",
   "name": "python3"
  },
  "language_info": {
   "codemirror_mode": {
    "name": "ipython",
    "version": 3
   },
   "file_extension": ".py",
   "mimetype": "text/x-python",
   "name": "python",
   "nbconvert_exporter": "python",
   "pygments_lexer": "ipython3",
   "version": "3.8.17"
  }
 },
 "nbformat": 4,
 "nbformat_minor": 5
}
