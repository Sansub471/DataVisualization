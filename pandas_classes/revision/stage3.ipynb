{
 "cells": [
  {
   "cell_type": "markdown",
   "id": "d2aa593a",
   "metadata": {},
   "source": [
    "Stage 3 "
   ]
  },
  {
   "cell_type": "code",
   "execution_count": null,
   "id": "174867bc",
   "metadata": {},
   "outputs": [],
   "source": []
  }
 ],
 "metadata": {
  "kernelspec": {
   "display_name": "sansui",
   "language": "python",
   "name": "python3"
  },
  "language_info": {
   "name": "python",
   "version": "3.8.17"
  }
 },
 "nbformat": 4,
 "nbformat_minor": 5
}
