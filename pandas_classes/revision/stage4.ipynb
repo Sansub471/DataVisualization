{
 "cells": [
  {
   "cell_type": "markdown",
   "id": "b08d1c4b",
   "metadata": {},
   "source": [
    "Defining and calling a function"
   ]
  },
  {
   "cell_type": "code",
   "execution_count": 5,
   "id": "994e1d32",
   "metadata": {},
   "outputs": [
    {
     "name": "stdout",
     "output_type": "stream",
     "text": [
      "Area of rectangle = 554.5082000000001\n"
     ]
    }
   ],
   "source": [
    "def Area(length, breadth):\n",
    "    return length * breadth\n",
    "\n",
    "length = 45.34\n",
    "breadth = 12.23\n",
    "print(f'Area of rectangle = {Area(length, breadth)}')"
   ]
  },
  {
   "cell_type": "code",
   "execution_count": 8,
   "id": "8b96c828",
   "metadata": {},
   "outputs": [
    {
     "name": "stdout",
     "output_type": "stream",
     "text": [
      "Area of circle = 153.86\n"
     ]
    }
   ],
   "source": [
    "def circle(radius, PI = 3.14):\n",
    "    return PI*radius*radius\n",
    "\n",
    "print(f'Area of circle = {circle(7)}')"
   ]
  },
  {
   "cell_type": "code",
   "execution_count": 22,
   "id": "bf7c0698",
   "metadata": {},
   "outputs": [
    {
     "data": {
      "text/plain": [
       "4.890965732087228"
      ]
     },
     "execution_count": 22,
     "metadata": {},
     "output_type": "execute_result"
    }
   ],
   "source": [
    "# Arguments : Positional, Keywords, Default, Variable length\n",
    "# This order of passing argument must be followed\n",
    "def calculate(a, b, pow = 2):\n",
    "    PI = 3.14\n",
    "    return PI*(a**pow)*b / (4 * 12.84) \n",
    "\n",
    "calculate(4,5) # positional arguments"
   ]
  },
  {
   "cell_type": "code",
   "execution_count": 23,
   "id": "ad58cd64",
   "metadata": {},
   "outputs": [
    {
     "name": "stdout",
     "output_type": "stream",
     "text": [
      "14.978582554517136\n",
      "14.978582554517136\n"
     ]
    }
   ],
   "source": [
    "print(calculate(a = 7, b = 5))\n",
    "print(calculate(b=5, a = 7)) # keyword argument\n",
    "# The order is not important"
   ]
  },
  {
   "cell_type": "code",
   "execution_count": 24,
   "id": "0fb8954b",
   "metadata": {},
   "outputs": [
    {
     "name": "stdout",
     "output_type": "stream",
     "text": [
      "104.85007788161995\n"
     ]
    }
   ],
   "source": [
    "# Default argument\n",
    "power = 5\n",
    "print(calculate(7,5,pow = 3))"
   ]
  },
  {
   "cell_type": "code",
   "execution_count": 25,
   "id": "222f6642",
   "metadata": {},
   "outputs": [
    {
     "name": "stdout",
     "output_type": "stream",
     "text": [
      "15\n"
     ]
    }
   ],
   "source": [
    "# Variable Length Argument\n",
    "# *args - multiple positional arguments\n",
    "# **kwargs - multiple keyword arguments\n",
    "def total(*args):\n",
    "    return sum(args)\n",
    "\n",
    "print(total(1,2,3,4,5))"
   ]
  },
  {
   "cell_type": "code",
   "execution_count": 27,
   "id": "e7b89b36",
   "metadata": {},
   "outputs": [
    {
     "name": "stdout",
     "output_type": "stream",
     "text": [
      "{'name': 'Ravi', 'age': 23}\n"
     ]
    }
   ],
   "source": [
    "def profile(**kwargs):\n",
    "    return kwargs\n",
    "\n",
    "print(profile(name='Ravi', age = 23))"
   ]
  },
  {
   "cell_type": "code",
   "execution_count": 1,
   "id": "5aba7a7a",
   "metadata": {},
   "outputs": [],
   "source": [
    "# Learn more about *arga and **kwargs\n"
   ]
  },
  {
   "cell_type": "code",
   "execution_count": null,
   "id": "b2d1b309",
   "metadata": {},
   "outputs": [],
   "source": []
  },
  {
   "cell_type": "code",
   "execution_count": null,
   "id": "cf53d264",
   "metadata": {},
   "outputs": [],
   "source": []
  },
  {
   "cell_type": "code",
   "execution_count": null,
   "id": "be11abb5",
   "metadata": {},
   "outputs": [],
   "source": []
  },
  {
   "cell_type": "markdown",
   "id": "01e7ba81",
   "metadata": {},
   "source": [
    "# Lambda function"
   ]
  },
  {
   "cell_type": "code",
   "execution_count": null,
   "id": "97865eb1",
   "metadata": {},
   "outputs": [
    {
     "name": "stdout",
     "output_type": "stream",
     "text": [
      "25\n"
     ]
    }
   ],
   "source": [
    "# syntax :- lambda  arguments : expression\n",
    "# arguments : one or more inputs(like function parameters)\n",
    "# expression : A single expression that gets evaluated and returned\n",
    "\n",
    "def sqr(x):\n",
    "    return x**2\n",
    "\n",
    "# Using lambda function\n",
    "\n",
    "square = lambda x: x ** 2\n",
    "print(square(5))  # 25"
   ]
  },
  {
   "cell_type": "code",
   "execution_count": 1,
   "id": "0423a09c",
   "metadata": {},
   "outputs": [
    {
     "name": "stdout",
     "output_type": "stream",
     "text": [
      "10\n"
     ]
    }
   ],
   "source": [
    "# with multiple arguments\n",
    "\n",
    "def ADD(a, b):\n",
    "    return a + b\n",
    "\n",
    "# usign lambda function\n",
    "\n",
    "add = lambda a, b: a + b\n",
    "print(add(3, 7))  # 10\n"
   ]
  },
  {
   "cell_type": "code",
   "execution_count": 4,
   "id": "51a69537",
   "metadata": {},
   "outputs": [
    {
     "name": "stdout",
     "output_type": "stream",
     "text": [
      "<class 'function'>\n",
      "<function <lambda> at 0x72689c5dab80>\n",
      "Hello Python!\n"
     ]
    }
   ],
   "source": [
    "# with no argument\n",
    "greet = lambda : \"Hello Python!\"\n",
    "print(type(greet))\n",
    "print(greet)\n",
    "print(greet())"
   ]
  },
  {
   "cell_type": "code",
   "execution_count": 5,
   "id": "89ba5d36",
   "metadata": {},
   "outputs": [
    {
     "name": "stdout",
     "output_type": "stream",
     "text": [
      "45\n"
     ]
    }
   ],
   "source": [
    "# with conditional expression\n",
    "max_val = lambda x,y : x if x > y else y\n",
    "print(max_val(45, 37))"
   ]
  },
  {
   "cell_type": "code",
   "execution_count": null,
   "id": "75953b66",
   "metadata": {},
   "outputs": [],
   "source": [
    "# Notes :\n",
    "# lambds fuction can only contain one expression, not statements like if, for, or while\n",
    "# cannot include multiple lines\n",
    "# less redable for complex logic\n",
    "# short, inline, anonymous function"
   ]
  },
  {
   "cell_type": "markdown",
   "id": "ebcc8307",
   "metadata": {},
   "source": [
    "map(), filter(), reduce(), zip()"
   ]
  },
  {
   "cell_type": "code",
   "execution_count": 2,
   "id": "88605ce7",
   "metadata": {},
   "outputs": [
    {
     "name": "stdout",
     "output_type": "stream",
     "text": [
      "[1, 4, 9, 16, 25, 36, 49, 64]\n"
     ]
    }
   ],
   "source": [
    "nums = [1, 2, 3, 4, 5, 6, 7, 8]\n",
    "# map() : apply a function to all items, map(function, iterable)\n",
    "# function : A function that will be applied to each item of the iterable\n",
    "# iterable : A sequence( like a list, tuple, set, etc.) whose items you want to transform\n",
    "\n",
    "squares = list(map(lambda x : x**2, nums))\n",
    "print(squares)"
   ]
  },
  {
   "cell_type": "code",
   "execution_count": 3,
   "id": "d02f01d3",
   "metadata": {},
   "outputs": [
    {
     "name": "stdout",
     "output_type": "stream",
     "text": [
      "<map object at 0x77f28c1ef3a0>\n"
     ]
    },
    {
     "data": {
      "text/plain": [
       "set()"
      ]
     },
     "execution_count": 3,
     "metadata": {},
     "output_type": "execute_result"
    }
   ],
   "source": [
    "sqrs = map(lambda x : x**2, nums)\n",
    "print(sqrs) # returns an object which is an iterator, typecast it to another iterable like list, tuple, set\n",
    "tuple(sqrs)\n",
    "list(sqrs)\n",
    "set(sqrs)\n"
   ]
  },
  {
   "cell_type": "code",
   "execution_count": null,
   "id": "9212fed7",
   "metadata": {},
   "outputs": [
    {
     "name": "stdout",
     "output_type": "stream",
     "text": [
      "[2, 4, 6, 8]\n"
     ]
    }
   ],
   "source": [
    "# filter() - filter items using a condition\n",
    "\n",
    "# Syntax : filter(function, iterable)\n",
    "# function : A function that returns True or False for each item\n",
    "# iterable : A sequence (like a list, tuple, set, etc.) to filter\n",
    "\n",
    "# Return type : a filter object(iterator), usually converted to a list, tuple, etc.\n",
    "even = list(filter(lambda x : x % 2 == 0, nums))\n",
    "print(even)"
   ]
  },
  {
   "cell_type": "code",
   "execution_count": 5,
   "id": "3b6f03c2",
   "metadata": {},
   "outputs": [
    {
     "name": "stdout",
     "output_type": "stream",
     "text": [
      "[2, 4, 6, 8]\n"
     ]
    }
   ],
   "source": [
    "def evenCheck(num):\n",
    "    if(num % 2 == 0):\n",
    "        return True\n",
    "    else:\n",
    "        return False\n",
    "\n",
    "evens = list(filter(evenCheck, nums))\n",
    "print(evens)"
   ]
  },
  {
   "cell_type": "code",
   "execution_count": 6,
   "id": "c2a2d0ba",
   "metadata": {},
   "outputs": [],
   "source": [
    "# reduce() is used to apply a function cumulatively to the items of an iterable,\n",
    "# reducing it to a single final value\n",
    "\n",
    "# from functools import reduce\n",
    "\n",
    "# reduce(function, iterable[, initializer])\n",
    "\n",
    "# function: A function that takes two arguments\n",
    "# iterable: A sequence like a list or tuple\n",
    "# initializer (optional) : A starting value added before the first element\n",
    "\n"
   ]
  },
  {
   "cell_type": "code",
   "execution_count": 11,
   "id": "5a4d63db",
   "metadata": {},
   "outputs": [
    {
     "name": "stdout",
     "output_type": "stream",
     "text": [
      "0\n"
     ]
    }
   ],
   "source": [
    "# Eg. Sum of all elements\n",
    "from functools import reduce\n",
    "total = reduce(lambda x, y : x+y, nums, -36)\n",
    "print(total)\n",
    "\n",
    "# Think of it as sum = 0 if the initializer is not passed \n",
    "# and if passed them sum = initializer would be the start\n",
    "\n",
    "# Try with multiplication\n",
    "\n",
    "# steps : \n",
    "# 1 + 2 = 3\n",
    "# 3 + 3 = 6\n",
    "# 6 + 4 = 10\n",
    "# 10 + 5 = 15\n",
    "# 15 + 6 = 21\n",
    "# 21 + 7 = 28\n",
    "# 28 + 8 = 36"
   ]
  },
  {
   "cell_type": "markdown",
   "id": "ac6c219d",
   "metadata": {},
   "source": [
    "Solving problems using reduce()"
   ]
  },
  {
   "cell_type": "code",
   "execution_count": 12,
   "id": "3120c771",
   "metadata": {},
   "outputs": [
    {
     "name": "stdout",
     "output_type": "stream",
     "text": [
      "Nepal is a beautiful country.\n"
     ]
    }
   ],
   "source": [
    "from functools import reduce\n",
    "# 1. Concatenate strings in a list\n",
    "words = [\"Nepal\", \"is\", \"a\",\"beautiful\", \"country.\"]\n",
    "sentence = reduce(lambda x, y : x + \" \" + y, words)\n",
    "print(sentence)"
   ]
  },
  {
   "cell_type": "code",
   "execution_count": 13,
   "id": "b412cd05",
   "metadata": {},
   "outputs": [
    {
     "name": "stdout",
     "output_type": "stream",
     "text": [
      "Max = 89\n",
      "Min = 10\n"
     ]
    }
   ],
   "source": [
    "# 2. Find the maximum value manually\n",
    "nums = [10, 12, 45, 12, 89, 21, 89, 28, 77, 72]\n",
    "maximum = reduce(lambda x, y : x if x > y else y, nums)\n",
    "print(f'Max = {maximum}')\n",
    "\n",
    "minimum = reduce(lambda x,y : x if x < y else y, nums)\n",
    "print(f'Min = {minimum}')"
   ]
  },
  {
   "cell_type": "code",
   "execution_count": 15,
   "id": "1ab723ad",
   "metadata": {},
   "outputs": [
    {
     "name": "stdout",
     "output_type": "stream",
     "text": [
      "5! = 120\n"
     ]
    }
   ],
   "source": [
    "# 3. Calculate factorial\n",
    "n = 5\n",
    "factorial = reduce(lambda x, y : x * y, range(1, n + 1))\n",
    "print(f'{n}! = {factorial}')"
   ]
  },
  {
   "cell_type": "code",
   "execution_count": 16,
   "id": "0efbe43c",
   "metadata": {},
   "outputs": [
    {
     "name": "stdout",
     "output_type": "stream",
     "text": [
      "1234\n"
     ]
    }
   ],
   "source": [
    "# 4. Convert a list of digits to an integer\n",
    "digits = [1,2,3,4]\n",
    "number = reduce(lambda x, y : x*10 + y, digits)\n",
    "print(number)"
   ]
  },
  {
   "cell_type": "code",
   "execution_count": null,
   "id": "28187902",
   "metadata": {},
   "outputs": [],
   "source": []
  }
 ],
 "metadata": {
  "kernelspec": {
   "display_name": "sansui",
   "language": "python",
   "name": "python3"
  },
  "language_info": {
   "codemirror_mode": {
    "name": "ipython",
    "version": 3
   },
   "file_extension": ".py",
   "mimetype": "text/x-python",
   "name": "python",
   "nbconvert_exporter": "python",
   "pygments_lexer": "ipython3",
   "version": "3.8.17"
  }
 },
 "nbformat": 4,
 "nbformat_minor": 5
}
