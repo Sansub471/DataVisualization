{
 "cells": [
  {
   "cell_type": "markdown",
   "id": "b08d1c4b",
   "metadata": {},
   "source": [
    "Defining and calling a function"
   ]
  },
  {
   "cell_type": "code",
   "execution_count": 5,
   "id": "994e1d32",
   "metadata": {},
   "outputs": [
    {
     "name": "stdout",
     "output_type": "stream",
     "text": [
      "Area of rectangle = 554.5082000000001\n"
     ]
    }
   ],
   "source": [
    "def Area(length, breadth):\n",
    "    return length * breadth\n",
    "\n",
    "length = 45.34\n",
    "breadth = 12.23\n",
    "print(f'Area of rectangle = {Area(length, breadth)}')"
   ]
  },
  {
   "cell_type": "code",
   "execution_count": 8,
   "id": "8b96c828",
   "metadata": {},
   "outputs": [
    {
     "name": "stdout",
     "output_type": "stream",
     "text": [
      "Area of circle = 153.86\n"
     ]
    }
   ],
   "source": [
    "def circle(radius, PI = 3.14):\n",
    "    return PI*radius*radius\n",
    "\n",
    "print(f'Area of circle = {circle(7)}')"
   ]
  },
  {
   "cell_type": "code",
   "execution_count": 22,
   "id": "bf7c0698",
   "metadata": {},
   "outputs": [
    {
     "data": {
      "text/plain": [
       "4.890965732087228"
      ]
     },
     "execution_count": 22,
     "metadata": {},
     "output_type": "execute_result"
    }
   ],
   "source": [
    "# Arguments : Positional, Keywords, Default, Variable length\n",
    "# This order of passing argument must be followed\n",
    "def calculate(a, b, pow = 2):\n",
    "    PI = 3.14\n",
    "    return PI*(a**pow)*b / (4 * 12.84) \n",
    "\n",
    "calculate(4,5) # positional arguments"
   ]
  },
  {
   "cell_type": "code",
   "execution_count": 23,
   "id": "ad58cd64",
   "metadata": {},
   "outputs": [
    {
     "name": "stdout",
     "output_type": "stream",
     "text": [
      "14.978582554517136\n",
      "14.978582554517136\n"
     ]
    }
   ],
   "source": [
    "print(calculate(a = 7, b = 5))\n",
    "print(calculate(b=5, a = 7)) # keyword argument\n",
    "# The order is not important"
   ]
  },
  {
   "cell_type": "code",
   "execution_count": 24,
   "id": "0fb8954b",
   "metadata": {},
   "outputs": [
    {
     "name": "stdout",
     "output_type": "stream",
     "text": [
      "104.85007788161995\n"
     ]
    }
   ],
   "source": [
    "# Default argument\n",
    "power = 5\n",
    "print(calculate(7,5,pow = 3))"
   ]
  },
  {
   "cell_type": "code",
   "execution_count": 25,
   "id": "222f6642",
   "metadata": {},
   "outputs": [
    {
     "name": "stdout",
     "output_type": "stream",
     "text": [
      "15\n"
     ]
    }
   ],
   "source": [
    "# Variable Length Argument\n",
    "# *args - multiple positional arguments\n",
    "# **kwargs - multiple keyword arguments\n",
    "def total(*args):\n",
    "    return sum(args)\n",
    "\n",
    "print(total(1,2,3,4,5))"
   ]
  },
  {
   "cell_type": "code",
   "execution_count": 27,
   "id": "e7b89b36",
   "metadata": {},
   "outputs": [
    {
     "name": "stdout",
     "output_type": "stream",
     "text": [
      "{'name': 'Ravi', 'age': 23}\n"
     ]
    }
   ],
   "source": [
    "def profile(**kwargs):\n",
    "    return kwargs\n",
    "\n",
    "print(profile(name='Ravi', age = 23))"
   ]
  },
  {
   "cell_type": "code",
   "execution_count": 1,
   "id": "5aba7a7a",
   "metadata": {},
   "outputs": [],
   "source": [
    "# Learn more about *arga and **kwargs\n"
   ]
  },
  {
   "cell_type": "code",
   "execution_count": null,
   "id": "b2d1b309",
   "metadata": {},
   "outputs": [],
   "source": []
  },
  {
   "cell_type": "code",
   "execution_count": null,
   "id": "cf53d264",
   "metadata": {},
   "outputs": [],
   "source": []
  },
  {
   "cell_type": "code",
   "execution_count": null,
   "id": "be11abb5",
   "metadata": {},
   "outputs": [],
   "source": []
  },
  {
   "cell_type": "markdown",
   "id": "01e7ba81",
   "metadata": {},
   "source": [
    "# Lambda function"
   ]
  },
  {
   "cell_type": "code",
   "execution_count": null,
   "id": "97865eb1",
   "metadata": {},
   "outputs": [
    {
     "name": "stdout",
     "output_type": "stream",
     "text": [
      "25\n"
     ]
    }
   ],
   "source": [
    "# syntax :- lambda  arguments : expression\n",
    "# arguments : one or more inputs(like function parameters)\n",
    "# expression : A single expression that gets evaluated and returned\n",
    "\n",
    "def sqr(x):\n",
    "    return x**2\n",
    "\n",
    "# Using lambda function\n",
    "\n",
    "square = lambda x: x ** 2\n",
    "print(square(5))  # 25"
   ]
  },
  {
   "cell_type": "code",
   "execution_count": 1,
   "id": "0423a09c",
   "metadata": {},
   "outputs": [
    {
     "name": "stdout",
     "output_type": "stream",
     "text": [
      "10\n"
     ]
    }
   ],
   "source": [
    "# with multiple arguments\n",
    "\n",
    "def ADD(a, b):\n",
    "    return a + b\n",
    "\n",
    "# usign lambda function\n",
    "\n",
    "add = lambda a, b: a + b\n",
    "print(add(3, 7))  # 10\n"
   ]
  },
  {
   "cell_type": "code",
   "execution_count": 4,
   "id": "51a69537",
   "metadata": {},
   "outputs": [
    {
     "name": "stdout",
     "output_type": "stream",
     "text": [
      "<class 'function'>\n",
      "<function <lambda> at 0x72689c5dab80>\n",
      "Hello Python!\n"
     ]
    }
   ],
   "source": [
    "# with no argument\n",
    "greet = lambda : \"Hello Python!\"\n",
    "print(type(greet))\n",
    "print(greet)\n",
    "print(greet())"
   ]
  },
  {
   "cell_type": "code",
   "execution_count": 5,
   "id": "89ba5d36",
   "metadata": {},
   "outputs": [
    {
     "name": "stdout",
     "output_type": "stream",
     "text": [
      "45\n"
     ]
    }
   ],
   "source": [
    "# with conditional expression\n",
    "max_val = lambda x,y : x if x > y else y\n",
    "print(max_val(45, 37))"
   ]
  },
  {
   "cell_type": "code",
   "execution_count": null,
   "id": "75953b66",
   "metadata": {},
   "outputs": [],
   "source": [
    "# Notes :\n",
    "# lambds fuction can only contain one expression, not statements like if, for, or while\n",
    "# cannot include multiple lines\n",
    "# less redable for complex logic\n",
    "# short, inline, anonymous function"
   ]
  }
 ],
 "metadata": {
  "kernelspec": {
   "display_name": "sansui",
   "language": "python",
   "name": "python3"
  },
  "language_info": {
   "codemirror_mode": {
    "name": "ipython",
    "version": 3
   },
   "file_extension": ".py",
   "mimetype": "text/x-python",
   "name": "python",
   "nbconvert_exporter": "python",
   "pygments_lexer": "ipython3",
   "version": "3.8.17"
  }
 },
 "nbformat": 4,
 "nbformat_minor": 5
}
