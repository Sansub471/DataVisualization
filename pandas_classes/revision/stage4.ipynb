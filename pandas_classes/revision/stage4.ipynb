{
 "cells": [
  {
   "cell_type": "markdown",
   "id": "b08d1c4b",
   "metadata": {},
   "source": [
    "Defining and calling a function"
   ]
  },
  {
   "cell_type": "code",
   "execution_count": null,
   "id": "994e1d32",
   "metadata": {},
   "outputs": [
    {
     "name": "stdout",
     "output_type": "stream",
     "text": [
      "554.5082000000001\n"
     ]
    }
   ],
   "source": [
    "def Area(length, breadth):\n",
    "    return length * breadth\n",
    "\n",
    "length = 45.34\n",
    "breadth = 12.23\n",
    "print(Area(length, breadth))"
   ]
  },
  {
   "cell_type": "code",
   "execution_count": null,
   "id": "8b96c828",
   "metadata": {},
   "outputs": [],
   "source": []
  }
 ],
 "metadata": {
  "kernelspec": {
   "display_name": "sansui",
   "language": "python",
   "name": "python3"
  },
  "language_info": {
   "codemirror_mode": {
    "name": "ipython",
    "version": 3
   },
   "file_extension": ".py",
   "mimetype": "text/x-python",
   "name": "python",
   "nbconvert_exporter": "python",
   "pygments_lexer": "ipython3",
   "version": "3.8.17"
  }
 },
 "nbformat": 4,
 "nbformat_minor": 5
}
