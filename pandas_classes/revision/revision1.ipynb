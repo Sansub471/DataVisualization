{
 "cells": [
  {
   "cell_type": "markdown",
   "id": "a8f4c2f0",
   "metadata": {},
   "source": [
    "Revision of all pandas concept learned "
   ]
  },
  {
   "cell_type": "code",
   "execution_count": 1,
   "id": "2f831743",
   "metadata": {},
   "outputs": [],
   "source": [
    "import pandas as pd"
   ]
  },
  {
   "cell_type": "code",
   "execution_count": 4,
   "id": "bb278ab7",
   "metadata": {},
   "outputs": [
    {
     "data": {
      "text/html": [
       "<div>\n",
       "<style scoped>\n",
       "    .dataframe tbody tr th:only-of-type {\n",
       "        vertical-align: middle;\n",
       "    }\n",
       "\n",
       "    .dataframe tbody tr th {\n",
       "        vertical-align: top;\n",
       "    }\n",
       "\n",
       "    .dataframe thead th {\n",
       "        text-align: right;\n",
       "    }\n",
       "</style>\n",
       "<table border=\"1\" class=\"dataframe\">\n",
       "  <thead>\n",
       "    <tr style=\"text-align: right;\">\n",
       "      <th></th>\n",
       "      <th>id</th>\n",
       "      <th>first</th>\n",
       "      <th>last</th>\n",
       "      <th>email</th>\n",
       "      <th>GPA</th>\n",
       "    </tr>\n",
       "  </thead>\n",
       "  <tbody>\n",
       "    <tr>\n",
       "      <th>0</th>\n",
       "      <td>1</td>\n",
       "      <td>Rabin</td>\n",
       "      <td>Karki</td>\n",
       "      <td>rabinkarki11@gmail.com</td>\n",
       "      <td>3.44</td>\n",
       "    </tr>\n",
       "    <tr>\n",
       "      <th>1</th>\n",
       "      <td>2</td>\n",
       "      <td>Sabin</td>\n",
       "      <td>Sarki</td>\n",
       "      <td>sabinsarki234@gmail.com</td>\n",
       "      <td>3.89</td>\n",
       "    </tr>\n",
       "    <tr>\n",
       "      <th>2</th>\n",
       "      <td>3</td>\n",
       "      <td>Prabin</td>\n",
       "      <td>Tharki</td>\n",
       "      <td>tharkiprabin345@gmail.com</td>\n",
       "      <td>2.90</td>\n",
       "    </tr>\n",
       "    <tr>\n",
       "      <th>3</th>\n",
       "      <td>4</td>\n",
       "      <td>Harbin</td>\n",
       "      <td>Darki</td>\n",
       "      <td>darkiharbin456@gmail.com</td>\n",
       "      <td>4.00</td>\n",
       "    </tr>\n",
       "    <tr>\n",
       "      <th>4</th>\n",
       "      <td>5</td>\n",
       "      <td>Damin</td>\n",
       "      <td>Narki</td>\n",
       "      <td>narkidamin789@gmail.com</td>\n",
       "      <td>3.19</td>\n",
       "    </tr>\n",
       "    <tr>\n",
       "      <th>5</th>\n",
       "      <td>6</td>\n",
       "      <td>Ramin</td>\n",
       "      <td>Parki</td>\n",
       "      <td>raminparki348@gmail.com</td>\n",
       "      <td>4.00</td>\n",
       "    </tr>\n",
       "  </tbody>\n",
       "</table>\n",
       "</div>"
      ],
      "text/plain": [
       "   id   first    last                      email   GPA\n",
       "0   1   Rabin   Karki     rabinkarki11@gmail.com  3.44\n",
       "1   2   Sabin   Sarki    sabinsarki234@gmail.com  3.89\n",
       "2   3  Prabin  Tharki  tharkiprabin345@gmail.com  2.90\n",
       "3   4  Harbin   Darki   darkiharbin456@gmail.com  4.00\n",
       "4   5   Damin   Narki    narkidamin789@gmail.com  3.19\n",
       "5   6   Ramin   Parki    raminparki348@gmail.com  4.00"
      ]
     },
     "execution_count": 4,
     "metadata": {},
     "output_type": "execute_result"
    }
   ],
   "source": [
    "# Create your own data frame\n",
    "students = {\n",
    "    'id' : [1,2,3,4,5,6],\n",
    "    'first' : ['Rabin', 'Sabin', 'Prabin', 'Harbin', 'Damin', 'Ramin'],\n",
    "    'last' : ['Karki', 'Sarki', 'Tharki', 'Darki', 'Narki', 'Parki'],\n",
    "    'email': ['rabinkarki11@gmail.com', 'sabinsarki234@gmail.com', 'tharkiprabin345@gmail.com', \n",
    "                'darkiharbin456@gmail.com', 'narkidamin789@gmail.com', 'raminparki348@gmail.com'],\n",
    "    'GPA' : [3.44, 3.89, 2.90, 4.00, 3.19, 4.00]\n",
    "}\n",
    "df = pd.DataFrame(students)\n",
    "df"
   ]
  },
  {
   "cell_type": "code",
   "execution_count": null,
   "id": "1837ca56",
   "metadata": {},
   "outputs": [],
   "source": []
  }
 ],
 "metadata": {
  "kernelspec": {
   "display_name": "sansui",
   "language": "python",
   "name": "python3"
  },
  "language_info": {
   "codemirror_mode": {
    "name": "ipython",
    "version": 3
   },
   "file_extension": ".py",
   "mimetype": "text/x-python",
   "name": "python",
   "nbconvert_exporter": "python",
   "pygments_lexer": "ipython3",
   "version": "3.8.17"
  }
 },
 "nbformat": 4,
 "nbformat_minor": 5
}
