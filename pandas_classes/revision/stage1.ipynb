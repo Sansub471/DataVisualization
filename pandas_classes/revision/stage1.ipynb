{
 "cells": [
  {
   "cell_type": "markdown",
   "id": "fb8b23bd",
   "metadata": {},
   "source": [
    "# Stage 1. Basic Refresher"
   ]
  },
  {
   "cell_type": "code",
   "execution_count": null,
   "id": "51ebe4fd",
   "metadata": {},
   "outputs": [],
   "source": [
    "# Basic input output data\n",
    "name = str(input(\"Give me your name ?\"))\n",
    "print(f'The name is {name}')"
   ]
  },
  {
   "cell_type": "code",
   "execution_count": null,
   "id": "3aead4e4",
   "metadata": {},
   "outputs": [],
   "source": [
    "name  = input(\"The name is \")\n",
    "print(name)"
   ]
  },
  {
   "cell_type": "code",
   "execution_count": 1,
   "id": "3f13ab75",
   "metadata": {},
   "outputs": [
    {
     "name": "stdout",
     "output_type": "stream",
     "text": [
      "1530\n",
      "6\n",
      "8\n"
     ]
    }
   ],
   "source": [
    "# Arithmetic operator\n",
    "sum = 2 + 5 \n",
    "div = 40 / 12\n",
    "d = 34 / 2.23\n",
    "mul = 45 * 34\n",
    "print(mul)\n",
    "\n",
    "\n",
    "quotient = 45 % 7 # Modulo\n",
    "\n",
    "intDiv = 34 // 5 # Floor division\n",
    "print(intDiv)\n",
    "\n",
    "pow = 2 ** 3 # Power\n",
    "print(pow)"
   ]
  },
  {
   "cell_type": "code",
   "execution_count": 2,
   "id": "67de80e2",
   "metadata": {},
   "outputs": [
    {
     "name": "stdout",
     "output_type": "stream",
     "text": [
      "True\n",
      "True\n",
      "True\n",
      "False\n"
     ]
    }
   ],
   "source": [
    "# Assignment\n",
    "a = 5\n",
    "\n",
    "# +=, -=, *=, /=, **=, %= \n",
    "# Various types of assignment operators.\n",
    "\n",
    "# Comparison operators\n",
    "print(a == 5)\n",
    "print(a != 6)\n",
    "\n",
    "print(a >= 5)\n",
    "\n",
    "print(a < 5)\n",
    "# +=, -=, *=, /=, **=, %= \n",
    "# Various types of assignment operators.\n"
   ]
  },
  {
   "cell_type": "code",
   "execution_count": 3,
   "id": "e2549826",
   "metadata": {},
   "outputs": [
    {
     "name": "stdout",
     "output_type": "stream",
     "text": [
      "True\n"
     ]
    }
   ],
   "source": [
    "# Logical operators\n",
    "mark = 80\n",
    "if(mark >= 40 and mark <= 100):\n",
    "    print(True)"
   ]
  },
  {
   "cell_type": "code",
   "execution_count": 4,
   "id": "1de23c1b",
   "metadata": {},
   "outputs": [
    {
     "name": "stdout",
     "output_type": "stream",
     "text": [
      "True\n"
     ]
    }
   ],
   "source": [
    "fail = 34\n",
    "if( fail < 40 or fail > 100):\n",
    "    print(True)"
   ]
  },
  {
   "cell_type": "code",
   "execution_count": 5,
   "id": "11d8c80c",
   "metadata": {},
   "outputs": [
    {
     "name": "stdout",
     "output_type": "stream",
     "text": [
      "False\n"
     ]
    }
   ],
   "source": [
    "flag = 45\n",
    "print(not flag)"
   ]
  },
  {
   "cell_type": "code",
   "execution_count": null,
   "id": "27d2badc",
   "metadata": {},
   "outputs": [
    {
     "name": "stdout",
     "output_type": "stream",
     "text": [
      "10\n",
      "1111 & 1010 =  1010\n"
     ]
    }
   ],
   "source": [
    "# Bitwise operator\n",
    "a = 15\n",
    "b = 10\n",
    "print(f'{a:b} & {b:b} = {a & b : b}')"
   ]
  },
  {
   "cell_type": "code",
   "execution_count": 12,
   "id": "db715e89",
   "metadata": {},
   "outputs": [
    {
     "name": "stdout",
     "output_type": "stream",
     "text": [
      "0b1111\n",
      "1111\n"
     ]
    }
   ],
   "source": [
    "print(bin(a))\n",
    "print(bin(a)[2:]) # to remove ob at the fron"
   ]
  },
  {
   "cell_type": "code",
   "execution_count": null,
   "id": "031da571",
   "metadata": {},
   "outputs": [],
   "source": [
    "# Accepting binary input \n",
    "binary_str = input(\"Enter a binary number: \")  # e.g., '1010'\n",
    "num = int(binary_str, 2)\n",
    "print(f\"Decimal value: {num}\")\n",
    "# This method interprets the input string as a binary number and converts it to its decimal equivalent."
   ]
  },
  {
   "cell_type": "code",
   "execution_count": null,
   "id": "e6816320",
   "metadata": {},
   "outputs": [],
   "source": [
    "binary_str = input(\"Enter a binary number (with '0b' prefix): \")  # e.g., '0b1010'\n",
    "num = int(binary_str, 2)\n",
    "print(f\"Decimal value: {num}\")\n",
    "# Python recognizes the '0b' prefix to denote binary numbers. It's more like C/C++ syntax"
   ]
  },
  {
   "cell_type": "code",
   "execution_count": 15,
   "id": "37b50a13",
   "metadata": {},
   "outputs": [
    {
     "name": "stdout",
     "output_type": "stream",
     "text": [
      "5547 and 6549 i.e. 1010110101011 and 1100110010101\n"
     ]
    }
   ],
   "source": [
    "# Try more bitwise operations\n",
    "a = 0b1010110101011\n",
    "b = 0b1100110010101\n",
    "\n",
    "print(f'{a } and {b} i.e. {a:b} and {b:b}')"
   ]
  },
  {
   "cell_type": "code",
   "execution_count": 20,
   "id": "c8a6e858",
   "metadata": {},
   "outputs": [
    {
     "name": "stdout",
     "output_type": "stream",
     "text": [
      "a   = 1010110101011\n",
      "b   = 1100110010101\n",
      "AND = 1000110000001\n"
     ]
    }
   ],
   "source": [
    "print(f'a   = {a:b}')\n",
    "print(f'b   = {b:b}')\n",
    "print(f'AND = {a & b:b}') # Bitwise AND"
   ]
  },
  {
   "cell_type": "code",
   "execution_count": 22,
   "id": "faa91d04",
   "metadata": {},
   "outputs": [
    {
     "name": "stdout",
     "output_type": "stream",
     "text": [
      "a  = 1010110101011\n",
      "b  = 1100110010101\n",
      "OR = 1110110111111\n"
     ]
    }
   ],
   "source": [
    "print(f'a  = {a:b}')\n",
    "print(f'b  = {b:b}')\n",
    "print(f'OR = {a | b:b}') # Bitwise OR"
   ]
  },
  {
   "cell_type": "code",
   "execution_count": 23,
   "id": "ed8c1083",
   "metadata": {},
   "outputs": [
    {
     "name": "stdout",
     "output_type": "stream",
     "text": [
      "a   = 1010110101011\n",
      "b   = 1100110010101\n",
      "XOR = 110000111110\n"
     ]
    }
   ],
   "source": [
    "print(f'a   = {a:b}')\n",
    "print(f'b   = {b:b}')\n",
    "print(f'XOR = {a ^ b:b}') # Bitwise XOR"
   ]
  },
  {
   "cell_type": "code",
   "execution_count": null,
   "id": "a4c3d72c",
   "metadata": {},
   "outputs": [
    {
     "name": "stdout",
     "output_type": "stream",
     "text": [
      "a           = 1010110101011\n",
      "Left shift  = 1010110101011000\n",
      "Left Shift  = 1010110101011000\n",
      "\n",
      "\n",
      "b           = 1100110010101\n",
      "Right shift = 1100110010\n",
      "Right Shift = 1100110010\n"
     ]
    }
   ],
   "source": [
    "n = 3\n",
    "print(f'a           = {a:b}')\n",
    "print(f'Left shift  = {a << n:b}') # Bitwise Left Shift\n",
    "print(f'Left Shift  = {a * (2**n):b}') # Left shift is equivalent to multiply by 2**n\n",
    "print('\\n')\n",
    "\n",
    "# Every shift to the left increases the place value of a bit by 2\n",
    "\n",
    "print(f'b           = {b:b}')\n",
    "print(f'Right shift = {b >> n:b}') # Bitwise Right Shift\n",
    "print(f'Right Shift = {b // (2**n):b}') # Equivalent to right shift\n",
    "\n",
    "# Every shift to the right decreases the place value of a bit by 2"
   ]
  },
  {
   "cell_type": "markdown",
   "id": "91920660",
   "metadata": {},
   "source": [
    "Type Casting"
   ]
  },
  {
   "cell_type": "code",
   "execution_count": null,
   "id": "56b2c1e4",
   "metadata": {},
   "outputs": [
    {
     "name": "stdout",
     "output_type": "stream",
     "text": [
      "13.5\n",
      "z =  <class 'float'>\n",
      "x =  <class 'int'>\n",
      "y =  <class 'float'>\n"
     ]
    }
   ],
   "source": [
    "# 1. Implicit type casting\n",
    "# done automatically by python\n",
    "\n",
    "# when operands of different types are used together, Python promotes the smaller \n",
    "# type to the large one.\n",
    "x = 10\n",
    "y = 3.5\n",
    "z = x + y # x is converted to float\n",
    "print(z)\n",
    "print(\"z = \",type(z))\n",
    "print(\"x = \", type(x))\n",
    "print(\"y = \", type(y))"
   ]
  },
  {
   "cell_type": "code",
   "execution_count": 5,
   "id": "ecabdc1d",
   "metadata": {},
   "outputs": [
    {
     "name": "stdout",
     "output_type": "stream",
     "text": [
      "a = 123, typeof(a) = <class 'str'>\n",
      "b = 123, typeof(b) = <class 'int'>\n"
     ]
    }
   ],
   "source": [
    "# 2. Explicit type casting, done by user\n",
    "a = \"123\"\n",
    "b = int(a)\n",
    "print(f'a = {a}, typeof(a) = {type(a)}')\n",
    "print(f'b = {b}, typeof(b) = {type(b)}')"
   ]
  },
  {
   "cell_type": "code",
   "execution_count": 8,
   "id": "bba7667d",
   "metadata": {},
   "outputs": [
    {
     "name": "stdout",
     "output_type": "stream",
     "text": [
      "The string = 17 Apples\n"
     ]
    }
   ],
   "source": [
    "x = 17\n",
    "y = str(x)\n",
    "print(f'The string = {y + \" Apples\"}')"
   ]
  },
  {
   "cell_type": "code",
   "execution_count": 9,
   "id": "5ae1f5f4",
   "metadata": {},
   "outputs": [
    {
     "name": "stdout",
     "output_type": "stream",
     "text": [
      "46.247\n"
     ]
    }
   ],
   "source": [
    "z = float(\"23.1235\")\n",
    "print(z * 2)"
   ]
  },
  {
   "cell_type": "code",
   "execution_count": 12,
   "id": "813bb7e5",
   "metadata": {},
   "outputs": [],
   "source": [
    "# notes : bool(0), bool(''), bool([]) --> False\n",
    "# Everything else : True"
   ]
  },
  {
   "cell_type": "code",
   "execution_count": null,
   "id": "bee618f6",
   "metadata": {},
   "outputs": [],
   "source": []
  },
  {
   "cell_type": "code",
   "execution_count": null,
   "id": "46685637",
   "metadata": {},
   "outputs": [],
   "source": []
  }
 ],
 "metadata": {
  "kernelspec": {
   "display_name": "sansui",
   "language": "python",
   "name": "python3"
  },
  "language_info": {
   "codemirror_mode": {
    "name": "ipython",
    "version": 3
   },
   "file_extension": ".py",
   "mimetype": "text/x-python",
   "name": "python",
   "nbconvert_exporter": "python",
   "pygments_lexer": "ipython3",
   "version": "3.8.17"
  }
 },
 "nbformat": 4,
 "nbformat_minor": 5
}
