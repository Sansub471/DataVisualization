{
 "cells": [
  {
   "cell_type": "markdown",
   "id": "fb8b23bd",
   "metadata": {},
   "source": [
    "# Stage 1. Basic Refresher"
   ]
  },
  {
   "cell_type": "code",
   "execution_count": null,
   "id": "51ebe4fd",
   "metadata": {},
   "outputs": [],
   "source": [
    "# Basic input output data\n",
    "name = str(input(\"Give me your name ?\"))\n",
    "print(f'The name is {name}')"
   ]
  },
  {
   "cell_type": "code",
   "execution_count": null,
   "id": "3aead4e4",
   "metadata": {},
   "outputs": [],
   "source": []
  }
 ],
 "metadata": {
  "kernelspec": {
   "display_name": "sansui",
   "language": "python",
   "name": "python3"
  },
  "language_info": {
   "name": "python",
   "version": "3.8.17"
  }
 },
 "nbformat": 4,
 "nbformat_minor": 5
}
