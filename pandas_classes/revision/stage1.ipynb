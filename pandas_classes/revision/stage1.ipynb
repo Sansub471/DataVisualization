{
 "cells": [
  {
   "cell_type": "markdown",
   "id": "fb8b23bd",
   "metadata": {},
   "source": [
    "# Stage 1. Basic Refresher"
   ]
  },
  {
   "cell_type": "code",
   "execution_count": null,
   "id": "51ebe4fd",
   "metadata": {},
   "outputs": [],
   "source": [
    "# Basic input output data\n",
    "name = str(input(\"Give me your name ?\"))\n",
    "print(f'The name is {name}')"
   ]
  },
  {
   "cell_type": "code",
   "execution_count": null,
   "id": "3aead4e4",
   "metadata": {},
   "outputs": [],
   "source": [
    "name  = input(\"The name is \")\n",
    "print(name)"
   ]
  },
  {
   "cell_type": "code",
   "execution_count": 1,
   "id": "3f13ab75",
   "metadata": {},
   "outputs": [
    {
     "name": "stdout",
     "output_type": "stream",
     "text": [
      "1530\n",
      "6\n",
      "8\n"
     ]
    }
   ],
   "source": [
    "# Arithmetic operator\n",
    "sum = 2 + 5 \n",
    "div = 40 / 12\n",
    "d = 34 / 2.23\n",
    "mul = 45 * 34\n",
    "print(mul)\n",
    "\n",
    "\n",
    "quotient = 45 % 7 # Modulo\n",
    "\n",
    "intDiv = 34 // 5 # Floor division\n",
    "print(intDiv)\n",
    "\n",
    "pow = 2 ** 3 # Power\n",
    "print(pow)"
   ]
  },
  {
   "cell_type": "code",
   "execution_count": 2,
   "id": "67de80e2",
   "metadata": {},
   "outputs": [
    {
     "name": "stdout",
     "output_type": "stream",
     "text": [
      "True\n",
      "True\n",
      "True\n",
      "False\n"
     ]
    }
   ],
   "source": [
    "# Assignment\n",
    "a = 5\n",
    "\n",
    "# +=, -=, *=, /=, **=, %= \n",
    "# Various types of assignment operators.\n",
    "\n",
    "# Comparison operators\n",
    "print(a == 5)\n",
    "print(a != 6)\n",
    "\n",
    "print(a >= 5)\n",
    "\n",
    "print(a < 5)\n",
    "# +=, -=, *=, /=, **=, %= \n",
    "# Various types of assignment operators.\n"
   ]
  },
  {
   "cell_type": "code",
   "execution_count": 3,
   "id": "e2549826",
   "metadata": {},
   "outputs": [
    {
     "name": "stdout",
     "output_type": "stream",
     "text": [
      "True\n"
     ]
    }
   ],
   "source": [
    "# Logical operators\n",
    "mark = 80\n",
    "if(mark >= 40 and mark <= 100):\n",
    "    print(True)"
   ]
  },
  {
   "cell_type": "code",
   "execution_count": 4,
   "id": "1de23c1b",
   "metadata": {},
   "outputs": [
    {
     "name": "stdout",
     "output_type": "stream",
     "text": [
      "True\n"
     ]
    }
   ],
   "source": [
    "fail = 34\n",
    "if( fail < 40 or fail > 100):\n",
    "    print(True)"
   ]
  },
  {
   "cell_type": "code",
   "execution_count": 5,
   "id": "11d8c80c",
   "metadata": {},
   "outputs": [
    {
     "name": "stdout",
     "output_type": "stream",
     "text": [
      "False\n"
     ]
    }
   ],
   "source": [
    "flag = 45\n",
    "print(not flag)"
   ]
  },
  {
   "cell_type": "code",
   "execution_count": null,
   "id": "27d2badc",
   "metadata": {},
   "outputs": [],
   "source": [
    "# Bitwise operator\n"
   ]
  },
  {
   "cell_type": "code",
   "execution_count": null,
   "id": "db715e89",
   "metadata": {},
   "outputs": [],
   "source": []
  },
  {
   "cell_type": "code",
   "execution_count": null,
   "id": "031da571",
   "metadata": {},
   "outputs": [],
   "source": []
  }
 ],
 "metadata": {
  "kernelspec": {
   "display_name": "sansui",
   "language": "python",
   "name": "python3"
  },
  "language_info": {
   "codemirror_mode": {
    "name": "ipython",
    "version": 3
   },
   "file_extension": ".py",
   "mimetype": "text/x-python",
   "name": "python",
   "nbconvert_exporter": "python",
   "pygments_lexer": "ipython3",
   "version": "3.8.17"
  }
 },
 "nbformat": 4,
 "nbformat_minor": 5
}
