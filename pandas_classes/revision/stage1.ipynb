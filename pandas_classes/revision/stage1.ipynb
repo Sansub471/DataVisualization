{
 "cells": [
  {
   "cell_type": "markdown",
   "id": "fb8b23bd",
   "metadata": {},
   "source": [
    "# Stage 1. Basic Refresher"
   ]
  },
  {
   "cell_type": "code",
   "execution_count": null,
   "id": "51ebe4fd",
   "metadata": {},
   "outputs": [],
   "source": [
    "# Basic input output data\n",
    "name = str(input(\"Give me your name ?\"))\n",
    "print(f'The name is {name}')"
   ]
  },
  {
   "cell_type": "code",
   "execution_count": null,
   "id": "3aead4e4",
   "metadata": {},
   "outputs": [],
   "source": [
    "name  = input(\"The name is \")\n",
    "print(name)"
   ]
  },
  {
   "cell_type": "code",
   "execution_count": 6,
   "id": "3f13ab75",
   "metadata": {},
   "outputs": [
    {
     "name": "stdout",
     "output_type": "stream",
     "text": [
      "6\n"
     ]
    }
   ],
   "source": [
    "# Arithmetic operator\n",
    "sum = 2 + 5 \n",
    "div = 40 / 12\n",
    "d = 34 / 2.23\n",
    "\n",
    "\n",
    "quotient = 45 % 7\n",
    "\n",
    "intDiv = 34 // 5\n",
    "print(intDiv)"
   ]
  },
  {
   "cell_type": "code",
   "execution_count": null,
   "id": "67de80e2",
   "metadata": {},
   "outputs": [
    {
     "name": "stdout",
     "output_type": "stream",
     "text": [
      "True\n",
      "True\n",
      "True\n",
      "False\n",
      "5\n"
     ]
    }
   ],
   "source": [
    "# Assignment\n",
    "a = 5\n",
    "print(a == 5)\n",
    "\n",
    "print(a != 6)\n",
    "\n",
    "print(a >= 5)\n",
    "\n",
    "print(a < 5)\n",
    "\n"
   ]
  },
  {
   "cell_type": "code",
   "execution_count": null,
   "id": "e2549826",
   "metadata": {},
   "outputs": [],
   "source": []
  }
 ],
 "metadata": {
  "kernelspec": {
   "display_name": "sansui",
   "language": "python",
   "name": "python3"
  },
  "language_info": {
   "codemirror_mode": {
    "name": "ipython",
    "version": 3
   },
   "file_extension": ".py",
   "mimetype": "text/x-python",
   "name": "python",
   "nbconvert_exporter": "python",
   "pygments_lexer": "ipython3",
   "version": "3.8.17"
  }
 },
 "nbformat": 4,
 "nbformat_minor": 5
}
