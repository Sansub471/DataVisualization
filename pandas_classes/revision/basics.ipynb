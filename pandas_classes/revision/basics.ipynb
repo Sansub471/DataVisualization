{
 "cells": [
  {
   "cell_type": "markdown",
   "id": "0304a3f7",
   "metadata": {},
   "source": [
    "The very basics of python for revision"
   ]
  },
  {
   "cell_type": "markdown",
   "id": "64c28927",
   "metadata": {},
   "source": [
    "✅ Stage 1: Basics Refresher\n",
    "    ✅ Variables, data types (int, float, str, bool, None)\n",
    "    ✅ Basic input/output (input(), print())\n",
    "    ✅ Operators (arithmetic, assignment, comparison, logical, bitwise)\n",
    "    ✅ Type casting (int(), float(), str(), etc.)\n",
    "    ✅ String operations (slicing, formatting, methods like .upper(), .find(), etc.)\n",
    "\n",
    "✅ Stage 2: Control Flow\n",
    "    ✅ if, elif, else\n",
    "    ✅ Nested conditions\n",
    "    ✅ Loops: for, while\n",
    "    ✅ break, continue, pass\n",
    "    ✅ Looping through strings, lists, and dictionaries\n",
    "\n",
    "✅ Stage 3: Data Structures\n",
    "    ✅ Lists (indexing, slicing, appending, removing, etc.)\n",
    "    ✅ Tuples (immutable sequences)\n",
    "    ✅ Sets (unique elements, union, intersection)\n",
    "    ✅ Dictionaries (key-value pairs, methods like .get(), .items())\n",
    "    ✅ List comprehensions and dictionary comprehensions\n",
    "\n",
    "✅ Stage 4: Functions\n",
    "    ✅ Defining and calling functions\n",
    "    ✅ Arguments (positional, keyword, default, variable-length)\n",
    "    ✅ Return values\n",
    "    ✅ Scope: local vs global\n",
    "    ✅ Lambda functions\n",
    "    ✅ map(), filter(), reduce(), zip()\n",
    "\n",
    "✅ Stage 5: Modules and Packages\n",
    "    ✅ Importing modules (import, from ... import)\n",
    "    ✅ Common modules: math, random, datetime, os, sys\n",
    "    ✅ Creating your own module\n",
    "    ✅ Using pip to install packages\n",
    "\n",
    "✅ Stage 6: File Handling\n",
    "    ✅ Reading/writing text files (open, with, .read(), .write())\n",
    "    ✅ Working with CSV/JSON (csv, json modules)\n",
    "\n",
    "✅ Stage 7: Error Handling\n",
    "    ✅ try, except, finally\n",
    "    ✅ Common exceptions (ValueError, TypeError, IndexError, etc.)\n",
    "    ✅ Raising custom errors\n",
    "    ✅ Stage 8: Object-Oriented Programming (OOP)\n",
    "    ✅ Classes and objects\n",
    "    ✅ __init__ constructor\n",
    "    ✅ Instance vs class variables\n",
    "    ✅ Methods (instance, class, static)\n",
    "    ✅ Inheritance and method overriding\n",
    "    ✅ Encapsulation (_protected, __private)\n",
    "    ✅ super() keyword\n",
    "\n",
    "✅ Stage 9: Intermediate Topics\n",
    "    ✅ Iterators and generators\n",
    "    ✅ Decorators\n",
    "    ✅ Context managers (with statement)\n",
    "    ✅ Regular expressions (re module)\n",
    "    ✅ Stage 10: Practice and Projects\n",
    "    ✅ Small coding challenges (e.g., from LeetCode, HackerRank, Codewars)\n",
    "    ✅ Build mini projects:\n",
    "\n",
    "    Calculator\n",
    "    To-do list app\n",
    "    Number guessing game\n",
    "    File renamer\n",
    "    Weather checker using API"
   ]
  },
  {
   "cell_type": "code",
   "execution_count": 6,
   "id": "8e76fa57",
   "metadata": {},
   "outputs": [
    {
     "name": "stdout",
     "output_type": "stream",
     "text": [
      "(-1+13j)\n"
     ]
    }
   ],
   "source": [
    "# Data types in python \n",
    "# 1. Numeri data type : int, float, complex\n",
    "num1 = 34\n",
    "num2 = 34.34\n",
    "num3 = 4 + 6j\n",
    "num4 = 7j - 5\n",
    "num5 = num3 + num4\n",
    "print(num5)"
   ]
  },
  {
   "cell_type": "code",
   "execution_count": null,
   "id": "c1286b28",
   "metadata": {},
   "outputs": [
    {
     "data": {
      "text/plain": [
       "(5+7j)"
      ]
     },
     "execution_count": 5,
     "metadata": {},
     "output_type": "execute_result"
    }
   ],
   "source": [
    "# 2. \n"
   ]
  },
  {
   "cell_type": "code",
   "execution_count": null,
   "id": "693f7b63",
   "metadata": {},
   "outputs": [],
   "source": []
  }
 ],
 "metadata": {
  "kernelspec": {
   "display_name": "sansui",
   "language": "python",
   "name": "python3"
  },
  "language_info": {
   "codemirror_mode": {
    "name": "ipython",
    "version": 3
   },
   "file_extension": ".py",
   "mimetype": "text/x-python",
   "name": "python",
   "nbconvert_exporter": "python",
   "pygments_lexer": "ipython3",
   "version": "3.8.17"
  }
 },
 "nbformat": 4,
 "nbformat_minor": 5
}
