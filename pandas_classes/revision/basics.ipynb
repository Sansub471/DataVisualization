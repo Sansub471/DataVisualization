{
 "cells": [
  {
   "cell_type": "markdown",
   "id": "0304a3f7",
   "metadata": {},
   "source": [
    "The very basics of python for revision"
   ]
  },
  {
   "cell_type": "markdown",
   "id": "64c28927",
   "metadata": {},
   "source": [
    "✅ Stage 1: Basics Refresher\n",
    "    \n",
    "    ✅ Variables, data types (int, float, str, bool, None)\n",
    "    \n",
    "    ✅ Basic input/output (input(), print())\n",
    "    \n",
    "    ✅ Operators (arithmetic, assignment, comparison, logical, bitwise)\n",
    "    \n",
    "    ✅ Type casting (int(), float(), str(), etc.)\n",
    "    \n",
    "    ✅ String operations (slicing, formatting, methods like .upper(), .find(), etc.)\n",
    "\n",
    "\n",
    "✅ Stage 2: Control Flow\n",
    "    \n",
    "    ✅ if, elif, else\n",
    "    \n",
    "    ✅ Nested conditions\n",
    "    \n",
    "    ✅ Loops: for, while\n",
    "    \n",
    "    ✅ break, continue, pass\n",
    "    \n",
    "    ✅ Looping through strings, lists, and dictionaries\n",
    "\n",
    "\n",
    "✅ Stage 3: Data Structures\n",
    "    ✅ Lists (indexing, slicing, appending, removing, etc.)\n",
    "    \n",
    "    ✅ Tuples (immutable sequences)\n",
    "    \n",
    "    ✅ Sets (unique elements, union, intersection)\n",
    "    \n",
    "    ✅ Dictionaries (key-value pairs, methods like .get(), .items())\n",
    "    \n",
    "    ✅ List comprehensions and dictionary comprehensions\n",
    "\n",
    "\n",
    "✅ Stage 4: Functions\n",
    "    \n",
    "    ✅ Defining and calling functions\n",
    "    \n",
    "    ✅ Arguments (positional, keyword, default, variable-length)\n",
    "    \n",
    "    ✅ Return values\n",
    "    \n",
    "    ✅ Scope: local vs global\n",
    "    \n",
    "    ✅ Lambda functions\n",
    "    \n",
    "    ✅ map(), filter(), reduce(), zip()\n",
    "\n",
    "✅ Stage 5: Modules and Packages\n",
    "    \n",
    "    ✅ Importing modules (import, from ... import)\n",
    "    \n",
    "    ✅ Common modules: math, random, datetime, os, sys\n",
    "    \n",
    "    ✅ Creating your own module\n",
    "    \n",
    "    ✅ Using pip to install packages\n",
    "\n",
    "✅ Stage 6: File Handling\n",
    "    \n",
    "    ✅ Reading/writing text files (open, with, .read(), .write())\n",
    "    \n",
    "    ✅ Working with CSV/JSON (csv, json modules)\n",
    "\n",
    "\n",
    "✅ Stage 7: Error Handling\n",
    "    \n",
    "    ✅ try, except, finally\n",
    "    \n",
    "    ✅ Common exceptions (ValueError, TypeError, IndexError, etc.)\n",
    "    \n",
    "    ✅ Raising custom errors\n",
    "    \n",
    "    ✅ Stage 8: Object-Oriented Programming (OOP)\n",
    "    \n",
    "    ✅ Classes and objects\n",
    "    \n",
    "    \n",
    "    ✅ __init__ constructor\n",
    "    \n",
    "    ✅ Instance vs class variables\n",
    "    \n",
    "    ✅ Methods (instance, class, static)\n",
    "    \n",
    "    ✅ Inheritance and method overriding\n",
    "    \n",
    "    ✅ Encapsulation (_protected, __private)\n",
    "    \n",
    "    ✅ super() keyword\n",
    "\n",
    "\n",
    "✅ Stage 9: Intermediate Topics\n",
    "    \n",
    "    ✅ Iterators and generators\n",
    "    \n",
    "    ✅ Decorators\n",
    "    \n",
    "    ✅ Context managers (with statement)\n",
    "    \n",
    "    ✅ Regular expressions (re module)\n",
    "    \n",
    "    ✅ Stage 10: Practice and Projects\n",
    "    \n",
    "    ✅ Small coding challenges (e.g., from LeetCode, HackerRank, Codewars)\n",
    "    \n",
    "    ✅ Build mini projects:\n",
    "\n",
    "\n",
    "    Calculator\n",
    "    To-do list app\n",
    "    Number guessing game\n",
    "    File renamer\n",
    "    Weather checker using API"
   ]
  },
  {
   "cell_type": "markdown",
   "id": "8228b554",
   "metadata": {},
   "source": [
    "Python's design philosophy considers everything as an object, which means data types are essentially classes. And variable is merely an instance of a data type class."
   ]
  },
  {
   "cell_type": "code",
   "execution_count": 12,
   "id": "8e76fa57",
   "metadata": {},
   "outputs": [
    {
     "name": "stdout",
     "output_type": "stream",
     "text": [
      "(-1+13j)\n"
     ]
    }
   ],
   "source": [
    "# Data types in python \n",
    "# 1. Numeric data type : int, float, complex\n",
    "num1 = 34\n",
    "num2 = 34.34\n",
    "num3 = 4 + 6j\n",
    "num4 = 7j - 5\n",
    "num5 = num3 + num4\n",
    "print(num5)"
   ]
  },
  {
   "cell_type": "code",
   "execution_count": null,
   "id": "8849fe05",
   "metadata": {},
   "outputs": [
    {
     "data": {
      "text/plain": [
       "13.0"
      ]
     },
     "execution_count": 16,
     "metadata": {},
     "output_type": "execute_result"
    }
   ],
   "source": [
    "# separate real and imaginary parts\n",
    "num5.real\n",
    "num5.imag"
   ]
  },
  {
   "cell_type": "code",
   "execution_count": 8,
   "id": "c1286b28",
   "metadata": {},
   "outputs": [
    {
     "name": "stdout",
     "output_type": "stream",
     "text": [
      "First : python Second : javascript\n"
     ]
    },
    {
     "data": {
      "text/plain": [
       "'python nohtyp'"
      ]
     },
     "execution_count": 8,
     "metadata": {},
     "output_type": "execute_result"
    }
   ],
   "source": [
    "# 2. String : str\n",
    "name = 'python'\n",
    "tame = \"javascript\"\n",
    "print(f'First : {name} Second : {tame}')\n",
    "\n",
    "# slicing strings\n",
    "name[2:]\n",
    "\n",
    "name[::-1] # reverse a string\n",
    "\n",
    "tame[0::2] # [start:end:step]\n",
    "\n",
    "language = name + ' ' + name[::-1]\n",
    "language"
   ]
  },
  {
   "cell_type": "code",
   "execution_count": null,
   "id": "693f7b63",
   "metadata": {},
   "outputs": [
    {
     "data": {
      "text/plain": [
       "'python'"
      ]
     },
     "execution_count": 11,
     "metadata": {},
     "output_type": "execute_result"
    }
   ],
   "source": [
    "# Remember the string functions for short"
   ]
  },
  {
   "cell_type": "code",
   "execution_count": null,
   "id": "82de96e6",
   "metadata": {},
   "outputs": [
    {
     "name": "stdout",
     "output_type": "stream",
     "text": [
      "12.34\n",
      "12\n",
      "name\n",
      "{'name': 'Rabin'}\n",
      "{1, 2, 3}\n",
      "(4+5j)\n",
      "(4, 5)\n"
     ]
    }
   ],
   "source": [
    "# 3. Sequence : list, tuple, range\n",
    "# range is actually a built in class, python's design philosophy bundles it as a data type. It is not a true data type like in C/C++\n",
    "\n",
    "l1 = [12,3,45,6,2,4,5] # list can have multiple data type\n",
    "l2 = [12.34, 12, 'name', {'name':'Rabin'}, set((3,3,2,2,1,1)), 4+5j, (4,5)]"
   ]
  },
  {
   "cell_type": "markdown",
   "id": "3a4d7de0",
   "metadata": {},
   "source": [
    "Python lists are heterogeneous, meaning they can store elements of different types. This flexibility is one of the strengths of Python as a dynamically typed language."
   ]
  },
  {
   "cell_type": "markdown",
   "id": "c1585e56",
   "metadata": {},
   "source": [
    "What is a dynamically typed language ? \n",
    "\n",
    "Dynamically typed means the type of a variable is determined at runtime, not in advance.\n",
    "You don't need to declare the type—Python figures it out when the code runs."
   ]
  },
  {
   "cell_type": "code",
   "execution_count": 25,
   "id": "7b489b2d",
   "metadata": {},
   "outputs": [],
   "source": [
    "# list methods\n",
    "# 1. append()"
   ]
  },
  {
   "cell_type": "code",
   "execution_count": null,
   "id": "8d6f9d50",
   "metadata": {},
   "outputs": [
    {
     "ename": "TypeError",
     "evalue": "'tuple' object does not support item assignment",
     "output_type": "error",
     "traceback": [
      "\u001b[0;31m---------------------------------------------------------------------------\u001b[0m",
      "\u001b[0;31mTypeError\u001b[0m                                 Traceback (most recent call last)",
      "Cell \u001b[0;32mIn[29], line 3\u001b[0m\n\u001b[1;32m      1\u001b[0m \u001b[38;5;66;03m# Tuple\u001b[39;00m\n\u001b[1;32m      2\u001b[0m t1 \u001b[38;5;241m=\u001b[39m (\u001b[38;5;241m2\u001b[39m,\u001b[38;5;241m3\u001b[39m,\u001b[38;5;241m4\u001b[39m,\u001b[38;5;241m5\u001b[39m)\n\u001b[0;32m----> 3\u001b[0m \u001b[43mt1\u001b[49m\u001b[43m[\u001b[49m\u001b[38;5;241;43m3\u001b[39;49m\u001b[43m]\u001b[49m \u001b[38;5;241m=\u001b[39m \u001b[38;5;241m99\u001b[39m\n",
      "\u001b[0;31mTypeError\u001b[0m: 'tuple' object does not support item assignment"
     ]
    }
   ],
   "source": [
    "# Tuple\n",
    "t1 = (2,3,4,5)"
   ]
  },
  {
   "cell_type": "code",
   "execution_count": 30,
   "id": "a4bce978",
   "metadata": {},
   "outputs": [],
   "source": [
    "# Tuple methods\n",
    "# Difference between tuple methods"
   ]
  },
  {
   "cell_type": "code",
   "execution_count": 1,
   "id": "178ce1db",
   "metadata": {},
   "outputs": [
    {
     "name": "stdout",
     "output_type": "stream",
     "text": [
      "1\n",
      "2\n",
      "3\n",
      "4\n",
      "5\n",
      "6\n",
      "7\n",
      "8\n",
      "9\n",
      "10\n",
      "11\n",
      "12\n",
      "13\n",
      "14\n",
      "15\n",
      "16\n",
      "17\n",
      "18\n",
      "19\n"
     ]
    }
   ],
   "source": [
    "for i  in range(1, 20):\n",
    "    print(i)"
   ]
  },
  {
   "cell_type": "code",
   "execution_count": 6,
   "id": "f5f38d84",
   "metadata": {},
   "outputs": [
    {
     "name": "stdout",
     "output_type": "stream",
     "text": [
      "('name', 'Anisha Khadka')\n",
      "('age', 28)\n",
      "('Job', 'Banker')\n",
      "\n",
      "\n",
      "Key : name Value : Anisha Khadka\n",
      "Key : age Value : 28\n",
      "Key : Job Value : Banker\n",
      "\n",
      "\n",
      "name\n",
      "age\n",
      "Job\n",
      "\n",
      "\n",
      "Anisha Khadka\n",
      "28\n",
      "Banker\n"
     ]
    }
   ],
   "source": [
    "# 4. Mapping data type : dictionary\n",
    "students = {'name' : 'Anisha Khadka', 'age': 28, 'Job' : 'Banker'}\n",
    "for item in students.items():\n",
    "    print(item)\n",
    "\n",
    "print('\\n')\n",
    "\n",
    "for key, value in students.items():\n",
    "    print(f'Key : {key} Value : {value}')\n",
    "\n",
    "print('\\n')\n",
    "for key in students.keys():\n",
    "    print(key)\n",
    "\n",
    "print('\\n')\n",
    "for val in students.values():\n",
    "    print(val)"
   ]
  },
  {
   "cell_type": "code",
   "execution_count": null,
   "id": "3cf5d516",
   "metadata": {},
   "outputs": [],
   "source": [
    "# Dictionary methods : "
   ]
  }
 ],
 "metadata": {
  "kernelspec": {
   "display_name": "sansui",
   "language": "python",
   "name": "python3"
  },
  "language_info": {
   "codemirror_mode": {
    "name": "ipython",
    "version": 3
   },
   "file_extension": ".py",
   "mimetype": "text/x-python",
   "name": "python",
   "nbconvert_exporter": "python",
   "pygments_lexer": "ipython3",
   "version": "3.8.17"
  }
 },
 "nbformat": 4,
 "nbformat_minor": 5
}
