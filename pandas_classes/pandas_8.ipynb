{
 "cells": [
  {
   "cell_type": "markdown",
   "metadata": {},
   "source": [
    "Grouping and Aggregating - Analyzing and Exploring Your Data"
   ]
  },
  {
   "cell_type": "code",
   "execution_count": 2,
   "metadata": {},
   "outputs": [],
   "source": [
    "import pandas as pd"
   ]
  },
  {
   "cell_type": "code",
   "execution_count": 31,
   "metadata": {},
   "outputs": [],
   "source": [
    "region = pd.read_csv('Data/administrative-divisions/Region.csv', index_col='region_id')\n",
    "district = pd.read_csv('Data/administrative-divisions/Districts.csv', index_col='district_id', dtype={'district_id':'Int64', 'old_region' : 'Int64', 'new_region':'Int64'})\n",
    "local_types = pd.read_csv('Data/administrative-divisions/LocalBodyTypes.csv', index_col='local_body_type_id')\n",
    "local_bodies = pd.read_csv('Data/administrative-divisions/localBodies.csv', index_col='local_body_id')"
   ]
  },
  {
   "cell_type": "code",
   "execution_count": 24,
   "metadata": {},
   "outputs": [
    {
     "data": {
      "text/plain": [
       "Int64Index([1103], dtype='int64', name='region_id')"
      ]
     },
     "execution_count": 24,
     "metadata": {},
     "output_type": "execute_result"
    }
   ],
   "source": [
    "filter1 = (region['Region'] == 'Bagmati')    &  (region['old_new'] == 1)\n",
    "filter1_index = region.loc[filter1].index\n",
    "filter1_index"
   ]
  },
  {
   "cell_type": "code",
   "execution_count": 35,
   "metadata": {},
   "outputs": [
    {
     "data": {
      "text/html": [
       "<div>\n",
       "<style scoped>\n",
       "    .dataframe tbody tr th:only-of-type {\n",
       "        vertical-align: middle;\n",
       "    }\n",
       "\n",
       "    .dataframe tbody tr th {\n",
       "        vertical-align: top;\n",
       "    }\n",
       "\n",
       "    .dataframe thead th {\n",
       "        text-align: right;\n",
       "    }\n",
       "</style>\n",
       "<table border=\"1\" class=\"dataframe\">\n",
       "  <thead>\n",
       "    <tr style=\"text-align: right;\">\n",
       "      <th></th>\n",
       "      <th>District</th>\n",
       "    </tr>\n",
       "    <tr>\n",
       "      <th>district_id</th>\n",
       "      <th></th>\n",
       "    </tr>\n",
       "  </thead>\n",
       "  <tbody>\n",
       "    <tr>\n",
       "      <th>100108</th>\n",
       "      <td>Sindhupalchok</td>\n",
       "    </tr>\n",
       "    <tr>\n",
       "      <th>100206</th>\n",
       "      <td>Sindhuli</td>\n",
       "    </tr>\n",
       "    <tr>\n",
       "      <th>100107</th>\n",
       "      <td>Rasuwa</td>\n",
       "    </tr>\n",
       "    <tr>\n",
       "      <th>100204</th>\n",
       "      <td>Ramechhap</td>\n",
       "    </tr>\n",
       "    <tr>\n",
       "      <th>100106</th>\n",
       "      <td>Nuwakot</td>\n",
       "    </tr>\n",
       "    <tr>\n",
       "      <th>100303</th>\n",
       "      <td>Makwanpur</td>\n",
       "    </tr>\n",
       "    <tr>\n",
       "      <th>100105</th>\n",
       "      <td>Lalitpur</td>\n",
       "    </tr>\n",
       "    <tr>\n",
       "      <th>100104</th>\n",
       "      <td>Kavrepalanchok</td>\n",
       "    </tr>\n",
       "    <tr>\n",
       "      <th>100103</th>\n",
       "      <td>Kathmandu</td>\n",
       "    </tr>\n",
       "    <tr>\n",
       "      <th>100202</th>\n",
       "      <td>Dolakha</td>\n",
       "    </tr>\n",
       "    <tr>\n",
       "      <th>100102</th>\n",
       "      <td>Dhading</td>\n",
       "    </tr>\n",
       "    <tr>\n",
       "      <th>100302</th>\n",
       "      <td>Chitwan</td>\n",
       "    </tr>\n",
       "    <tr>\n",
       "      <th>100101</th>\n",
       "      <td>Bhaktapur</td>\n",
       "    </tr>\n",
       "  </tbody>\n",
       "</table>\n",
       "</div>"
      ],
      "text/plain": [
       "                   District\n",
       "district_id                \n",
       "100108        Sindhupalchok\n",
       "100206             Sindhuli\n",
       "100107               Rasuwa\n",
       "100204            Ramechhap\n",
       "100106              Nuwakot\n",
       "100303            Makwanpur\n",
       "100105             Lalitpur\n",
       "100104       Kavrepalanchok\n",
       "100103            Kathmandu\n",
       "100202              Dolakha\n",
       "100102              Dhading\n",
       "100302              Chitwan\n",
       "100101            Bhaktapur"
      ]
     },
     "execution_count": 35,
     "metadata": {},
     "output_type": "execute_result"
    }
   ],
   "source": [
    "bag_dis_filter = district['new_region'] == filter1_index[0]\n",
    "bagmati_districts = district.loc[bag_dis_filter, ['District']]\n",
    "bagmati_districts.sort_values(by='District', ascending=False)"
   ]
  },
  {
   "cell_type": "code",
   "execution_count": 32,
   "metadata": {},
   "outputs": [
    {
     "data": {
      "text/plain": [
       "Index(['District', 'old_region', 'new_region'], dtype='object')"
      ]
     },
     "execution_count": 32,
     "metadata": {},
     "output_type": "execute_result"
    }
   ],
   "source": [
    "district.columns"
   ]
  },
  {
   "cell_type": "code",
   "execution_count": null,
   "metadata": {},
   "outputs": [],
   "source": []
  }
 ],
 "metadata": {
  "kernelspec": {
   "display_name": "sansui",
   "language": "python",
   "name": "sansui"
  },
  "language_info": {
   "codemirror_mode": {
    "name": "ipython",
    "version": 3
   },
   "file_extension": ".py",
   "mimetype": "text/x-python",
   "name": "python",
   "nbconvert_exporter": "python",
   "pygments_lexer": "ipython3",
   "version": "3.8.17"
  }
 },
 "nbformat": 4,
 "nbformat_minor": 2
}
