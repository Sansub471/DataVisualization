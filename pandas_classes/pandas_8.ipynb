{
 "cells": [
  {
   "cell_type": "markdown",
   "metadata": {},
   "source": [
    "Grouping and Aggregating - Analyzing and Exploring Your Data"
   ]
  },
  {
   "cell_type": "code",
   "execution_count": 2,
   "metadata": {},
   "outputs": [],
   "source": [
    "import pandas as pd"
   ]
  },
  {
   "cell_type": "code",
   "execution_count": 18,
   "metadata": {},
   "outputs": [],
   "source": [
    "region = pd.read_csv('Data/administrative-divisions/Region.csv', index_col='region_id')\n",
    "district = pd.read_csv('Data/administrative-divisions/Districts.csv', index_col='district_id', dtype={'district_id':'Int64', 'old_region' : 'Int64', 'new_region':'Int64'})\n",
    "local_types = pd.read_csv('Data/administrative-divisions/LocalBodyTypes.csv', index_col='local_body_type_id')\n",
    "local_bodies = pd.read_csv('Data/administrative-divisions/localBodies.csv', index_col='local_body_id')"
   ]
  },
  {
   "cell_type": "code",
   "execution_count": 4,
   "metadata": {},
   "outputs": [
    {
     "data": {
      "text/plain": [
       "Int64Index([1103], dtype='int64', name='region_id')"
      ]
     },
     "execution_count": 4,
     "metadata": {},
     "output_type": "execute_result"
    }
   ],
   "source": [
    "filter1 = (region['Region'] == 'Bagmati')    &  (region['old_new'] == 1)\n",
    "filter1_index = region.loc[filter1].index\n",
    "filter1_index"
   ]
  },
  {
   "cell_type": "code",
   "execution_count": 5,
   "metadata": {},
   "outputs": [
    {
     "data": {
      "text/html": [
       "<div>\n",
       "<style scoped>\n",
       "    .dataframe tbody tr th:only-of-type {\n",
       "        vertical-align: middle;\n",
       "    }\n",
       "\n",
       "    .dataframe tbody tr th {\n",
       "        vertical-align: top;\n",
       "    }\n",
       "\n",
       "    .dataframe thead th {\n",
       "        text-align: right;\n",
       "    }\n",
       "</style>\n",
       "<table border=\"1\" class=\"dataframe\">\n",
       "  <thead>\n",
       "    <tr style=\"text-align: right;\">\n",
       "      <th></th>\n",
       "      <th>District</th>\n",
       "    </tr>\n",
       "    <tr>\n",
       "      <th>district_id</th>\n",
       "      <th></th>\n",
       "    </tr>\n",
       "  </thead>\n",
       "  <tbody>\n",
       "    <tr>\n",
       "      <th>100108</th>\n",
       "      <td>Sindhupalchok</td>\n",
       "    </tr>\n",
       "    <tr>\n",
       "      <th>100206</th>\n",
       "      <td>Sindhuli</td>\n",
       "    </tr>\n",
       "    <tr>\n",
       "      <th>100107</th>\n",
       "      <td>Rasuwa</td>\n",
       "    </tr>\n",
       "    <tr>\n",
       "      <th>100204</th>\n",
       "      <td>Ramechhap</td>\n",
       "    </tr>\n",
       "    <tr>\n",
       "      <th>100106</th>\n",
       "      <td>Nuwakot</td>\n",
       "    </tr>\n",
       "    <tr>\n",
       "      <th>100303</th>\n",
       "      <td>Makwanpur</td>\n",
       "    </tr>\n",
       "    <tr>\n",
       "      <th>100105</th>\n",
       "      <td>Lalitpur</td>\n",
       "    </tr>\n",
       "    <tr>\n",
       "      <th>100104</th>\n",
       "      <td>Kavrepalanchok</td>\n",
       "    </tr>\n",
       "    <tr>\n",
       "      <th>100103</th>\n",
       "      <td>Kathmandu</td>\n",
       "    </tr>\n",
       "    <tr>\n",
       "      <th>100202</th>\n",
       "      <td>Dolakha</td>\n",
       "    </tr>\n",
       "    <tr>\n",
       "      <th>100102</th>\n",
       "      <td>Dhading</td>\n",
       "    </tr>\n",
       "    <tr>\n",
       "      <th>100302</th>\n",
       "      <td>Chitwan</td>\n",
       "    </tr>\n",
       "    <tr>\n",
       "      <th>100101</th>\n",
       "      <td>Bhaktapur</td>\n",
       "    </tr>\n",
       "  </tbody>\n",
       "</table>\n",
       "</div>"
      ],
      "text/plain": [
       "                   District\n",
       "district_id                \n",
       "100108        Sindhupalchok\n",
       "100206             Sindhuli\n",
       "100107               Rasuwa\n",
       "100204            Ramechhap\n",
       "100106              Nuwakot\n",
       "100303            Makwanpur\n",
       "100105             Lalitpur\n",
       "100104       Kavrepalanchok\n",
       "100103            Kathmandu\n",
       "100202              Dolakha\n",
       "100102              Dhading\n",
       "100302              Chitwan\n",
       "100101            Bhaktapur"
      ]
     },
     "execution_count": 5,
     "metadata": {},
     "output_type": "execute_result"
    }
   ],
   "source": [
    "bag_dis_filter = district['new_region'] == filter1_index[0]\n",
    "bagmati_districts = district.loc[bag_dis_filter, ['District']]\n",
    "bagmati_districts.sort_values(by='District', ascending=False)"
   ]
  },
  {
   "cell_type": "code",
   "execution_count": 10,
   "metadata": {},
   "outputs": [
    {
     "data": {
      "text/plain": [
       "Index([100104], dtype='object', name='district_id')"
      ]
     },
     "execution_count": 10,
     "metadata": {},
     "output_type": "execute_result"
    }
   ],
   "source": [
    "# Let's find all the local bodies of Kavrepalanchok\n",
    "kavrefilter = (bagmati_districts['District'] == 'Kavrepalanchok')\n",
    "kavre_index = bagmati_districts.loc[kavrefilter].index\n",
    "kavre_index"
   ]
  },
  {
   "cell_type": "code",
   "execution_count": 19,
   "metadata": {},
   "outputs": [
    {
     "data": {
      "text/html": [
       "<div>\n",
       "<style scoped>\n",
       "    .dataframe tbody tr th:only-of-type {\n",
       "        vertical-align: middle;\n",
       "    }\n",
       "\n",
       "    .dataframe tbody tr th {\n",
       "        vertical-align: top;\n",
       "    }\n",
       "\n",
       "    .dataframe thead th {\n",
       "        text-align: right;\n",
       "    }\n",
       "</style>\n",
       "<table border=\"1\" class=\"dataframe\">\n",
       "  <thead>\n",
       "    <tr style=\"text-align: right;\">\n",
       "      <th></th>\n",
       "      <th>local_body</th>\n",
       "      <th>local_body_type_id</th>\n",
       "      <th>max_ward</th>\n",
       "    </tr>\n",
       "    <tr>\n",
       "      <th>local_body_id</th>\n",
       "      <th></th>\n",
       "      <th></th>\n",
       "      <th></th>\n",
       "    </tr>\n",
       "  </thead>\n",
       "  <tbody>\n",
       "    <tr>\n",
       "      <th>1001045001</th>\n",
       "      <td>Banepa</td>\n",
       "      <td>105</td>\n",
       "      <td>NaN</td>\n",
       "    </tr>\n",
       "    <tr>\n",
       "      <th>1001045002</th>\n",
       "      <td>Dhulikhel</td>\n",
       "      <td>105</td>\n",
       "      <td>NaN</td>\n",
       "    </tr>\n",
       "    <tr>\n",
       "      <th>1001045003</th>\n",
       "      <td>Panauti</td>\n",
       "      <td>105</td>\n",
       "      <td>NaN</td>\n",
       "    </tr>\n",
       "    <tr>\n",
       "      <th>1001047001</th>\n",
       "      <td>Anekot</td>\n",
       "      <td>107</td>\n",
       "      <td>9.0</td>\n",
       "    </tr>\n",
       "    <tr>\n",
       "      <th>1001047002</th>\n",
       "      <td>Balthali</td>\n",
       "      <td>107</td>\n",
       "      <td>9.0</td>\n",
       "    </tr>\n",
       "    <tr>\n",
       "      <th>...</th>\n",
       "      <td>...</td>\n",
       "      <td>...</td>\n",
       "      <td>...</td>\n",
       "    </tr>\n",
       "    <tr>\n",
       "      <th>1101045161</th>\n",
       "      <td>Namobuddha</td>\n",
       "      <td>105</td>\n",
       "      <td>11.0</td>\n",
       "    </tr>\n",
       "    <tr>\n",
       "      <th>1101045162</th>\n",
       "      <td>Panauti</td>\n",
       "      <td>105</td>\n",
       "      <td>12.0</td>\n",
       "    </tr>\n",
       "    <tr>\n",
       "      <th>1101045163</th>\n",
       "      <td>Panchkhal</td>\n",
       "      <td>105</td>\n",
       "      <td>13.0</td>\n",
       "    </tr>\n",
       "    <tr>\n",
       "      <th>1101049466</th>\n",
       "      <td>Roshi</td>\n",
       "      <td>119</td>\n",
       "      <td>12.0</td>\n",
       "    </tr>\n",
       "    <tr>\n",
       "      <th>1101049462</th>\n",
       "      <td>Temal</td>\n",
       "      <td>119</td>\n",
       "      <td>9.0</td>\n",
       "    </tr>\n",
       "  </tbody>\n",
       "</table>\n",
       "<p>102 rows × 3 columns</p>\n",
       "</div>"
      ],
      "text/plain": [
       "               local_body  local_body_type_id  max_ward\n",
       "local_body_id                                          \n",
       "1001045001         Banepa                 105       NaN\n",
       "1001045002      Dhulikhel                 105       NaN\n",
       "1001045003        Panauti                 105       NaN\n",
       "1001047001         Anekot                 107       9.0\n",
       "1001047002       Balthali                 107       9.0\n",
       "...                   ...                 ...       ...\n",
       "1101045161     Namobuddha                 105      11.0\n",
       "1101045162        Panauti                 105      12.0\n",
       "1101045163      Panchkhal                 105      13.0\n",
       "1101049466          Roshi                 119      12.0\n",
       "1101049462          Temal                 119       9.0\n",
       "\n",
       "[102 rows x 3 columns]"
      ]
     },
     "execution_count": 19,
     "metadata": {},
     "output_type": "execute_result"
    }
   ],
   "source": [
    "kavre_local_filter = (local_bodies['district_id'] == kavre_index[0])\n",
    "kavre_local = local_bodies.loc[kavre_local_filter, ['local_body', 'local_body_type_id', 'max_ward']]\n",
    "kavre_local"
   ]
  },
  {
   "cell_type": "code",
   "execution_count": null,
   "metadata": {},
   "outputs": [],
   "source": []
  }
 ],
 "metadata": {
  "kernelspec": {
   "display_name": "sansui",
   "language": "python",
   "name": "sansui"
  },
  "language_info": {
   "codemirror_mode": {
    "name": "ipython",
    "version": 3
   },
   "file_extension": ".py",
   "mimetype": "text/x-python",
   "name": "python",
   "nbconvert_exporter": "python",
   "pygments_lexer": "ipython3",
   "version": "3.8.17"
  }
 },
 "nbformat": 4,
 "nbformat_minor": 2
}
