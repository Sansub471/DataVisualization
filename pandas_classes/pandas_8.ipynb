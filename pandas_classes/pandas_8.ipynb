{
 "cells": [
  {
   "cell_type": "markdown",
   "metadata": {},
   "source": [
    "Grouping and Aggregating - Analyzing and Exploring Your Data"
   ]
  },
  {
   "cell_type": "code",
   "execution_count": null,
   "metadata": {},
   "outputs": [
    {
     "ename": "",
     "evalue": "",
     "output_type": "error",
     "traceback": [
      "\u001b[1;31mFailed to start the Kernel. \n",
      "\u001b[1;31mUnable to start Kernel 'sansui (Python 3.8.17)' due to a timeout waiting for the ports to get used. \n",
      "\u001b[1;31mView Jupyter <a href='command:jupyter.viewOutput'>log</a> for further details."
     ]
    }
   ],
   "source": [
    "import pandas as pd"
   ]
  },
  {
   "cell_type": "code",
   "execution_count": null,
   "metadata": {},
   "outputs": [],
   "source": [
    "region = pd.read_csv('Data/administrative-divisions/Region.csv', index_col='region_id')\n",
    "district = pd.read_csv('Data/administrative-divisions/Districts.csv', index_col='district_id', dtype={'district_id':'Int64', 'old_region' : 'Int64', 'new_region':'Int64'})\n",
    "local_types = pd.read_csv('Data/administrative-divisions/LocalBodyTypes.csv', index_col='local_body_type_id')\n",
    "local_bodies = pd.read_csv('Data/administrative-divisions/localBodies.csv', index_col='local_body_id')"
   ]
  },
  {
   "cell_type": "code",
   "execution_count": null,
   "metadata": {},
   "outputs": [],
   "source": [
    "filter1 = (region['Region'] == 'Bagmati')    &  (region['old_new'] == 1)\n",
    "filter1_index = region.loc[filter1].index\n",
    "filter1_index"
   ]
  },
  {
   "cell_type": "code",
   "execution_count": null,
   "metadata": {},
   "outputs": [],
   "source": [
    "bag_dis_filter = district['new_region'] == filter1_index[0]\n",
    "bagmati_districts = district.loc[bag_dis_filter, ['District']]\n",
    "bagmati_districts.sort_values(by='District', ascending=False)"
   ]
  },
  {
   "cell_type": "code",
   "execution_count": null,
   "metadata": {},
   "outputs": [],
   "source": [
    "# Let's find all the local bodies of Kavrepalanchok\n",
    "kavrefilter = (bagmati_districts['District'] == 'Kavrepalanchok')\n",
    "kavre_index = bagmati_districts.loc[kavrefilter].index\n",
    "kavre_index"
   ]
  },
  {
   "cell_type": "code",
   "execution_count": null,
   "metadata": {},
   "outputs": [],
   "source": [
    "kavre_local_filter = (local_bodies['district_id'] == kavre_index[0])\n",
    "kavre_local = local_bodies.loc[kavre_local_filter, ['local_body', 'local_body_type_id', 'max_ward']]\n",
    "kavre_local"
   ]
  },
  {
   "cell_type": "code",
   "execution_count": null,
   "metadata": {},
   "outputs": [],
   "source": [
    "# Working with example dataframe\n",
    "people = {\n",
    "    \"first\" : [\"Anish\", \"Ramish\", \"Samish\", \"Bamish\", \"Bamish\"],\n",
    "    \"last\" : [\"Khadka\", \"Mainali\", \"Shrestha\", \"Karki\", \"Mainali\"],\n",
    "    \"email\" : [\"anishramish56@gmail.com\", \"mainaliramish89@gmail.com\", \n",
    "               \"shresthasamish28@gmail.com\", \"bamishkarki819@gmail.com\",\n",
    "               \"bamishmainali78@gmail.com\"]\n",
    "}\n",
    "mydf = pd.DataFrame(people)\n",
    "mydf"
   ]
  },
  {
   "cell_type": "code",
   "execution_count": null,
   "metadata": {},
   "outputs": [],
   "source": [
    "# Aggregation : multiple pieces of data into a single result\n",
    "# df['column_name'].median()\n",
    "# df.median() # For entire data frame where there is numerical value\n",
    "# df.describe()\n"
   ]
  },
  {
   "cell_type": "code",
   "execution_count": null,
   "metadata": {},
   "outputs": [],
   "source": []
  },
  {
   "cell_type": "code",
   "execution_count": null,
   "metadata": {},
   "outputs": [],
   "source": []
  },
  {
   "cell_type": "code",
   "execution_count": null,
   "metadata": {},
   "outputs": [],
   "source": [
    "# Reading real data\n",
    "df = pd.read_csv('Data/stack-overflow-developer-survey-2024/survey_results_public.csv', index_col='ResponseId')\n",
    "schema_df = pd.read_csv('Data/stack-overflow-developer-survey-2024/survey_results_schema.csv', index_col='qname')"
   ]
  },
  {
   "cell_type": "code",
   "execution_count": null,
   "metadata": {},
   "outputs": [],
   "source": [
    "df.describe()"
   ]
  },
  {
   "cell_type": "code",
   "execution_count": null,
   "metadata": {},
   "outputs": [],
   "source": [
    "df['ConvertedCompYearly'].median() # median salary"
   ]
  },
  {
   "cell_type": "code",
   "execution_count": null,
   "metadata": {},
   "outputs": [],
   "source": [
    "df['ConvertedCompYearly'].count()"
   ]
  }
 ],
 "metadata": {
  "kernelspec": {
   "display_name": "sansui",
   "language": "python",
   "name": "sansui"
  },
  "language_info": {
   "codemirror_mode": {
    "name": "ipython",
    "version": 3
   },
   "file_extension": ".py",
   "mimetype": "text/x-python",
   "name": "python",
   "nbconvert_exporter": "python",
   "pygments_lexer": "ipython3",
   "version": "3.8.17"
  }
 },
 "nbformat": 4,
 "nbformat_minor": 2
}
