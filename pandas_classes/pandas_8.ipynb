{
 "cells": [
  {
   "cell_type": "markdown",
   "metadata": {},
   "source": [
    "Grouping and Aggregating - Analyzing and Exploring Your Data"
   ]
  },
  {
   "cell_type": "code",
   "execution_count": 2,
   "metadata": {},
   "outputs": [],
   "source": [
    "import pandas as pd"
   ]
  },
  {
   "cell_type": "code",
   "execution_count": 11,
   "metadata": {},
   "outputs": [],
   "source": [
    "region = pd.read_csv('Data/administrative-divisions/Region.csv', index_col='region_id')\n",
    "district = pd.read_csv('Data/administrative-divisions/Districts.csv', index_col='district_id')\n",
    "local_types = pd.read_csv('Data/administrative-divisions/LocalBodyTypes.csv', index_col='local_body_type_id')\n",
    "local_bodies = pd.read_csv('Data/administrative-divisions/localBodies.csv', index_col='local_body_id')"
   ]
  },
  {
   "cell_type": "code",
   "execution_count": null,
   "metadata": {},
   "outputs": [
    {
     "data": {
      "text/plain": [
       "region_id\n",
       "1001    False\n",
       "1002    False\n",
       "1003    False\n",
       "1004    False\n",
       "1005    False\n",
       "1006    False\n",
       "1007    False\n",
       "1008    False\n",
       "1009    False\n",
       "1010    False\n",
       "1011    False\n",
       "1012    False\n",
       "1013    False\n",
       "1014    False\n",
       "1101    False\n",
       "1102    False\n",
       "1103     True\n",
       "1104    False\n",
       "1105    False\n",
       "1106    False\n",
       "1107    False\n",
       "dtype: bool"
      ]
     },
     "execution_count": 23,
     "metadata": {},
     "output_type": "execute_result"
    }
   ],
   "source": [
    "filter1 = (region['Region'] == 'Bagmati')    &  (region['old_new'] == 1)"
   ]
  },
  {
   "cell_type": "code",
   "execution_count": null,
   "metadata": {},
   "outputs": [],
   "source": []
  }
 ],
 "metadata": {
  "kernelspec": {
   "display_name": "sansui",
   "language": "python",
   "name": "sansui"
  },
  "language_info": {
   "codemirror_mode": {
    "name": "ipython",
    "version": 3
   },
   "file_extension": ".py",
   "mimetype": "text/x-python",
   "name": "python",
   "nbconvert_exporter": "python",
   "pygments_lexer": "ipython3",
   "version": "3.8.17"
  }
 },
 "nbformat": 4,
 "nbformat_minor": 2
}
