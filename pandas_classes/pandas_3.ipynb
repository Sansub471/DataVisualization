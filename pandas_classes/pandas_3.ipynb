{
 "cells": [
  {
   "cell_type": "code",
   "execution_count": 13,
   "metadata": {},
   "outputs": [],
   "source": [
    "import pandas as pd"
   ]
  },
  {
   "cell_type": "code",
   "execution_count": 14,
   "metadata": {},
   "outputs": [],
   "source": [
    "people = {\n",
    "    \"first\" : [\"Anish\", \"Ramish\", \"Samish\", \"Bamish\"],\n",
    "    \"last\" : [\"Khadka\", \"Mainali\", \"Shrestha\", \"Karki\"],\n",
    "    \"email\" : [\"anishramish56@gmail.com\", \"mainaliramish89@gmail.com\", \"shresthasamish28@gmail.com\", \"bamishkarki819@gmail.com\"]\n",
    "}"
   ]
  },
  {
   "cell_type": "code",
   "execution_count": 15,
   "metadata": {},
   "outputs": [
    {
     "data": {
      "text/html": [
       "<div>\n",
       "<style scoped>\n",
       "    .dataframe tbody tr th:only-of-type {\n",
       "        vertical-align: middle;\n",
       "    }\n",
       "\n",
       "    .dataframe tbody tr th {\n",
       "        vertical-align: top;\n",
       "    }\n",
       "\n",
       "    .dataframe thead th {\n",
       "        text-align: right;\n",
       "    }\n",
       "</style>\n",
       "<table border=\"1\" class=\"dataframe\">\n",
       "  <thead>\n",
       "    <tr style=\"text-align: right;\">\n",
       "      <th></th>\n",
       "      <th>first</th>\n",
       "      <th>last</th>\n",
       "      <th>email</th>\n",
       "    </tr>\n",
       "  </thead>\n",
       "  <tbody>\n",
       "    <tr>\n",
       "      <th>0</th>\n",
       "      <td>Anish</td>\n",
       "      <td>Khadka</td>\n",
       "      <td>anishramish56@gmail.com</td>\n",
       "    </tr>\n",
       "    <tr>\n",
       "      <th>1</th>\n",
       "      <td>Ramish</td>\n",
       "      <td>Mainali</td>\n",
       "      <td>mainaliramish89@gmail.com</td>\n",
       "    </tr>\n",
       "    <tr>\n",
       "      <th>2</th>\n",
       "      <td>Samish</td>\n",
       "      <td>Shrestha</td>\n",
       "      <td>shresthasamish28@gmail.com</td>\n",
       "    </tr>\n",
       "    <tr>\n",
       "      <th>3</th>\n",
       "      <td>Bamish</td>\n",
       "      <td>Karki</td>\n",
       "      <td>bamishkarki819@gmail.com</td>\n",
       "    </tr>\n",
       "  </tbody>\n",
       "</table>\n",
       "</div>"
      ],
      "text/plain": [
       "    first      last                       email\n",
       "0   Anish    Khadka     anishramish56@gmail.com\n",
       "1  Ramish   Mainali   mainaliramish89@gmail.com\n",
       "2  Samish  Shrestha  shresthasamish28@gmail.com\n",
       "3  Bamish     Karki    bamishkarki819@gmail.com"
      ]
     },
     "execution_count": 15,
     "metadata": {},
     "output_type": "execute_result"
    }
   ],
   "source": [
    "mydf = pd.DataFrame(people)\n",
    "mydf"
   ]
  },
  {
   "cell_type": "code",
   "execution_count": 16,
   "metadata": {},
   "outputs": [
    {
     "data": {
      "text/plain": [
       "0     Anish\n",
       "1    Ramish\n",
       "2    Samish\n",
       "3    Bamish\n",
       "Name: first, dtype: object"
      ]
     },
     "execution_count": 16,
     "metadata": {},
     "output_type": "execute_result"
    }
   ],
   "source": [
    "mydf['first']"
   ]
  },
  {
   "cell_type": "code",
   "execution_count": 17,
   "metadata": {},
   "outputs": [
    {
     "data": {
      "text/html": [
       "<div>\n",
       "<style scoped>\n",
       "    .dataframe tbody tr th:only-of-type {\n",
       "        vertical-align: middle;\n",
       "    }\n",
       "\n",
       "    .dataframe tbody tr th {\n",
       "        vertical-align: top;\n",
       "    }\n",
       "\n",
       "    .dataframe thead th {\n",
       "        text-align: right;\n",
       "    }\n",
       "</style>\n",
       "<table border=\"1\" class=\"dataframe\">\n",
       "  <thead>\n",
       "    <tr style=\"text-align: right;\">\n",
       "      <th></th>\n",
       "      <th>first</th>\n",
       "      <th>last</th>\n",
       "      <th>email</th>\n",
       "    </tr>\n",
       "  </thead>\n",
       "  <tbody>\n",
       "    <tr>\n",
       "      <th>0</th>\n",
       "      <td>Anish</td>\n",
       "      <td>Khadka</td>\n",
       "      <td>anishramish56@gmail.com</td>\n",
       "    </tr>\n",
       "    <tr>\n",
       "      <th>1</th>\n",
       "      <td>Ramish</td>\n",
       "      <td>Mainali</td>\n",
       "      <td>mainaliramish89@gmail.com</td>\n",
       "    </tr>\n",
       "  </tbody>\n",
       "</table>\n",
       "</div>"
      ],
      "text/plain": [
       "    first     last                      email\n",
       "0   Anish   Khadka    anishramish56@gmail.com\n",
       "1  Ramish  Mainali  mainaliramish89@gmail.com"
      ]
     },
     "execution_count": 17,
     "metadata": {},
     "output_type": "execute_result"
    }
   ],
   "source": [
    "mydf.iloc[0:2]"
   ]
  },
  {
   "cell_type": "markdown",
   "metadata": {},
   "source": [
    "# Day 3 - All About Indexes"
   ]
  },
  {
   "cell_type": "code",
   "execution_count": 18,
   "metadata": {},
   "outputs": [
    {
     "data": {
      "text/html": [
       "<div>\n",
       "<style scoped>\n",
       "    .dataframe tbody tr th:only-of-type {\n",
       "        vertical-align: middle;\n",
       "    }\n",
       "\n",
       "    .dataframe tbody tr th {\n",
       "        vertical-align: top;\n",
       "    }\n",
       "\n",
       "    .dataframe thead th {\n",
       "        text-align: right;\n",
       "    }\n",
       "</style>\n",
       "<table border=\"1\" class=\"dataframe\">\n",
       "  <thead>\n",
       "    <tr style=\"text-align: right;\">\n",
       "      <th></th>\n",
       "      <th>first</th>\n",
       "      <th>last</th>\n",
       "      <th>email</th>\n",
       "    </tr>\n",
       "  </thead>\n",
       "  <tbody>\n",
       "    <tr>\n",
       "      <th>0</th>\n",
       "      <td>Anish</td>\n",
       "      <td>Khadka</td>\n",
       "      <td>anishramish56@gmail.com</td>\n",
       "    </tr>\n",
       "    <tr>\n",
       "      <th>1</th>\n",
       "      <td>Ramish</td>\n",
       "      <td>Mainali</td>\n",
       "      <td>mainaliramish89@gmail.com</td>\n",
       "    </tr>\n",
       "    <tr>\n",
       "      <th>2</th>\n",
       "      <td>Samish</td>\n",
       "      <td>Shrestha</td>\n",
       "      <td>shresthasamish28@gmail.com</td>\n",
       "    </tr>\n",
       "    <tr>\n",
       "      <th>3</th>\n",
       "      <td>Bamish</td>\n",
       "      <td>Karki</td>\n",
       "      <td>bamishkarki819@gmail.com</td>\n",
       "    </tr>\n",
       "  </tbody>\n",
       "</table>\n",
       "</div>"
      ],
      "text/plain": [
       "    first      last                       email\n",
       "0   Anish    Khadka     anishramish56@gmail.com\n",
       "1  Ramish   Mainali   mainaliramish89@gmail.com\n",
       "2  Samish  Shrestha  shresthasamish28@gmail.com\n",
       "3  Bamish     Karki    bamishkarki819@gmail.com"
      ]
     },
     "execution_count": 18,
     "metadata": {},
     "output_type": "execute_result"
    }
   ],
   "source": [
    "mydf"
   ]
  },
  {
   "cell_type": "code",
   "execution_count": 19,
   "metadata": {},
   "outputs": [
    {
     "data": {
      "text/plain": [
       "0       anishramish56@gmail.com\n",
       "1     mainaliramish89@gmail.com\n",
       "2    shresthasamish28@gmail.com\n",
       "3      bamishkarki819@gmail.com\n",
       "Name: email, dtype: object"
      ]
     },
     "execution_count": 19,
     "metadata": {},
     "output_type": "execute_result"
    }
   ],
   "source": [
    "# The far left has indexes, range of numbers i.e. integer identifiers\n",
    "# This could be a unique value, but pandas doesn't enforce it to be unique\n",
    "mydf['email']"
   ]
  },
  {
   "cell_type": "code",
   "execution_count": 20,
   "metadata": {},
   "outputs": [
    {
     "data": {
      "text/html": [
       "<div>\n",
       "<style scoped>\n",
       "    .dataframe tbody tr th:only-of-type {\n",
       "        vertical-align: middle;\n",
       "    }\n",
       "\n",
       "    .dataframe tbody tr th {\n",
       "        vertical-align: top;\n",
       "    }\n",
       "\n",
       "    .dataframe thead th {\n",
       "        text-align: right;\n",
       "    }\n",
       "</style>\n",
       "<table border=\"1\" class=\"dataframe\">\n",
       "  <thead>\n",
       "    <tr style=\"text-align: right;\">\n",
       "      <th></th>\n",
       "      <th>first</th>\n",
       "      <th>last</th>\n",
       "    </tr>\n",
       "    <tr>\n",
       "      <th>email</th>\n",
       "      <th></th>\n",
       "      <th></th>\n",
       "    </tr>\n",
       "  </thead>\n",
       "  <tbody>\n",
       "    <tr>\n",
       "      <th>anishramish56@gmail.com</th>\n",
       "      <td>Anish</td>\n",
       "      <td>Khadka</td>\n",
       "    </tr>\n",
       "    <tr>\n",
       "      <th>mainaliramish89@gmail.com</th>\n",
       "      <td>Ramish</td>\n",
       "      <td>Mainali</td>\n",
       "    </tr>\n",
       "    <tr>\n",
       "      <th>shresthasamish28@gmail.com</th>\n",
       "      <td>Samish</td>\n",
       "      <td>Shrestha</td>\n",
       "    </tr>\n",
       "    <tr>\n",
       "      <th>bamishkarki819@gmail.com</th>\n",
       "      <td>Bamish</td>\n",
       "      <td>Karki</td>\n",
       "    </tr>\n",
       "  </tbody>\n",
       "</table>\n",
       "</div>"
      ],
      "text/plain": [
       "                             first      last\n",
       "email                                       \n",
       "anishramish56@gmail.com      Anish    Khadka\n",
       "mainaliramish89@gmail.com   Ramish   Mainali\n",
       "shresthasamish28@gmail.com  Samish  Shrestha\n",
       "bamishkarki819@gmail.com    Bamish     Karki"
      ]
     },
     "execution_count": 20,
     "metadata": {},
     "output_type": "execute_result"
    }
   ],
   "source": [
    "mydf.set_index('email') # the original df is not modified\n",
    "mydf.set_index('email', inplace=True) # the original df is modified\n",
    "mydf"
   ]
  },
  {
   "cell_type": "code",
   "execution_count": 21,
   "metadata": {},
   "outputs": [
    {
     "data": {
      "text/plain": [
       "Index(['anishramish56@gmail.com', 'mainaliramish89@gmail.com',\n",
       "       'shresthasamish28@gmail.com', 'bamishkarki819@gmail.com'],\n",
       "      dtype='object', name='email')"
      ]
     },
     "execution_count": 21,
     "metadata": {},
     "output_type": "execute_result"
    }
   ],
   "source": [
    "mydf.index # The indexes of the dataframe"
   ]
  },
  {
   "cell_type": "code",
   "execution_count": 22,
   "metadata": {},
   "outputs": [
    {
     "data": {
      "text/plain": [
       "first      Samish\n",
       "last     Shrestha\n",
       "Name: shresthasamish28@gmail.com, dtype: object"
      ]
     },
     "execution_count": 22,
     "metadata": {},
     "output_type": "execute_result"
    }
   ],
   "source": [
    "mydf.loc['shresthasamish28@gmail.com']"
   ]
  },
  {
   "cell_type": "code",
   "execution_count": null,
   "metadata": {},
   "outputs": [
    {
     "data": {
      "text/plain": [
       "first     Anish\n",
       "last     Khadka\n",
       "Name: anishramish56@gmail.com, dtype: object"
      ]
     },
     "execution_count": 23,
     "metadata": {},
     "output_type": "execute_result"
    }
   ],
   "source": [
    "mydf.iloc[0] # integer location works but previous df.loc[0] won't work"
   ]
  },
  {
   "cell_type": "code",
   "execution_count": 24,
   "metadata": {},
   "outputs": [
    {
     "data": {
      "text/html": [
       "<div>\n",
       "<style scoped>\n",
       "    .dataframe tbody tr th:only-of-type {\n",
       "        vertical-align: middle;\n",
       "    }\n",
       "\n",
       "    .dataframe tbody tr th {\n",
       "        vertical-align: top;\n",
       "    }\n",
       "\n",
       "    .dataframe thead th {\n",
       "        text-align: right;\n",
       "    }\n",
       "</style>\n",
       "<table border=\"1\" class=\"dataframe\">\n",
       "  <thead>\n",
       "    <tr style=\"text-align: right;\">\n",
       "      <th></th>\n",
       "      <th>email</th>\n",
       "      <th>first</th>\n",
       "      <th>last</th>\n",
       "    </tr>\n",
       "  </thead>\n",
       "  <tbody>\n",
       "    <tr>\n",
       "      <th>0</th>\n",
       "      <td>anishramish56@gmail.com</td>\n",
       "      <td>Anish</td>\n",
       "      <td>Khadka</td>\n",
       "    </tr>\n",
       "    <tr>\n",
       "      <th>1</th>\n",
       "      <td>mainaliramish89@gmail.com</td>\n",
       "      <td>Ramish</td>\n",
       "      <td>Mainali</td>\n",
       "    </tr>\n",
       "    <tr>\n",
       "      <th>2</th>\n",
       "      <td>shresthasamish28@gmail.com</td>\n",
       "      <td>Samish</td>\n",
       "      <td>Shrestha</td>\n",
       "    </tr>\n",
       "    <tr>\n",
       "      <th>3</th>\n",
       "      <td>bamishkarki819@gmail.com</td>\n",
       "      <td>Bamish</td>\n",
       "      <td>Karki</td>\n",
       "    </tr>\n",
       "  </tbody>\n",
       "</table>\n",
       "</div>"
      ],
      "text/plain": [
       "                        email   first      last\n",
       "0     anishramish56@gmail.com   Anish    Khadka\n",
       "1   mainaliramish89@gmail.com  Ramish   Mainali\n",
       "2  shresthasamish28@gmail.com  Samish  Shrestha\n",
       "3    bamishkarki819@gmail.com  Bamish     Karki"
      ]
     },
     "execution_count": 24,
     "metadata": {},
     "output_type": "execute_result"
    }
   ],
   "source": [
    "# to reset the index\n",
    "mydf.reset_index(inplace=True)\n",
    "mydf"
   ]
  },
  {
   "cell_type": "code",
   "execution_count": 43,
   "metadata": {},
   "outputs": [],
   "source": [
    "# Look at the real data file\n",
    "df = pd.read_csv('Data/stack-overflow-developer-survey-2024/survey_results_public.csv', index_col='ResponseId')\n",
    "schema_df = pd.read_csv('Data/stack-overflow-developer-survey-2024/survey_results_schema.csv', index_col='qname')"
   ]
  },
  {
   "cell_type": "code",
   "execution_count": 29,
   "metadata": {},
   "outputs": [
    {
     "data": {
      "text/html": [
       "<div>\n",
       "<style scoped>\n",
       "    .dataframe tbody tr th:only-of-type {\n",
       "        vertical-align: middle;\n",
       "    }\n",
       "\n",
       "    .dataframe tbody tr th {\n",
       "        vertical-align: top;\n",
       "    }\n",
       "\n",
       "    .dataframe thead th {\n",
       "        text-align: right;\n",
       "    }\n",
       "</style>\n",
       "<table border=\"1\" class=\"dataframe\">\n",
       "  <thead>\n",
       "    <tr style=\"text-align: right;\">\n",
       "      <th></th>\n",
       "      <th>MainBranch</th>\n",
       "      <th>Age</th>\n",
       "      <th>Employment</th>\n",
       "      <th>RemoteWork</th>\n",
       "      <th>Check</th>\n",
       "      <th>CodingActivities</th>\n",
       "      <th>EdLevel</th>\n",
       "      <th>LearnCode</th>\n",
       "      <th>LearnCodeOnline</th>\n",
       "      <th>TechDoc</th>\n",
       "      <th>...</th>\n",
       "      <th>JobSatPoints_6</th>\n",
       "      <th>JobSatPoints_7</th>\n",
       "      <th>JobSatPoints_8</th>\n",
       "      <th>JobSatPoints_9</th>\n",
       "      <th>JobSatPoints_10</th>\n",
       "      <th>JobSatPoints_11</th>\n",
       "      <th>SurveyLength</th>\n",
       "      <th>SurveyEase</th>\n",
       "      <th>ConvertedCompYearly</th>\n",
       "      <th>JobSat</th>\n",
       "    </tr>\n",
       "    <tr>\n",
       "      <th>ResponseId</th>\n",
       "      <th></th>\n",
       "      <th></th>\n",
       "      <th></th>\n",
       "      <th></th>\n",
       "      <th></th>\n",
       "      <th></th>\n",
       "      <th></th>\n",
       "      <th></th>\n",
       "      <th></th>\n",
       "      <th></th>\n",
       "      <th></th>\n",
       "      <th></th>\n",
       "      <th></th>\n",
       "      <th></th>\n",
       "      <th></th>\n",
       "      <th></th>\n",
       "      <th></th>\n",
       "      <th></th>\n",
       "      <th></th>\n",
       "      <th></th>\n",
       "      <th></th>\n",
       "    </tr>\n",
       "  </thead>\n",
       "  <tbody>\n",
       "    <tr>\n",
       "      <th>1</th>\n",
       "      <td>I am a developer by profession</td>\n",
       "      <td>Under 18 years old</td>\n",
       "      <td>Employed, full-time</td>\n",
       "      <td>Remote</td>\n",
       "      <td>Apples</td>\n",
       "      <td>Hobby</td>\n",
       "      <td>Primary/elementary school</td>\n",
       "      <td>Books / Physical media</td>\n",
       "      <td>NaN</td>\n",
       "      <td>NaN</td>\n",
       "      <td>...</td>\n",
       "      <td>NaN</td>\n",
       "      <td>NaN</td>\n",
       "      <td>NaN</td>\n",
       "      <td>NaN</td>\n",
       "      <td>NaN</td>\n",
       "      <td>NaN</td>\n",
       "      <td>NaN</td>\n",
       "      <td>NaN</td>\n",
       "      <td>NaN</td>\n",
       "      <td>NaN</td>\n",
       "    </tr>\n",
       "    <tr>\n",
       "      <th>2</th>\n",
       "      <td>I am a developer by profession</td>\n",
       "      <td>35-44 years old</td>\n",
       "      <td>Employed, full-time</td>\n",
       "      <td>Remote</td>\n",
       "      <td>Apples</td>\n",
       "      <td>Hobby;Contribute to open-source projects;Other...</td>\n",
       "      <td>Bachelor’s degree (B.A., B.S., B.Eng., etc.)</td>\n",
       "      <td>Books / Physical media;Colleague;On the job tr...</td>\n",
       "      <td>Technical documentation;Blogs;Books;Written Tu...</td>\n",
       "      <td>API document(s) and/or SDK document(s);User gu...</td>\n",
       "      <td>...</td>\n",
       "      <td>0.0</td>\n",
       "      <td>0.0</td>\n",
       "      <td>0.0</td>\n",
       "      <td>0.0</td>\n",
       "      <td>0.0</td>\n",
       "      <td>0.0</td>\n",
       "      <td>NaN</td>\n",
       "      <td>NaN</td>\n",
       "      <td>NaN</td>\n",
       "      <td>NaN</td>\n",
       "    </tr>\n",
       "  </tbody>\n",
       "</table>\n",
       "<p>2 rows × 113 columns</p>\n",
       "</div>"
      ],
      "text/plain": [
       "                                MainBranch                 Age  \\\n",
       "ResponseId                                                       \n",
       "1           I am a developer by profession  Under 18 years old   \n",
       "2           I am a developer by profession     35-44 years old   \n",
       "\n",
       "                     Employment RemoteWork   Check  \\\n",
       "ResponseId                                           \n",
       "1           Employed, full-time     Remote  Apples   \n",
       "2           Employed, full-time     Remote  Apples   \n",
       "\n",
       "                                             CodingActivities  \\\n",
       "ResponseId                                                      \n",
       "1                                                       Hobby   \n",
       "2           Hobby;Contribute to open-source projects;Other...   \n",
       "\n",
       "                                                 EdLevel  \\\n",
       "ResponseId                                                 \n",
       "1                              Primary/elementary school   \n",
       "2           Bachelor’s degree (B.A., B.S., B.Eng., etc.)   \n",
       "\n",
       "                                                    LearnCode  \\\n",
       "ResponseId                                                      \n",
       "1                                      Books / Physical media   \n",
       "2           Books / Physical media;Colleague;On the job tr...   \n",
       "\n",
       "                                              LearnCodeOnline  \\\n",
       "ResponseId                                                      \n",
       "1                                                         NaN   \n",
       "2           Technical documentation;Blogs;Books;Written Tu...   \n",
       "\n",
       "                                                      TechDoc  ...  \\\n",
       "ResponseId                                                     ...   \n",
       "1                                                         NaN  ...   \n",
       "2           API document(s) and/or SDK document(s);User gu...  ...   \n",
       "\n",
       "           JobSatPoints_6 JobSatPoints_7 JobSatPoints_8 JobSatPoints_9  \\\n",
       "ResponseId                                                               \n",
       "1                     NaN            NaN            NaN            NaN   \n",
       "2                     0.0            0.0            0.0            0.0   \n",
       "\n",
       "           JobSatPoints_10 JobSatPoints_11 SurveyLength SurveyEase  \\\n",
       "ResponseId                                                           \n",
       "1                      NaN             NaN          NaN        NaN   \n",
       "2                      0.0             0.0          NaN        NaN   \n",
       "\n",
       "           ConvertedCompYearly JobSat  \n",
       "ResponseId                             \n",
       "1                          NaN    NaN  \n",
       "2                          NaN    NaN  \n",
       "\n",
       "[2 rows x 113 columns]"
      ]
     },
     "execution_count": 29,
     "metadata": {},
     "output_type": "execute_result"
    }
   ],
   "source": [
    "df.head(2)"
   ]
  },
  {
   "cell_type": "code",
   "execution_count": 44,
   "metadata": {},
   "outputs": [
    {
     "data": {
      "text/html": [
       "<div>\n",
       "<style scoped>\n",
       "    .dataframe tbody tr th:only-of-type {\n",
       "        vertical-align: middle;\n",
       "    }\n",
       "\n",
       "    .dataframe tbody tr th {\n",
       "        vertical-align: top;\n",
       "    }\n",
       "\n",
       "    .dataframe thead th {\n",
       "        text-align: right;\n",
       "    }\n",
       "</style>\n",
       "<table border=\"1\" class=\"dataframe\">\n",
       "  <thead>\n",
       "    <tr style=\"text-align: right;\">\n",
       "      <th></th>\n",
       "      <th>qid</th>\n",
       "      <th>question</th>\n",
       "      <th>force_resp</th>\n",
       "      <th>type</th>\n",
       "      <th>selector</th>\n",
       "    </tr>\n",
       "    <tr>\n",
       "      <th>qname</th>\n",
       "      <th></th>\n",
       "      <th></th>\n",
       "      <th></th>\n",
       "      <th></th>\n",
       "      <th></th>\n",
       "    </tr>\n",
       "  </thead>\n",
       "  <tbody>\n",
       "    <tr>\n",
       "      <th>MainBranch</th>\n",
       "      <td>QID2</td>\n",
       "      <td>Which of the following options best describes ...</td>\n",
       "      <td>True</td>\n",
       "      <td>MC</td>\n",
       "      <td>SAVR</td>\n",
       "    </tr>\n",
       "    <tr>\n",
       "      <th>Age</th>\n",
       "      <td>QID127</td>\n",
       "      <td>What is your age?*</td>\n",
       "      <td>True</td>\n",
       "      <td>MC</td>\n",
       "      <td>SAVR</td>\n",
       "    </tr>\n",
       "  </tbody>\n",
       "</table>\n",
       "</div>"
      ],
      "text/plain": [
       "               qid                                           question  \\\n",
       "qname                                                                   \n",
       "MainBranch    QID2  Which of the following options best describes ...   \n",
       "Age         QID127                                 What is your age?*   \n",
       "\n",
       "           force_resp type selector  \n",
       "qname                                \n",
       "MainBranch       True   MC     SAVR  \n",
       "Age              True   MC     SAVR  "
      ]
     },
     "execution_count": 44,
     "metadata": {},
     "output_type": "execute_result"
    }
   ],
   "source": [
    "schema_df.head(2)"
   ]
  },
  {
   "cell_type": "code",
   "execution_count": 45,
   "metadata": {},
   "outputs": [
    {
     "data": {
      "text/plain": [
       "'What is the source of the technical documentation you use most often to learn to code?  Select all that apply.'"
      ]
     },
     "execution_count": 45,
     "metadata": {},
     "output_type": "execute_result"
    }
   ],
   "source": [
    "schema_df.loc['TechDoc', 'question']"
   ]
  },
  {
   "cell_type": "code",
   "execution_count": 51,
   "metadata": {},
   "outputs": [
    {
     "data": {
      "text/plain": [
       "'Which of the following options best describes you today? For the purpose of this survey, a developer is \"someone who writes code\".*'"
      ]
     },
     "execution_count": 51,
     "metadata": {},
     "output_type": "execute_result"
    }
   ],
   "source": [
    "schema_df.loc['MainBranch', 'question']"
   ]
  },
  {
   "cell_type": "code",
   "execution_count": 54,
   "metadata": {},
   "outputs": [
    {
     "data": {
      "text/html": [
       "<div>\n",
       "<style scoped>\n",
       "    .dataframe tbody tr th:only-of-type {\n",
       "        vertical-align: middle;\n",
       "    }\n",
       "\n",
       "    .dataframe tbody tr th {\n",
       "        vertical-align: top;\n",
       "    }\n",
       "\n",
       "    .dataframe thead th {\n",
       "        text-align: right;\n",
       "    }\n",
       "</style>\n",
       "<table border=\"1\" class=\"dataframe\">\n",
       "  <thead>\n",
       "    <tr style=\"text-align: right;\">\n",
       "      <th></th>\n",
       "      <th>qid</th>\n",
       "      <th>question</th>\n",
       "      <th>force_resp</th>\n",
       "      <th>type</th>\n",
       "      <th>selector</th>\n",
       "    </tr>\n",
       "    <tr>\n",
       "      <th>qname</th>\n",
       "      <th></th>\n",
       "      <th></th>\n",
       "      <th></th>\n",
       "      <th></th>\n",
       "      <th></th>\n",
       "    </tr>\n",
       "  </thead>\n",
       "  <tbody>\n",
       "    <tr>\n",
       "      <th>AIAcc</th>\n",
       "      <td>QID316</td>\n",
       "      <td>How much do you trust the accuracy of the outp...</td>\n",
       "      <td>False</td>\n",
       "      <td>MC</td>\n",
       "      <td>SAVR</td>\n",
       "    </tr>\n",
       "    <tr>\n",
       "      <th>AIBen</th>\n",
       "      <td>QID324</td>\n",
       "      <td>For the AI tools you use as part of your devel...</td>\n",
       "      <td>False</td>\n",
       "      <td>MC</td>\n",
       "      <td>MAVR</td>\n",
       "    </tr>\n",
       "    <tr>\n",
       "      <th>AIChallenges</th>\n",
       "      <td>QID346</td>\n",
       "      <td>What are the challenges to your company/whole ...</td>\n",
       "      <td>False</td>\n",
       "      <td>MC</td>\n",
       "      <td>MAVR</td>\n",
       "    </tr>\n",
       "    <tr>\n",
       "      <th>AIComplex</th>\n",
       "      <td>QID343</td>\n",
       "      <td>How well do the AI tools you use in your devel...</td>\n",
       "      <td>False</td>\n",
       "      <td>MC</td>\n",
       "      <td>SAVR</td>\n",
       "    </tr>\n",
       "    <tr>\n",
       "      <th>AIEthics</th>\n",
       "      <td>QID339</td>\n",
       "      <td>Which AI ethical responsibilities are most imp...</td>\n",
       "      <td>False</td>\n",
       "      <td>MC</td>\n",
       "      <td>MAVR</td>\n",
       "    </tr>\n",
       "    <tr>\n",
       "      <th>AINext</th>\n",
       "      <td>QID320</td>\n",
       "      <td>Thinking about how your job and process change...</td>\n",
       "      <td>False</td>\n",
       "      <td>Matrix</td>\n",
       "      <td>Likert</td>\n",
       "    </tr>\n",
       "    <tr>\n",
       "      <th>AISearchDev</th>\n",
       "      <td>QID327</td>\n",
       "      <td>Which &lt;b&gt;AI-powered search and developer tools...</td>\n",
       "      <td>False</td>\n",
       "      <td>Matrix</td>\n",
       "      <td>Likert</td>\n",
       "    </tr>\n",
       "    <tr>\n",
       "      <th>AISelect</th>\n",
       "      <td>QID314</td>\n",
       "      <td>Do you currently use AI tools in your developm...</td>\n",
       "      <td>True</td>\n",
       "      <td>MC</td>\n",
       "      <td>SAVR</td>\n",
       "    </tr>\n",
       "    <tr>\n",
       "      <th>AISent</th>\n",
       "      <td>QID315</td>\n",
       "      <td>How favorable is your stance on using AI tools...</td>\n",
       "      <td>False</td>\n",
       "      <td>MC</td>\n",
       "      <td>SAVR</td>\n",
       "    </tr>\n",
       "    <tr>\n",
       "      <th>AIThreat</th>\n",
       "      <td>QID338</td>\n",
       "      <td>Do you believe AI is a threat to your current ...</td>\n",
       "      <td>False</td>\n",
       "      <td>MC</td>\n",
       "      <td>SAVR</td>\n",
       "    </tr>\n",
       "  </tbody>\n",
       "</table>\n",
       "</div>"
      ],
      "text/plain": [
       "                 qid                                           question  \\\n",
       "qname                                                                     \n",
       "AIAcc         QID316  How much do you trust the accuracy of the outp...   \n",
       "AIBen         QID324  For the AI tools you use as part of your devel...   \n",
       "AIChallenges  QID346  What are the challenges to your company/whole ...   \n",
       "AIComplex     QID343  How well do the AI tools you use in your devel...   \n",
       "AIEthics      QID339  Which AI ethical responsibilities are most imp...   \n",
       "AINext        QID320  Thinking about how your job and process change...   \n",
       "AISearchDev   QID327  Which <b>AI-powered search and developer tools...   \n",
       "AISelect      QID314  Do you currently use AI tools in your developm...   \n",
       "AISent        QID315  How favorable is your stance on using AI tools...   \n",
       "AIThreat      QID338  Do you believe AI is a threat to your current ...   \n",
       "\n",
       "             force_resp    type selector  \n",
       "qname                                     \n",
       "AIAcc             False      MC     SAVR  \n",
       "AIBen             False      MC     MAVR  \n",
       "AIChallenges      False      MC     MAVR  \n",
       "AIComplex         False      MC     SAVR  \n",
       "AIEthics          False      MC     MAVR  \n",
       "AINext            False  Matrix   Likert  \n",
       "AISearchDev       False  Matrix   Likert  \n",
       "AISelect           True      MC     SAVR  \n",
       "AISent            False      MC     SAVR  \n",
       "AIThreat          False      MC     SAVR  "
      ]
     },
     "execution_count": 54,
     "metadata": {},
     "output_type": "execute_result"
    }
   ],
   "source": [
    "schema_df.sort_index(ascending=True, inplace=True) # self explanatory\n",
    "schema_df.head(10)"
   ]
  },
  {
   "cell_type": "code",
   "execution_count": null,
   "metadata": {},
   "outputs": [],
   "source": []
  }
 ],
 "metadata": {
  "kernelspec": {
   "display_name": "sansui",
   "language": "python",
   "name": "sansui"
  },
  "language_info": {
   "codemirror_mode": {
    "name": "ipython",
    "version": 3
   },
   "file_extension": ".py",
   "mimetype": "text/x-python",
   "name": "python",
   "nbconvert_exporter": "python",
   "pygments_lexer": "ipython3",
   "version": "3.8.17"
  }
 },
 "nbformat": 4,
 "nbformat_minor": 2
}
